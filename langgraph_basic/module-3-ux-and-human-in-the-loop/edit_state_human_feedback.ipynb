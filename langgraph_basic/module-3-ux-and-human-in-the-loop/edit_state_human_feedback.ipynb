{
  "cells": [
    {
      "cell_type": "markdown",
      "id": "147e576c",
      "metadata": {
        "id": "147e576c"
      },
      "source": [
        "[![Open in Colab](https://colab.research.google.com/assets/colab-badge.svg)](https://colab.research.google.com/github/langchain-ai/langchain-academy/blob/main/module-3/edit-state-human-feedback.ipynb) [![Open in LangChain Academy](https://cdn.prod.website-files.com/65b8cd72835ceeacd4449a53/66e9eba12c7b7688aa3dbb5e_LCA-badge-green.svg)](https://academy.langchain.com/courses/take/intro-to-langgraph/lessons/58239520-lesson-3-editing-state-and-human-feedback)"
      ]
    },
    {
      "cell_type": "markdown",
      "id": "3b2f2448-21c3-4196-9e61-0b47e7d0048b",
      "metadata": {
        "id": "3b2f2448-21c3-4196-9e61-0b47e7d0048b"
      },
      "source": [
        "# Editing graph state\n",
        "\n",
        "## Review\n",
        "\n",
        "We discussed motivations for human-in-the-loop:\n",
        "\n",
        "(1) `Approval` - We can interrupt our agent, surface state to a user, and allow the user to accept an action\n",
        "\n",
        "(2) `Debugging` - We can rewind the graph to reproduce or avoid issues\n",
        "\n",
        "(3) `Editing` - You can modify the state\n",
        "\n",
        "We showed how breakpoints support user approval, but don't yet know how to modify our graph state once our graph is interrupted!\n",
        "\n",
        "## Goals\n",
        "\n",
        "Now, let's show how to directly edit the graph state and insert human feedback."
      ]
    },
    {
      "cell_type": "code",
      "source": [
        "### Mount Notebook to Google Drive\n",
        "from google.colab import drive\n",
        "drive.mount('/content/drive')\n",
        "# change the working directory to the Drive root\n",
        "%cd /content/drive/My\\ Drive/Colab\\ Notebooks/langchain-academy-main/module-3"
      ],
      "metadata": {
        "colab": {
          "base_uri": "https://localhost:8080/"
        },
        "id": "MrG5vvjFGgOG",
        "outputId": "3f56b5be-e86e-4e6f-b5a9-d6263fdce3dc"
      },
      "execution_count": 1,
      "outputs": [
        {
          "output_type": "stream",
          "name": "stdout",
          "text": [
            "Mounted at /content/drive\n",
            "/content/drive/My Drive/Colab Notebooks/langchain-academy-main/module-3\n"
          ]
        }
      ],
      "id": "MrG5vvjFGgOG"
    },
    {
      "cell_type": "code",
      "source": [
        "!pip install --quiet -U langchain-google-genai langgraph langgraph_sdk langgraph-prebuilt"
      ],
      "metadata": {
        "colab": {
          "base_uri": "https://localhost:8080/"
        },
        "id": "pOIAnY-oGxnX",
        "outputId": "c9e45430-0ad1-4df3-8795-f584391064a4"
      },
      "execution_count": 2,
      "outputs": [
        {
          "output_type": "stream",
          "name": "stdout",
          "text": [
            "\u001b[2K     \u001b[90m━━━━━━━━━━━━━━━━━━━━━━━━━━━━━━━━━━━━━━━━\u001b[0m \u001b[32m43.7/43.7 kB\u001b[0m \u001b[31m2.2 MB/s\u001b[0m eta \u001b[36m0:00:00\u001b[0m\n",
            "\u001b[2K   \u001b[90m━━━━━━━━━━━━━━━━━━━━━━━━━━━━━━━━━━━━━━━━\u001b[0m \u001b[32m49.4/49.4 kB\u001b[0m \u001b[31m3.6 MB/s\u001b[0m eta \u001b[36m0:00:00\u001b[0m\n",
            "\u001b[2K   \u001b[90m━━━━━━━━━━━━━━━━━━━━━━━━━━━━━━━━━━━━━━━━\u001b[0m \u001b[32m153.3/153.3 kB\u001b[0m \u001b[31m5.5 MB/s\u001b[0m eta \u001b[36m0:00:00\u001b[0m\n",
            "\u001b[2K   \u001b[90m━━━━━━━━━━━━━━━━━━━━━━━━━━━━━━━━━━━━━━━━\u001b[0m \u001b[32m52.6/52.6 kB\u001b[0m \u001b[31m3.5 MB/s\u001b[0m eta \u001b[36m0:00:00\u001b[0m\n",
            "\u001b[2K   \u001b[90m━━━━━━━━━━━━━━━━━━━━━━━━━━━━━━━━━━━━━━━━\u001b[0m \u001b[32m1.4/1.4 MB\u001b[0m \u001b[31m29.6 MB/s\u001b[0m eta \u001b[36m0:00:00\u001b[0m\n",
            "\u001b[2K   \u001b[90m━━━━━━━━━━━━━━━━━━━━━━━━━━━━━━━━━━━━━━━━\u001b[0m \u001b[32m444.0/444.0 kB\u001b[0m \u001b[31m29.0 MB/s\u001b[0m eta \u001b[36m0:00:00\u001b[0m\n",
            "\u001b[2K   \u001b[90m━━━━━━━━━━━━━━━━━━━━━━━━━━━━━━━━━━━━━━━━\u001b[0m \u001b[32m43.9/43.9 kB\u001b[0m \u001b[31m2.9 MB/s\u001b[0m eta \u001b[36m0:00:00\u001b[0m\n",
            "\u001b[2K   \u001b[90m━━━━━━━━━━━━━━━━━━━━━━━━━━━━━━━━━━━━━━━━\u001b[0m \u001b[32m216.7/216.7 kB\u001b[0m \u001b[31m14.6 MB/s\u001b[0m eta \u001b[36m0:00:00\u001b[0m\n",
            "\u001b[?25h\u001b[31mERROR: pip's dependency resolver does not currently take into account all the packages that are installed. This behaviour is the source of the following dependency conflicts.\n",
            "google-generativeai 0.8.5 requires google-ai-generativelanguage==0.6.15, but you have google-ai-generativelanguage 0.6.18 which is incompatible.\u001b[0m\u001b[31m\n",
            "\u001b[0m"
          ]
        }
      ],
      "id": "pOIAnY-oGxnX"
    },
    {
      "cell_type": "code",
      "source": [
        "!pip install --quiet python-dotenv"
      ],
      "metadata": {
        "id": "n9k9ZKUaHA5l"
      },
      "execution_count": 3,
      "outputs": [],
      "id": "n9k9ZKUaHA5l"
    },
    {
      "cell_type": "code",
      "source": [
        "from dotenv import load_dotenv\n",
        "load_dotenv(\".env\")"
      ],
      "metadata": {
        "colab": {
          "base_uri": "https://localhost:8080/"
        },
        "id": "nB4-CZXlHAbB",
        "outputId": "a4ef9f53-ab42-49dd-b200-515cfe3cfd51"
      },
      "execution_count": 4,
      "outputs": [
        {
          "output_type": "execute_result",
          "data": {
            "text/plain": [
              "True"
            ]
          },
          "metadata": {},
          "execution_count": 4
        }
      ],
      "id": "nB4-CZXlHAbB"
    },
    {
      "cell_type": "code",
      "execution_count": null,
      "id": "95d26b8c-d958-4d21-9ca4-4636d3dfe45c",
      "metadata": {
        "id": "95d26b8c-d958-4d21-9ca4-4636d3dfe45c"
      },
      "outputs": [],
      "source": [
        "%%capture --no-stderr\n",
        "%pip install --quiet -U langgraph langchain_openai langgraph_sdk langgraph-prebuilt"
      ]
    },
    {
      "cell_type": "code",
      "execution_count": null,
      "id": "d5948594",
      "metadata": {
        "id": "d5948594"
      },
      "outputs": [],
      "source": [
        "import os, getpass\n",
        "\n",
        "def _set_env(var: str):\n",
        "    if not os.environ.get(var):\n",
        "        os.environ[var] = getpass.getpass(f\"{var}: \")\n",
        "\n",
        "_set_env(\"GOOGLE_API_KEY\")"
      ]
    },
    {
      "cell_type": "markdown",
      "id": "65a8df1f-a76a-4803-a532-ea9802106ac8",
      "metadata": {
        "id": "65a8df1f-a76a-4803-a532-ea9802106ac8"
      },
      "source": [
        "## Editing state\n",
        "\n",
        "Previously, we introduced breakpoints.\n",
        "\n",
        "We used them to interrupt the graph and await user approval before executing the next node.\n",
        "\n",
        "But breakpoints are also [opportunities to modify the graph state](https://langchain-ai.github.io/langgraph/how-tos/human_in_the_loop/edit-graph-state/).\n",
        "\n",
        "Let's set up our agent with a breakpoint before the `assistant` node."
      ]
    },
    {
      "cell_type": "code",
      "execution_count": 5,
      "id": "bcf24f05-ac2b-455e-846c-0c50ac86e1f4",
      "metadata": {
        "id": "bcf24f05-ac2b-455e-846c-0c50ac86e1f4"
      },
      "outputs": [],
      "source": [
        "#from langchain_openai import ChatOpenAI\n",
        "from langchain_google_genai import ChatGoogleGenerativeAI\n",
        "\n",
        "def multiply(a: int, b: int) -> int:\n",
        "    \"\"\"Multiply a and b.\n",
        "\n",
        "    Args:\n",
        "        a: first int\n",
        "        b: second int\n",
        "    \"\"\"\n",
        "    return a * b\n",
        "\n",
        "# This will be a tool\n",
        "def add(a: int, b: int) -> int:\n",
        "    \"\"\"Adds a and b.\n",
        "\n",
        "    Args:\n",
        "        a: first int\n",
        "        b: second int\n",
        "    \"\"\"\n",
        "    return a + b\n",
        "\n",
        "def divide(a: int, b: int) -> float:\n",
        "    \"\"\"Divide a by b.\n",
        "\n",
        "    Args:\n",
        "        a: first int\n",
        "        b: second int\n",
        "    \"\"\"\n",
        "    return a / b\n",
        "\n",
        "tools = [add, multiply, divide]\n",
        "#llm = ChatOpenAI(model=\"gpt-4o\")\n",
        "llm = ChatGoogleGenerativeAI(model=\"gemini-2.5-flash\")\n",
        "llm_with_tools = llm.bind_tools(tools)"
      ]
    },
    {
      "cell_type": "code",
      "execution_count": 6,
      "id": "5dfe84af-5c62-4c3f-8ed7-96b5261f0b7b",
      "metadata": {
        "colab": {
          "base_uri": "https://localhost:8080/",
          "height": 308
        },
        "id": "5dfe84af-5c62-4c3f-8ed7-96b5261f0b7b",
        "outputId": "c81811d0-7a13-444a-a067-cea57e14ddc6"
      },
      "outputs": [
        {
          "output_type": "display_data",
          "data": {
            "image/png": "[encoded data removed]",
            "text/plain": [
              "<IPython.core.display.Image object>"
            ]
          },
          "metadata": {}
        }
      ],
      "source": [
        "from IPython.display import Image, display\n",
        "\n",
        "from langgraph.checkpoint.memory import MemorySaver\n",
        "from langgraph.graph import MessagesState\n",
        "from langgraph.graph import START, StateGraph\n",
        "from langgraph.prebuilt import tools_condition, ToolNode\n",
        "\n",
        "from langchain_core.messages import HumanMessage, SystemMessage\n",
        "\n",
        "# System message\n",
        "sys_msg = SystemMessage(content=\"You are a helpful assistant tasked with performing arithmetic on a set of inputs.\")\n",
        "\n",
        "# Node\n",
        "def assistant(state: MessagesState):\n",
        "   return {\"messages\": [llm_with_tools.invoke([sys_msg] + state[\"messages\"])]}\n",
        "\n",
        "# Graph\n",
        "builder = StateGraph(MessagesState)\n",
        "\n",
        "# Define nodes: these do the work\n",
        "builder.add_node(\"assistant\", assistant)\n",
        "builder.add_node(\"tools\", ToolNode(tools))\n",
        "\n",
        "# Define edges: these determine the control flow\n",
        "builder.add_edge(START, \"assistant\")\n",
        "builder.add_conditional_edges(\n",
        "    \"assistant\",\n",
        "    # If the latest message (result) from assistant is a tool call -> tools_condition routes to tools\n",
        "    # If the latest message (result) from assistant is a not a tool call -> tools_condition routes to END\n",
        "    tools_condition,\n",
        ")\n",
        "builder.add_edge(\"tools\", \"assistant\")\n",
        "\n",
        "memory = MemorySaver()\n",
        "graph = builder.compile(interrupt_before=[\"assistant\"], checkpointer=memory)\n",
        "\n",
        "# Show\n",
        "display(Image(graph.get_graph(xray=True).draw_mermaid_png()))"
      ]
    },
    {
      "cell_type": "markdown",
      "id": "92a47fd5-1f60-41dc-9206-698ed8ece530",
      "metadata": {
        "id": "92a47fd5-1f60-41dc-9206-698ed8ece530"
      },
      "source": [
        "Let's run!\n",
        "\n",
        "We can see the graph is interrupted before the chat model responds."
      ]
    },
    {
      "cell_type": "code",
      "execution_count": 7,
      "id": "a2ce488d-00e4-492e-a62c-dd98702c313f",
      "metadata": {
        "colab": {
          "base_uri": "https://localhost:8080/"
        },
        "id": "a2ce488d-00e4-492e-a62c-dd98702c313f",
        "outputId": "1c16b965-7479-43d8-9a4b-25e6d2fb3757"
      },
      "outputs": [
        {
          "output_type": "stream",
          "name": "stdout",
          "text": [
            "================================\u001b[1m Human Message \u001b[0m=================================\n",
            "\n",
            "Multiply 2 and 3\n"
          ]
        }
      ],
      "source": [
        "# Input\n",
        "initial_input = {\"messages\": \"Multiply 2 and 3\"}\n",
        "\n",
        "# Thread\n",
        "thread = {\"configurable\": {\"thread_id\": \"1\"}}\n",
        "\n",
        "# Run the graph until the first interruption\n",
        "for event in graph.stream(initial_input, thread, stream_mode=\"values\"):\n",
        "    event['messages'][-1].pretty_print()"
      ]
    },
    {
      "cell_type": "code",
      "execution_count": 8,
      "id": "4be478ef-bd60-4d32-8a05-5f56c93a8396",
      "metadata": {
        "colab": {
          "base_uri": "https://localhost:8080/"
        },
        "id": "4be478ef-bd60-4d32-8a05-5f56c93a8396",
        "outputId": "1f8d0095-88ca-427b-ca5f-6858e5763b42"
      },
      "outputs": [
        {
          "output_type": "execute_result",
          "data": {
            "text/plain": [
              "StateSnapshot(values={'messages': [HumanMessage(content='Multiply 2 and 3', additional_kwargs={}, response_metadata={}, id='1f419b7b-cbee-4971-bef9-2358e49efc84')]}, next=('assistant',), config={'configurable': {'thread_id': '1', 'checkpoint_ns': '', 'checkpoint_id': '1f083cd1-ed90-674c-8000-56766c6571ea'}}, metadata={'source': 'loop', 'step': 0, 'parents': {}}, created_at='2025-08-28T05:09:05.755913+00:00', parent_config={'configurable': {'thread_id': '1', 'checkpoint_ns': '', 'checkpoint_id': '1f083cd1-ed8d-69b0-bfff-675eb40aa516'}}, tasks=(PregelTask(id='59c75326-c890-0939-6151-9621828a4283', name='assistant', path=('__pregel_pull', 'assistant'), error=None, interrupts=(), state=None, result=None),), interrupts=())"
            ]
          },
          "metadata": {},
          "execution_count": 8
        }
      ],
      "source": [
        "state = graph.get_state(thread)\n",
        "state"
      ]
    },
    {
      "cell_type": "markdown",
      "id": "36ef63a1-2ab8-416d-babf-d35054e294f0",
      "metadata": {
        "id": "36ef63a1-2ab8-416d-babf-d35054e294f0"
      },
      "source": [
        "Now, we can directly apply a state update.\n",
        "\n",
        "Remember, updates to the `messages` key will use the `add_messages` reducer:\n",
        "\n",
        "* If we want to over-write the existing message, we can supply the message `id`.\n",
        "* If we simply want to append to our list of messages, then we can pass a message without an `id` specified, as shown below."
      ]
    },
    {
      "cell_type": "code",
      "execution_count": 9,
      "id": "9179cff1-e529-473a-9ce2-e23b932c2063",
      "metadata": {
        "colab": {
          "base_uri": "https://localhost:8080/"
        },
        "id": "9179cff1-e529-473a-9ce2-e23b932c2063",
        "outputId": "f9dc25f6-2aee-4ce8-aee2-9f590e9a1cfd"
      },
      "outputs": [
        {
          "output_type": "execute_result",
          "data": {
            "text/plain": [
              "{'configurable': {'thread_id': '1',\n",
              "  'checkpoint_ns': '',\n",
              "  'checkpoint_id': '1f083cd2-3187-6fbd-8001-f5105ff83589'}}"
            ]
          },
          "metadata": {},
          "execution_count": 9
        }
      ],
      "source": [
        "graph.update_state(\n",
        "    thread,\n",
        "    {\"messages\": [HumanMessage(content=\"No, actually multiply 3 and 3!\")]},\n",
        ")"
      ]
    },
    {
      "cell_type": "markdown",
      "id": "d77b8d6a-8c7b-4f7a-b723-121af25ac829",
      "metadata": {
        "id": "d77b8d6a-8c7b-4f7a-b723-121af25ac829"
      },
      "source": [
        "Let's have a look.\n",
        "\n",
        "We called `update_state` with a new message.\n",
        "\n",
        "The `add_messages` reducer appends it to our state key, `messages`."
      ]
    },
    {
      "cell_type": "code",
      "execution_count": 10,
      "id": "141b6aab-ec6d-44f3-beb1-6c22ac5f2158",
      "metadata": {
        "colab": {
          "base_uri": "https://localhost:8080/"
        },
        "id": "141b6aab-ec6d-44f3-beb1-6c22ac5f2158",
        "outputId": "95240392-3e99-4525-a1cf-706f8756bd5f"
      },
      "outputs": [
        {
          "output_type": "stream",
          "name": "stdout",
          "text": [
            "================================\u001b[1m Human Message \u001b[0m=================================\n",
            "\n",
            "Multiply 2 and 3\n",
            "================================\u001b[1m Human Message \u001b[0m=================================\n",
            "\n",
            "No, actually multiply 3 and 3!\n"
          ]
        }
      ],
      "source": [
        "new_state = graph.get_state(thread).values\n",
        "for m in new_state['messages']:\n",
        "    m.pretty_print()"
      ]
    },
    {
      "cell_type": "markdown",
      "id": "e4041959-cc3a-4168-8cf7-06d1711921d8",
      "metadata": {
        "id": "e4041959-cc3a-4168-8cf7-06d1711921d8"
      },
      "source": [
        "Now, let's proceed with our agent, simply by passing `None` and allowing it proceed from the current state.\n",
        "\n",
        "We emit the current and then proceed to execute the remaining nodes."
      ]
    },
    {
      "cell_type": "code",
      "execution_count": 11,
      "id": "f166bed2-87c9-41ec-b235-0305721c2d6b",
      "metadata": {
        "colab": {
          "base_uri": "https://localhost:8080/"
        },
        "id": "f166bed2-87c9-41ec-b235-0305721c2d6b",
        "outputId": "b2a69088-38c8-4a27-9932-2836b844fca5"
      },
      "outputs": [
        {
          "output_type": "stream",
          "name": "stdout",
          "text": [
            "================================\u001b[1m Human Message \u001b[0m=================================\n",
            "\n",
            "No, actually multiply 3 and 3!\n",
            "==================================\u001b[1m Ai Message \u001b[0m==================================\n",
            "Tool Calls:\n",
            "  multiply (6c1cba65-6444-4b77-938a-a36ddbc2d804)\n",
            " Call ID: 6c1cba65-6444-4b77-938a-a36ddbc2d804\n",
            "  Args:\n",
            "    a: 3.0\n",
            "    b: 3.0\n",
            "=================================\u001b[1m Tool Message \u001b[0m=================================\n",
            "Name: multiply\n",
            "\n",
            "9\n"
          ]
        }
      ],
      "source": [
        "for event in graph.stream(None, thread, stream_mode=\"values\"):\n",
        "    event['messages'][-1].pretty_print()"
      ]
    },
    {
      "cell_type": "markdown",
      "id": "b18dc1ca",
      "metadata": {
        "id": "b18dc1ca"
      },
      "source": [
        "Now, we're back at the `assistant`, which has our `breakpoint`.\n",
        "\n",
        "We can again pass `None` to proceed."
      ]
    },
    {
      "cell_type": "code",
      "execution_count": 12,
      "id": "f5952731-0170-4589-a399-ee787df35400",
      "metadata": {
        "colab": {
          "base_uri": "https://localhost:8080/"
        },
        "id": "f5952731-0170-4589-a399-ee787df35400",
        "outputId": "d9549505-bc06-46f1-e235-066377da69b5"
      },
      "outputs": [
        {
          "output_type": "stream",
          "name": "stdout",
          "text": [
            "=================================\u001b[1m Tool Message \u001b[0m=================================\n",
            "Name: multiply\n",
            "\n",
            "9\n",
            "==================================\u001b[1m Ai Message \u001b[0m==================================\n",
            "\n",
            "The product of 3 and 3 is 9.\n"
          ]
        }
      ],
      "source": [
        "for event in graph.stream(None, thread, stream_mode=\"values\"):\n",
        "    event['messages'][-1].pretty_print()"
      ]
    },
    {
      "cell_type": "markdown",
      "id": "bc22c3e9-b00c-4ead-b752-a682b45b3718",
      "metadata": {
        "id": "bc22c3e9-b00c-4ead-b752-a682b45b3718"
      },
      "source": [
        "### Editing graph state in Studio\n",
        "\n",
        "**⚠️ DISCLAIMER**\n",
        "\n",
        "Since the filming of these videos, we've updated Studio so that it can be run locally and opened in your browser. This is now the preferred way to run Studio (rather than using the Desktop App as shown in the video). See documentation [here](https://langchain-ai.github.io/langgraph/concepts/langgraph_studio/#local-development-server) on the local development server and [here](https://langchain-ai.github.io/langgraph/how-tos/local-studio/#run-the-development-server). To start the local development server, run the following command in your terminal in the `/studio` directory in this module:\n",
        "\n",
        "```\n",
        "langgraph dev\n",
        "```\n",
        "\n",
        "You should see the following output:\n",
        "```\n",
        "- 🚀 API: http://127.0.0.1:2024\n",
        "- 🎨 Studio UI: https://smith.langchain.com/studio/?baseUrl=http://127.0.0.1:2024\n",
        "- 📚 API Docs: http://127.0.0.1:2024/docs\n",
        "```\n",
        "\n",
        "Open your browser and navigate to the Studio UI: `https://smith.langchain.com/studio/?baseUrl=http://127.0.0.1:2024`.\n",
        "\n",
        "The LangGraph API [supports editing graph state](https://langchain-ai.github.io/langgraph/cloud/how-tos/human_in_the_loop_edit_state/#initial-invocation)."
      ]
    },
    {
      "cell_type": "code",
      "execution_count": null,
      "id": "020efeba-fa80-4839-81f9-9ce228f9844e",
      "metadata": {
        "id": "020efeba-fa80-4839-81f9-9ce228f9844e"
      },
      "outputs": [],
      "source": [
        "if 'google.colab' in str(get_ipython()):\n",
        "    raise Exception(\"Unfortunately LangGraph Studio is currently not supported on Google Colab\")"
      ]
    },
    {
      "cell_type": "code",
      "execution_count": null,
      "id": "642aabab-f822-4917-9d66-3314ac5008fd",
      "metadata": {
        "id": "642aabab-f822-4917-9d66-3314ac5008fd"
      },
      "outputs": [],
      "source": [
        "# This is the URL of the local development server\n",
        "from langgraph_sdk import get_client\n",
        "client = get_client(url=\"http://127.0.0.1:2024\")"
      ]
    },
    {
      "cell_type": "markdown",
      "id": "be74cb09",
      "metadata": {
        "id": "be74cb09"
      },
      "source": [
        "Our agent is defined in `studio/agent.py`.\n",
        "\n",
        "If you look at the code, you'll see that it *does not* have a breakpoint!\n",
        "\n",
        "Of course, we can add it to `agent.py`, but one very nice feature of the API is that we can pass in a breakpoint!\n",
        "\n",
        "Here, we pass a `interrupt_before=[\"assistant\"]`."
      ]
    },
    {
      "cell_type": "code",
      "execution_count": null,
      "id": "1c352f9e-6a0f-4a94-a083-b85b0233efa9",
      "metadata": {
        "id": "1c352f9e-6a0f-4a94-a083-b85b0233efa9",
        "outputId": "20fb5079-5ec5-4c75-f06e-00553cfc82b7"
      },
      "outputs": [
        {
          "name": "stdout",
          "output_type": "stream",
          "text": [
            "Receiving new event of type: metadata...\n",
            "--------------------------------------------------\n",
            "Receiving new event of type: values...\n",
            "{'content': 'Multiply 2 and 3', 'additional_kwargs': {}, 'response_metadata': {}, 'type': 'human', 'name': None, 'id': '882dabe4-b877-4d71-bd09-c34cb97c4f46', 'example': False}\n",
            "--------------------------------------------------\n"
          ]
        }
      ],
      "source": [
        "initial_input = {\"messages\": \"Multiply 2 and 3\"}\n",
        "thread = await client.threads.create()\n",
        "async for chunk in client.runs.stream(\n",
        "    thread[\"thread_id\"],\n",
        "    \"agent\",\n",
        "    input=initial_input,\n",
        "    stream_mode=\"values\",\n",
        "    interrupt_before=[\"assistant\"],\n",
        "):\n",
        "    print(f\"Receiving new event of type: {chunk.event}...\")\n",
        "    messages = chunk.data.get('messages', [])\n",
        "    if messages:\n",
        "        print(messages[-1])\n",
        "    print(\"-\" * 50)"
      ]
    },
    {
      "cell_type": "markdown",
      "id": "13065dd9-5f43-47d6-ac2a-9dc15c0c54e6",
      "metadata": {
        "id": "13065dd9-5f43-47d6-ac2a-9dc15c0c54e6"
      },
      "source": [
        "We can get the current state"
      ]
    },
    {
      "cell_type": "code",
      "execution_count": null,
      "id": "4da2c464-3e71-496a-badc-671aeee168b6",
      "metadata": {
        "id": "4da2c464-3e71-496a-badc-671aeee168b6",
        "outputId": "f8daba1e-ee4b-4130-edff-79eab50f4516"
      },
      "outputs": [
        {
          "data": {
            "text/plain": [
              "{'values': {'messages': [{'content': 'Multiply 2 and 3',\n",
              "    'additional_kwargs': {},\n",
              "    'response_metadata': {},\n",
              "    'type': 'human',\n",
              "    'name': None,\n",
              "    'id': '882dabe4-b877-4d71-bd09-c34cb97c4f46',\n",
              "    'example': False}]},\n",
              " 'next': ['assistant'],\n",
              " 'tasks': [{'id': 'a71c0b80-a679-57cb-aa59-a1655b763480',\n",
              "   'name': 'assistant',\n",
              "   'error': None,\n",
              "   'interrupts': [],\n",
              "   'state': None}],\n",
              " 'metadata': {'step': 0,\n",
              "  'run_id': '1ef6a41c-ea63-663f-b3e8-4f001bf0bf53',\n",
              "  'source': 'loop',\n",
              "  'writes': None,\n",
              "  'parents': {},\n",
              "  'user_id': '',\n",
              "  'graph_id': 'agent',\n",
              "  'thread_id': 'a95ffa54-2435-4a47-a9da-e886369ca8ee',\n",
              "  'created_by': 'system',\n",
              "  'assistant_id': 'fe096781-5601-53d2-b2f6-0d3403f7e9ca'},\n",
              " 'created_at': '2024-09-03T22:13:54.466695+00:00',\n",
              " 'checkpoint_id': '1ef6a41c-ead7-637b-8000-8c6a7b98379e',\n",
              " 'parent_checkpoint_id': '1ef6a41c-ead3-637d-bfff-397ebdb4f2ea'}"
            ]
          },
          "execution_count": 11,
          "metadata": {},
          "output_type": "execute_result"
        }
      ],
      "source": [
        "current_state = await client.threads.get_state(thread['thread_id'])\n",
        "current_state"
      ]
    },
    {
      "cell_type": "markdown",
      "id": "4527bbf1-0927-41a6-aeef-d15e32bbbdc3",
      "metadata": {
        "id": "4527bbf1-0927-41a6-aeef-d15e32bbbdc3"
      },
      "source": [
        "We can look at the last message in state."
      ]
    },
    {
      "cell_type": "code",
      "execution_count": null,
      "id": "801ae2d9-0551-46b8-aee2-82293cee4011",
      "metadata": {
        "id": "801ae2d9-0551-46b8-aee2-82293cee4011",
        "outputId": "de4a68f8-e0a1-4eae-baf8-0a79a19d6b17"
      },
      "outputs": [
        {
          "data": {
            "text/plain": [
              "{'content': 'Multiply 2 and 3',\n",
              " 'additional_kwargs': {},\n",
              " 'response_metadata': {},\n",
              " 'type': 'human',\n",
              " 'name': None,\n",
              " 'id': '882dabe4-b877-4d71-bd09-c34cb97c4f46',\n",
              " 'example': False}"
            ]
          },
          "execution_count": 12,
          "metadata": {},
          "output_type": "execute_result"
        }
      ],
      "source": [
        "last_message = current_state['values']['messages'][-1]\n",
        "last_message"
      ]
    },
    {
      "cell_type": "markdown",
      "id": "f0581ba8-db3d-474d-9042-b1c7f3461caf",
      "metadata": {
        "id": "f0581ba8-db3d-474d-9042-b1c7f3461caf"
      },
      "source": [
        "We can edit it!"
      ]
    },
    {
      "cell_type": "code",
      "execution_count": null,
      "id": "86b12be7-7e4a-40d0-8521-dced7c393c71",
      "metadata": {
        "id": "86b12be7-7e4a-40d0-8521-dced7c393c71",
        "outputId": "6a317803-d3a8-41ab-9e1e-023960ba202e"
      },
      "outputs": [
        {
          "data": {
            "text/plain": [
              "{'content': 'No, actually multiply 3 and 3!',\n",
              " 'additional_kwargs': {},\n",
              " 'response_metadata': {},\n",
              " 'type': 'human',\n",
              " 'name': None,\n",
              " 'id': '882dabe4-b877-4d71-bd09-c34cb97c4f46',\n",
              " 'example': False}"
            ]
          },
          "execution_count": 13,
          "metadata": {},
          "output_type": "execute_result"
        }
      ],
      "source": [
        "last_message['content'] = \"No, actually multiply 3 and 3!\"\n",
        "last_message"
      ]
    },
    {
      "cell_type": "code",
      "execution_count": null,
      "id": "f84f2c24-f281-4591-90e5-de3a5547c9da",
      "metadata": {
        "id": "f84f2c24-f281-4591-90e5-de3a5547c9da",
        "outputId": "31fdc6c0-0253-4ed5-eaa7-aea697032c1b"
      },
      "outputs": [
        {
          "data": {
            "text/plain": [
              "{'content': 'No, actually multiply 3 and 3!',\n",
              " 'additional_kwargs': {},\n",
              " 'response_metadata': {},\n",
              " 'type': 'human',\n",
              " 'name': None,\n",
              " 'id': '882dabe4-b877-4d71-bd09-c34cb97c4f46',\n",
              " 'example': False}"
            ]
          },
          "execution_count": 14,
          "metadata": {},
          "output_type": "execute_result"
        }
      ],
      "source": [
        "last_message"
      ]
    },
    {
      "cell_type": "markdown",
      "id": "ce7b4280-6ae7-4246-9c87-44e0daa6c654",
      "metadata": {
        "id": "ce7b4280-6ae7-4246-9c87-44e0daa6c654"
      },
      "source": [
        "Remember, as we said before, updates to the `messages` key will use the same `add_messages` reducer.\n",
        "\n",
        "If we want to over-write the existing message, then we can supply the message `id`.\n",
        "\n",
        "Here, we did that. We only modified the message `content`, as shown above."
      ]
    },
    {
      "cell_type": "code",
      "execution_count": null,
      "id": "84d33b6e-32ff-4eca-8114-345e508f3481",
      "metadata": {
        "id": "84d33b6e-32ff-4eca-8114-345e508f3481",
        "outputId": "7cd5bb10-4226-4493-87a2-7c873f94d7c5"
      },
      "outputs": [
        {
          "data": {
            "text/plain": [
              "{'configurable': {'thread_id': 'a95ffa54-2435-4a47-a9da-e886369ca8ee',\n",
              "  'checkpoint_ns': '',\n",
              "  'checkpoint_id': '1ef6a41d-cc8e-6979-8001-8c7c283b636c'},\n",
              " 'checkpoint_id': '1ef6a41d-cc8e-6979-8001-8c7c283b636c'}"
            ]
          },
          "execution_count": 15,
          "metadata": {},
          "output_type": "execute_result"
        }
      ],
      "source": [
        "await client.threads.update_state(thread['thread_id'], {\"messages\": last_message})"
      ]
    },
    {
      "cell_type": "markdown",
      "id": "1f07f0d1-7083-4827-babd-d3702eb59a37",
      "metadata": {
        "id": "1f07f0d1-7083-4827-babd-d3702eb59a37"
      },
      "source": [
        "Now, we resume by passing `None`."
      ]
    },
    {
      "cell_type": "code",
      "execution_count": null,
      "id": "ef18d12d-e0a6-487a-9f32-ad30e2634a20",
      "metadata": {
        "id": "ef18d12d-e0a6-487a-9f32-ad30e2634a20",
        "outputId": "4f7d3289-7dde-4577-ebfe-91bb295cb54d"
      },
      "outputs": [
        {
          "name": "stdout",
          "output_type": "stream",
          "text": [
            "Receiving new event of type: metadata...\n",
            "--------------------------------------------------\n",
            "Receiving new event of type: values...\n",
            "{'content': 'No, actually multiply 3 and 3!', 'additional_kwargs': {'additional_kwargs': {}, 'response_metadata': {}, 'example': False}, 'response_metadata': {}, 'type': 'human', 'name': None, 'id': '882dabe4-b877-4d71-bd09-c34cb97c4f46', 'example': False}\n",
            "--------------------------------------------------\n",
            "Receiving new event of type: values...\n",
            "{'content': '', 'additional_kwargs': {'tool_calls': [{'index': 0, 'id': 'call_vi16je2EIikHuT7Aue2sd1qd', 'function': {'arguments': '{\"a\":3,\"b\":3}', 'name': 'multiply'}, 'type': 'function'}]}, 'response_metadata': {'finish_reason': 'tool_calls', 'model_name': 'gpt-4o-2024-05-13', 'system_fingerprint': 'fp_157b3831f5'}, 'type': 'ai', 'name': None, 'id': 'run-775b42f7-0590-4c54-aaeb-78599b1f12d2', 'example': False, 'tool_calls': [{'name': 'multiply', 'args': {'a': 3, 'b': 3}, 'id': 'call_vi16je2EIikHuT7Aue2sd1qd', 'type': 'tool_call'}], 'invalid_tool_calls': [], 'usage_metadata': None}\n",
            "--------------------------------------------------\n",
            "Receiving new event of type: values...\n",
            "{'content': '9', 'additional_kwargs': {}, 'response_metadata': {}, 'type': 'tool', 'name': 'multiply', 'id': '226bfbad-0cea-4900-80c5-761a62bd4bc1', 'tool_call_id': 'call_vi16je2EIikHuT7Aue2sd1qd', 'artifact': None, 'status': 'success'}\n",
            "--------------------------------------------------\n"
          ]
        }
      ],
      "source": [
        "async for chunk in client.runs.stream(\n",
        "    thread[\"thread_id\"],\n",
        "    assistant_id=\"agent\",\n",
        "    input=None,\n",
        "    stream_mode=\"values\",\n",
        "    interrupt_before=[\"assistant\"],\n",
        "):\n",
        "    print(f\"Receiving new event of type: {chunk.event}...\")\n",
        "    messages = chunk.data.get('messages', [])\n",
        "    if messages:\n",
        "        print(messages[-1])\n",
        "    print(\"-\" * 50)"
      ]
    },
    {
      "cell_type": "markdown",
      "id": "6a82dd35-cbc8-486d-8e20-10d0c4d138d6",
      "metadata": {
        "id": "6a82dd35-cbc8-486d-8e20-10d0c4d138d6"
      },
      "source": [
        "We get the result of the tool call as `9`, as expected."
      ]
    },
    {
      "cell_type": "code",
      "execution_count": null,
      "id": "1d1bb3c7-dc26-4c32-b3df-865f41ef3c73",
      "metadata": {
        "id": "1d1bb3c7-dc26-4c32-b3df-865f41ef3c73",
        "outputId": "ad802a98-437c-4529-c340-018e60fa0e52"
      },
      "outputs": [
        {
          "name": "stdout",
          "output_type": "stream",
          "text": [
            "Receiving new event of type: metadata...\n",
            "--------------------------------------------------\n",
            "Receiving new event of type: values...\n",
            "{'content': '9', 'additional_kwargs': {}, 'response_metadata': {}, 'type': 'tool', 'name': 'multiply', 'id': '226bfbad-0cea-4900-80c5-761a62bd4bc1', 'tool_call_id': 'call_vi16je2EIikHuT7Aue2sd1qd', 'artifact': None, 'status': 'success'}\n",
            "--------------------------------------------------\n",
            "Receiving new event of type: values...\n",
            "{'content': 'The result of multiplying 3 by 3 is 9.', 'additional_kwargs': {}, 'response_metadata': {'finish_reason': 'stop', 'model_name': 'gpt-4o-2024-05-13', 'system_fingerprint': 'fp_157b3831f5'}, 'type': 'ai', 'name': None, 'id': 'run-859bbf47-9f35-4e71-ae98-9d93ee49d16c', 'example': False, 'tool_calls': [], 'invalid_tool_calls': [], 'usage_metadata': None}\n",
            "--------------------------------------------------\n"
          ]
        }
      ],
      "source": [
        "async for chunk in client.runs.stream(\n",
        "    thread[\"thread_id\"],\n",
        "    assistant_id=\"agent\",\n",
        "    input=None,\n",
        "    stream_mode=\"values\",\n",
        "    interrupt_before=[\"assistant\"],\n",
        "):\n",
        "    print(f\"Receiving new event of type: {chunk.event}...\")\n",
        "    messages = chunk.data.get('messages', [])\n",
        "    if messages:\n",
        "        print(messages[-1])\n",
        "    print(\"-\" * 50)"
      ]
    },
    {
      "cell_type": "markdown",
      "id": "6914c5ca-27e4-421c-835a-9e4327dac12f",
      "metadata": {
        "id": "6914c5ca-27e4-421c-835a-9e4327dac12f"
      },
      "source": [
        "## Awaiting user input\n",
        "\n",
        "So, it's clear that we can edit our agent state after a breakpoint.\n",
        "\n",
        "Now, what if we want to allow for human feedback to perform this state update?\n",
        "\n",
        "We'll add a node that [serves as a placeholder for human feedback](https://langchain-ai.github.io/langgraph/how-tos/human_in_the_loop/wait-user-input/#setup) within our agent.\n",
        "\n",
        "This `human_feedback` node allow the user to add feedback directly to state.\n",
        "\n",
        "We specify the breakpoint using `interrupt_before` our `human_feedback` node.\n",
        "\n",
        "We set up a checkpointer to save the state of the graph up until this node."
      ]
    },
    {
      "cell_type": "code",
      "execution_count": null,
      "id": "e4b475ff-681f-4660-80dd-d6ade7bd48e3",
      "metadata": {
        "id": "e4b475ff-681f-4660-80dd-d6ade7bd48e3",
        "outputId": "7fed2547-15d1-4b2f-f308-adb5f446ce78"
      },
      "outputs": [
        {
          "data": {
            "image/jpeg": "[encoded data removed]",
            "text/plain": [
              "<IPython.core.display.Image object>"
            ]
          },
          "metadata": {},
          "output_type": "display_data"
        }
      ],
      "source": [
        "# System message\n",
        "sys_msg = SystemMessage(content=\"You are a helpful assistant tasked with performing arithmetic on a set of inputs.\")\n",
        "\n",
        "# no-op node that should be interrupted on\n",
        "def human_feedback(state: MessagesState):\n",
        "    pass\n",
        "\n",
        "# Assistant node\n",
        "def assistant(state: MessagesState):\n",
        "   return {\"messages\": [llm_with_tools.invoke([sys_msg] + state[\"messages\"])]}\n",
        "\n",
        "# Graph\n",
        "builder = StateGraph(MessagesState)\n",
        "\n",
        "# Define nodes: these do the work\n",
        "builder.add_node(\"assistant\", assistant)\n",
        "builder.add_node(\"tools\", ToolNode(tools))\n",
        "builder.add_node(\"human_feedback\", human_feedback)\n",
        "\n",
        "# Define edges: these determine the control flow\n",
        "builder.add_edge(START, \"human_feedback\")\n",
        "builder.add_edge(\"human_feedback\", \"assistant\")\n",
        "builder.add_conditional_edges(\n",
        "    \"assistant\",\n",
        "    # If the latest message (result) from assistant is a tool call -> tools_condition routes to tools\n",
        "    # If the latest message (result) from assistant is a not a tool call -> tools_condition routes to END\n",
        "    tools_condition,\n",
        ")\n",
        "builder.add_edge(\"tools\", \"human_feedback\")\n",
        "\n",
        "memory = MemorySaver()\n",
        "graph = builder.compile(interrupt_before=[\"human_feedback\"], checkpointer=memory)\n",
        "display(Image(graph.get_graph().draw_mermaid_png()))"
      ]
    },
    {
      "cell_type": "markdown",
      "id": "32d4ceb6-a224-4307-8196-3f53d367df5c",
      "metadata": {
        "id": "32d4ceb6-a224-4307-8196-3f53d367df5c"
      },
      "source": [
        "We will get feedback from the user.\n",
        "\n",
        "We use `.update_state` to update the state of the graph with the human response we get, as before.\n",
        "\n",
        "We use the `as_node=\"human_feedback\"` parameter to apply this state update as the specified node, `human_feedback`."
      ]
    },
    {
      "cell_type": "code",
      "execution_count": null,
      "id": "3fc7bcd6-660c-4a8a-ad8d-e6698dcf6201",
      "metadata": {
        "id": "3fc7bcd6-660c-4a8a-ad8d-e6698dcf6201",
        "outputId": "cd0b96a6-0a26-412c-d146-e1bc5a52b83c"
      },
      "outputs": [
        {
          "name": "stdout",
          "output_type": "stream",
          "text": [
            "================================\u001b[1m Human Message \u001b[0m=================================\n",
            "\n",
            "Multiply 2 and 3\n",
            "================================\u001b[1m Human Message \u001b[0m=================================\n",
            "\n",
            "no, multiply 3 and 3\n",
            "==================================\u001b[1m Ai Message \u001b[0m==================================\n",
            "Tool Calls:\n",
            "  multiply (call_sewrDyCrAJBQQecusUoT6OJ6)\n",
            " Call ID: call_sewrDyCrAJBQQecusUoT6OJ6\n",
            "  Args:\n",
            "    a: 3\n",
            "    b: 3\n",
            "=================================\u001b[1m Tool Message \u001b[0m=================================\n",
            "Name: multiply\n",
            "\n",
            "9\n"
          ]
        }
      ],
      "source": [
        "# Input\n",
        "initial_input = {\"messages\": \"Multiply 2 and 3\"}\n",
        "\n",
        "# Thread\n",
        "thread = {\"configurable\": {\"thread_id\": \"5\"}}\n",
        "\n",
        "# Run the graph until the first interruption\n",
        "for event in graph.stream(initial_input, thread, stream_mode=\"values\"):\n",
        "    event[\"messages\"][-1].pretty_print()\n",
        "\n",
        "# Get user input\n",
        "user_input = input(\"Tell me how you want to update the state: \")\n",
        "\n",
        "# We now update the state as if we are the human_feedback node\n",
        "graph.update_state(thread, {\"messages\": user_input}, as_node=\"human_feedback\")\n",
        "\n",
        "# Continue the graph execution\n",
        "for event in graph.stream(None, thread, stream_mode=\"values\"):\n",
        "    event[\"messages\"][-1].pretty_print()"
      ]
    },
    {
      "cell_type": "code",
      "execution_count": null,
      "id": "abf4cf5f-c0cb-4fdb-be6b-271ae4e967e2",
      "metadata": {
        "id": "abf4cf5f-c0cb-4fdb-be6b-271ae4e967e2",
        "outputId": "5efdfdd4-47e7-4c56-e630-6f3ed8c00ee2"
      },
      "outputs": [
        {
          "name": "stdout",
          "output_type": "stream",
          "text": [
            "=================================\u001b[1m Tool Message \u001b[0m=================================\n",
            "Name: multiply\n",
            "\n",
            "9\n",
            "==================================\u001b[1m Ai Message \u001b[0m==================================\n",
            "\n",
            "The result of multiplying 3 and 3 is 9.\n"
          ]
        }
      ],
      "source": [
        "# Continue the graph execution\n",
        "for event in graph.stream(None, thread, stream_mode=\"values\"):\n",
        "    event[\"messages\"][-1].pretty_print()"
      ]
    }
  ],
  "metadata": {
    "kernelspec": {
      "display_name": "Python 3 (ipykernel)",
      "language": "python",
      "name": "python3"
    },
    "language_info": {
      "codemirror_mode": {
        "name": "ipython",
        "version": 3
      },
      "file_extension": ".py",
      "mimetype": "text/x-python",
      "name": "python",
      "nbconvert_exporter": "python",
      "pygments_lexer": "ipython3",
      "version": "3.11.8"
    },
    "colab": {
      "provenance": []
    }
  },
  "nbformat": 4,
  "nbformat_minor": 5
}