{
  "cells": [
    {
      "cell_type": "markdown",
      "metadata": {
        "id": "wlDmc4Q7CYNm"
      },
      "source": [
        "# Chatbot with Memory\n",
        "\n",
        "## Review\n",
        "\n",
        "[Memory](https://pmc.ncbi.nlm.nih.gov/articles/PMC10410470/) is a cognitive function that allows people to store, retrieve, and use information to understand their present and future.\n",
        "\n",
        "There are [various long-term memory types](https://langchain-ai.github.io/langgraph/concepts/memory/#memory) that can be used in AI applications.\n",
        "\n",
        "## Goals\n",
        "\n",
        "Here, we'll introduce the [LangGraph Memory Store](https://langchain-ai.github.io/langgraph/reference/store/#langgraph.store.base.BaseStore) as a way to save and retrieve long-term memories.\n",
        "\n",
        "We'll build a chatbot that uses both `short-term (within-thread)` and `long-term (across-thread)` memory.\n",
        "\n",
        "We'll focus on long-term [semantic memory](https://langchain-ai.github.io/langgraph/concepts/memory/#semantic-memory), which will be facts about the user.\n",
        "\n",
        "These long-term memories will be used to create a personalized chatbot that can remember facts about the user.\n",
        "\n",
        "It will save memory [\"in the hot path\"](https://langchain-ai.github.io/langgraph/concepts/memory/#writing-memories), as the user is chatting with it."
      ]
    },
    {
      "cell_type": "code",
      "source": [
        "### Mount Notebook to Google Drive\n",
        "from google.colab import drive\n",
        "drive.mount('/content/drive')\n",
        "# change the working directory to the Drive root\n",
        "%cd /content/drive/My\\ Drive/Colab\\ Notebooks/langchain-academy-main/module-5"
      ],
      "metadata": {
        "id": "MrG5vvjFGgOG",
        "colab": {
          "base_uri": "https://localhost:8080/"
        },
        "outputId": "584d8fe4-69be-4c71-93dc-c96e9932cfb0"
      },
      "execution_count": 1,
      "outputs": [
        {
          "output_type": "stream",
          "name": "stdout",
          "text": [
            "Mounted at /content/drive\n",
            "/content/drive/My Drive/Colab Notebooks/langchain-academy-main/module-5\n"
          ]
        }
      ]
    },
    {
      "cell_type": "code",
      "source": [
        "!pip install --quiet -U langchain-google-genai langgraph langchain_core"
      ],
      "metadata": {
        "id": "pOIAnY-oGxnX",
        "colab": {
          "base_uri": "https://localhost:8080/"
        },
        "outputId": "cc86bf73-38f4-41e2-a0f5-ca8976b04b37"
      },
      "execution_count": 2,
      "outputs": [
        {
          "output_type": "stream",
          "name": "stdout",
          "text": [
            "\u001b[2K     \u001b[90m━━━━━━━━━━━━━━━━━━━━━━━━━━━━━━━━━━━━━━━━\u001b[0m \u001b[32m43.7/43.7 kB\u001b[0m \u001b[31m2.0 MB/s\u001b[0m eta \u001b[36m0:00:00\u001b[0m\n",
            "\u001b[2K   \u001b[90m━━━━━━━━━━━━━━━━━━━━━━━━━━━━━━━━━━━━━━━━\u001b[0m \u001b[32m49.4/49.4 kB\u001b[0m \u001b[31m2.0 MB/s\u001b[0m eta \u001b[36m0:00:00\u001b[0m\n",
            "\u001b[2K   \u001b[90m━━━━━━━━━━━━━━━━━━━━━━━━━━━━━━━━━━━━━━━━\u001b[0m \u001b[32m153.3/153.3 kB\u001b[0m \u001b[31m6.3 MB/s\u001b[0m eta \u001b[36m0:00:00\u001b[0m\n",
            "\u001b[2K   \u001b[90m━━━━━━━━━━━━━━━━━━━━━━━━━━━━━━━━━━━━━━━━\u001b[0m \u001b[32m444.0/444.0 kB\u001b[0m \u001b[31m14.9 MB/s\u001b[0m eta \u001b[36m0:00:00\u001b[0m\n",
            "\u001b[2K   \u001b[90m━━━━━━━━━━━━━━━━━━━━━━━━━━━━━━━━━━━━━━━━\u001b[0m \u001b[32m1.4/1.4 MB\u001b[0m \u001b[31m45.5 MB/s\u001b[0m eta \u001b[36m0:00:00\u001b[0m\n",
            "\u001b[2K   \u001b[90m━━━━━━━━━━━━━━━━━━━━━━━━━━━━━━━━━━━━━━━━\u001b[0m \u001b[32m43.9/43.9 kB\u001b[0m \u001b[31m2.8 MB/s\u001b[0m eta \u001b[36m0:00:00\u001b[0m\n",
            "\u001b[2K   \u001b[90m━━━━━━━━━━━━━━━━━━━━━━━━━━━━━━━━━━━━━━━━\u001b[0m \u001b[32m54.0/54.0 kB\u001b[0m \u001b[31m3.6 MB/s\u001b[0m eta \u001b[36m0:00:00\u001b[0m\n",
            "\u001b[2K   \u001b[90m━━━━━━━━━━━━━━━━━━━━━━━━━━━━━━━━━━━━━━━━\u001b[0m \u001b[32m216.7/216.7 kB\u001b[0m \u001b[31m14.4 MB/s\u001b[0m eta \u001b[36m0:00:00\u001b[0m\n",
            "\u001b[?25h\u001b[31mERROR: pip's dependency resolver does not currently take into account all the packages that are installed. This behaviour is the source of the following dependency conflicts.\n",
            "google-generativeai 0.8.5 requires google-ai-generativelanguage==0.6.15, but you have google-ai-generativelanguage 0.6.18 which is incompatible.\u001b[0m\u001b[31m\n",
            "\u001b[0m"
          ]
        }
      ]
    },
    {
      "cell_type": "code",
      "source": [
        "!pip install --quiet python-dotenv"
      ],
      "metadata": {
        "id": "n9k9ZKUaHA5l"
      },
      "execution_count": 3,
      "outputs": []
    },
    {
      "cell_type": "code",
      "source": [
        "from dotenv import load_dotenv\n",
        "load_dotenv(\".env\")"
      ],
      "metadata": {
        "colab": {
          "base_uri": "https://localhost:8080/"
        },
        "id": "nB4-CZXlHAbB",
        "outputId": "88d41fbf-1b6d-414c-a088-0bebf46c0024"
      },
      "execution_count": 4,
      "outputs": [
        {
          "output_type": "execute_result",
          "data": {
            "text/plain": [
              "True"
            ]
          },
          "metadata": {},
          "execution_count": 4
        }
      ]
    },
    {
      "cell_type": "code",
      "execution_count": null,
      "metadata": {
        "id": "9yC_lx8mCYNs"
      },
      "outputs": [],
      "source": [
        "%%capture --no-stderr\n",
        "%pip install -U langchain_openai langgraph langchain_core"
      ]
    },
    {
      "cell_type": "markdown",
      "metadata": {
        "id": "cZQZkJbkCYNv"
      },
      "source": [
        "We'll use [LangSmith](https://docs.smith.langchain.com/) for [tracing](https://docs.smith.langchain.com/concepts/tracing)."
      ]
    },
    {
      "cell_type": "code",
      "execution_count": null,
      "metadata": {
        "id": "a4l8tZ06CYNw"
      },
      "outputs": [],
      "source": [
        "import os, getpass\n",
        "\n",
        "def _set_env(var: str):\n",
        "    if not os.environ.get(var):\n",
        "        os.environ[var] = getpass.getpass(f\"{var}: \")\n",
        "\n",
        "_set_env(\"LANGSMITH_API_KEY\")\n",
        "os.environ[\"LANGSMITH_TRACING\"] = \"true\"\n",
        "os.environ[\"LANGSMITH_PROJECT\"] = \"langchain-academy\""
      ]
    },
    {
      "cell_type": "markdown",
      "metadata": {
        "id": "2s1q73lmCYNw"
      },
      "source": [
        "## Introduction to the LangGraph Store\n",
        "\n",
        "The [LangGraph Memory Store](https://langchain-ai.github.io/langgraph/reference/store/#langgraph.store.base.BaseStore) provides a way to store and retrieve information *across threads* in LangGraph.\n",
        "\n",
        "This is an  [open source base class](https://blog.langchain.dev/launching-long-term-memory-support-in-langgraph/) for persistent `key-value` stores."
      ]
    },
    {
      "cell_type": "code",
      "execution_count": 5,
      "metadata": {
        "id": "PzRpC8OWCYNx"
      },
      "outputs": [],
      "source": [
        "import uuid\n",
        "from langgraph.store.memory import InMemoryStore\n",
        "in_memory_store = InMemoryStore()"
      ]
    },
    {
      "cell_type": "markdown",
      "metadata": {
        "id": "E5KTUZpMCYNy"
      },
      "source": [
        "When storing objects (e.g., memories) in the [Store](https://langchain-ai.github.io/langgraph/reference/store/#langgraph.store.base.BaseStore), we provide:\n",
        "\n",
        "- The `namespace` for the object, a tuple (similar to directories)\n",
        "- the object `key` (similar to filenames)\n",
        "- the object `value` (similar to file contents)\n",
        "\n",
        "We use the [put](https://langchain-ai.github.io/langgraph/reference/store/#langgraph.store.base.BaseStore.put) method to save an object to the store by `namespace` and `key`.\n",
        "\n",
        "![langgraph_store.png](attachment:6281b4e3-4930-467e-83ce-ba1aa837ca16.png)"
      ]
    },
    {
      "cell_type": "code",
      "execution_count": 6,
      "metadata": {
        "id": "Hk3oBd8_CYNz"
      },
      "outputs": [],
      "source": [
        "# Namespace for the memory to save\n",
        "user_id = \"1\"\n",
        "namespace_for_memory = (user_id, \"memories\")\n",
        "\n",
        "# Save a memory to namespace as key and value\n",
        "key = str(uuid.uuid4())\n",
        "\n",
        "# The value needs to be a dictionary\n",
        "value = {\"food_preference\" : \"I like pizza\"}\n",
        "\n",
        "# Save the memory\n",
        "in_memory_store.put(namespace_for_memory, key, value)"
      ]
    },
    {
      "cell_type": "markdown",
      "metadata": {
        "id": "thv5Jp0WCYN0"
      },
      "source": [
        "We use [search](https://langchain-ai.github.io/langgraph/reference/store/#langgraph.store.base.BaseStore.search) to retrieve objects from the store by `namespace`.\n",
        "\n",
        "This returns a list."
      ]
    },
    {
      "cell_type": "code",
      "execution_count": 7,
      "metadata": {
        "colab": {
          "base_uri": "https://localhost:8080/"
        },
        "id": "bQqvEkfYCYN1",
        "outputId": "f844418b-935c-45d5-a46a-5bdb4e273f67"
      },
      "outputs": [
        {
          "output_type": "execute_result",
          "data": {
            "text/plain": [
              "list"
            ]
          },
          "metadata": {},
          "execution_count": 7
        }
      ],
      "source": [
        "# Search\n",
        "memories = in_memory_store.search(namespace_for_memory)\n",
        "type(memories)"
      ]
    },
    {
      "cell_type": "code",
      "execution_count": 8,
      "metadata": {
        "colab": {
          "base_uri": "https://localhost:8080/"
        },
        "id": "HgWy1e_YCYN3",
        "outputId": "ca896ba7-751d-433b-8b75-21d6b4f92c4c"
      },
      "outputs": [
        {
          "output_type": "execute_result",
          "data": {
            "text/plain": [
              "{'namespace': ['1', 'memories'],\n",
              " 'key': '54981550-2aaf-48e8-bf72-77cdc3f3ae4a',\n",
              " 'value': {'food_preference': 'I like pizza'},\n",
              " 'created_at': '2025-08-29T09:14:33.963909+00:00',\n",
              " 'updated_at': '2025-08-29T09:14:33.963912+00:00',\n",
              " 'score': None}"
            ]
          },
          "metadata": {},
          "execution_count": 8
        }
      ],
      "source": [
        "# Metatdata\n",
        "memories[0].dict()"
      ]
    },
    {
      "cell_type": "code",
      "execution_count": 9,
      "metadata": {
        "colab": {
          "base_uri": "https://localhost:8080/"
        },
        "id": "GyS4blKlCYN3",
        "outputId": "dad6533c-c2e6-4b16-b908-cff4cd92be93"
      },
      "outputs": [
        {
          "output_type": "stream",
          "name": "stdout",
          "text": [
            "54981550-2aaf-48e8-bf72-77cdc3f3ae4a {'food_preference': 'I like pizza'}\n"
          ]
        }
      ],
      "source": [
        "# The key, value\n",
        "print(memories[0].key, memories[0].value)"
      ]
    },
    {
      "cell_type": "markdown",
      "metadata": {
        "id": "VigDzAofCYN4"
      },
      "source": [
        "We can also use [get](https://langchain-ai.github.io/langgraph/reference/store/#langgraph.store.base.BaseStore.get) to retrieve an object by `namespace` and `key`."
      ]
    },
    {
      "cell_type": "code",
      "execution_count": 10,
      "metadata": {
        "colab": {
          "base_uri": "https://localhost:8080/"
        },
        "id": "CwF2vRsVCYN4",
        "outputId": "61016ce5-88ab-4b52-cf68-72704d15b46d"
      },
      "outputs": [
        {
          "output_type": "execute_result",
          "data": {
            "text/plain": [
              "{'namespace': ['1', 'memories'],\n",
              " 'key': '54981550-2aaf-48e8-bf72-77cdc3f3ae4a',\n",
              " 'value': {'food_preference': 'I like pizza'},\n",
              " 'created_at': '2025-08-29T09:14:33.963909+00:00',\n",
              " 'updated_at': '2025-08-29T09:14:33.963912+00:00'}"
            ]
          },
          "metadata": {},
          "execution_count": 10
        }
      ],
      "source": [
        "# Get the memory by namespace and key\n",
        "memory = in_memory_store.get(namespace_for_memory, key)\n",
        "memory.dict()"
      ]
    },
    {
      "cell_type": "markdown",
      "metadata": {
        "id": "nE5cv3pgCYN4"
      },
      "source": [
        "## Chatbot with long-term memory\n",
        "\n",
        "We want a chatbot that [has two types of memory](https://docs.google.com/presentation/d/181mvjlgsnxudQI6S3ritg9sooNyu4AcLLFH1UK0kIuk/edit#slide=id.g30eb3c8cf10_0_156):\n",
        "\n",
        "1. `Short-term (within-thread) memory`: Chatbot can persist conversational history and / or allow interruptions in a chat session.\n",
        "2. `Long-term (cross-thread) memory`: Chatbot can remember information about a specific user *across all chat sessions*."
      ]
    },
    {
      "cell_type": "code",
      "execution_count": null,
      "metadata": {
        "id": "L8ECQC5eCYN5"
      },
      "outputs": [],
      "source": [
        "_set_env(\"OPENAI_API_KEY\")"
      ]
    },
    {
      "cell_type": "markdown",
      "metadata": {
        "id": "hW4z-4JQCYN5"
      },
      "source": [
        "For `short-term memory`, we'll use a [checkpointer](https://langchain-ai.github.io/langgraph/concepts/persistence/#checkpointer-libraries).\n",
        "\n",
        "See Module 2 and our [conceptual docs](https://langchain-ai.github.io/langgraph/concepts/persistence/) for more on checkpointers, but in summary:\n",
        "\n",
        "* They write the graph state at each step to a thread.\n",
        "* They persist the chat history in the thread.\n",
        "* They allow the graph to be interrupted and / or resumed from any step in the thread.\n",
        "\n",
        "And, for `long-term memory`, we'll use the [LangGraph Store](https://langchain-ai.github.io/langgraph/reference/store/#langgraph.store.base.BaseStore) as introduced above."
      ]
    },
    {
      "cell_type": "code",
      "execution_count": 11,
      "metadata": {
        "id": "uLk977VgCYN5"
      },
      "outputs": [],
      "source": [
        "# Chat model\n",
        "#from langchain_openai import ChatOpenAI\n",
        "from langchain_google_genai import ChatGoogleGenerativeAI\n",
        "\n",
        "# Initialize the LLM\n",
        "#model = ChatOpenAI(model=\"gpt-4o\", temperature=0)\n",
        "model = ChatGoogleGenerativeAI(model=\"gemini-2.5-flash\", temperature=0)\n"
      ]
    },
    {
      "cell_type": "markdown",
      "metadata": {
        "id": "94yTxVXkCYN6"
      },
      "source": [
        "The chat history will be saved to short-term memory using the checkpointer.\n",
        "\n",
        "The chatbot will reflect on the chat history.\n",
        "\n",
        "It will then create and save a memory to the [LangGraph Store](https://langchain-ai.github.io/langgraph/reference/store/#langgraph.store.base.BaseStore).\n",
        "\n",
        "This memory is accessible in future chat sessions to personalize the chatbot's responses."
      ]
    },
    {
      "cell_type": "code",
      "execution_count": 12,
      "metadata": {
        "colab": {
          "base_uri": "https://localhost:8080/",
          "height": 350
        },
        "id": "8bimHOpDCYN6",
        "outputId": "d0242ba9-3cdb-4e8e-f8a2-e7ee4c647303"
      },
      "outputs": [
        {
          "output_type": "display_data",
          "data": {
            "image/png": "[encoded data removed]",
            "text/plain": [
              "<IPython.core.display.Image object>"
            ]
          },
          "metadata": {}
        }
      ],
      "source": [
        "from IPython.display import Image, display\n",
        "\n",
        "from langgraph.checkpoint.memory import MemorySaver\n",
        "from langgraph.graph import StateGraph, MessagesState, START, END\n",
        "from langgraph.store.base import BaseStore\n",
        "\n",
        "from langchain_core.messages import HumanMessage, SystemMessage\n",
        "from langchain_core.runnables.config import RunnableConfig\n",
        "\n",
        "# Chatbot instruction\n",
        "MODEL_SYSTEM_MESSAGE = \"\"\"You are a helpful assistant with memory that provides information about the user.\n",
        "If you have memory for this user, use it to personalize your responses.\n",
        "Here is the memory (it may be empty): {memory}\"\"\"\n",
        "\n",
        "# Create new memory from the chat history and any existing memory\n",
        "CREATE_MEMORY_INSTRUCTION = \"\"\"\"You are collecting information about the user to personalize your responses.\n",
        "\n",
        "CURRENT USER INFORMATION:\n",
        "{memory}\n",
        "\n",
        "INSTRUCTIONS:\n",
        "1. Review the chat history below carefully\n",
        "2. Identify new information about the user, such as:\n",
        "   - Personal details (name, location)\n",
        "   - Preferences (likes, dislikes)\n",
        "   - Interests and hobbies\n",
        "   - Past experiences\n",
        "   - Goals or future plans\n",
        "3. Merge any new information with existing memory\n",
        "4. Format the memory as a clear, bulleted list\n",
        "5. If new information conflicts with existing memory, keep the most recent version\n",
        "\n",
        "Remember: Only include factual information directly stated by the user. Do not make assumptions or inferences.\n",
        "\n",
        "Based on the chat history below, please update the user information:\"\"\"\n",
        "\n",
        "def call_model(state: MessagesState, config: RunnableConfig, store: BaseStore):\n",
        "\n",
        "    \"\"\"Load memory from the store and use it to personalize the chatbot's response.\"\"\"\n",
        "\n",
        "    # Get the user ID from the config\n",
        "    user_id = config[\"configurable\"][\"user_id\"]\n",
        "\n",
        "    # Retrieve memory from the store\n",
        "    namespace = (\"memory\", user_id)\n",
        "    key = \"user_memory\"\n",
        "    existing_memory = store.get(namespace, key)\n",
        "\n",
        "    # Extract the actual memory content if it exists and add a prefix\n",
        "    if existing_memory:\n",
        "        # Value is a dictionary with a memory key\n",
        "        existing_memory_content = existing_memory.value.get('memory')\n",
        "    else:\n",
        "        existing_memory_content = \"No existing memory found.\"\n",
        "\n",
        "    # Format the memory in the system prompt\n",
        "    system_msg = MODEL_SYSTEM_MESSAGE.format(memory=existing_memory_content)\n",
        "\n",
        "    # Respond using memory as well as the chat history\n",
        "    response = model.invoke([SystemMessage(content=system_msg)]+state[\"messages\"])\n",
        "\n",
        "    return {\"messages\": response}\n",
        "\n",
        "def write_memory(state: MessagesState, config: RunnableConfig, store: BaseStore):\n",
        "\n",
        "    \"\"\"Reflect on the chat history and save a memory to the store.\"\"\"\n",
        "\n",
        "    # Get the user ID from the config\n",
        "    user_id = config[\"configurable\"][\"user_id\"]\n",
        "\n",
        "    # Retrieve existing memory from the store\n",
        "    namespace = (\"memory\", user_id)\n",
        "    existing_memory = store.get(namespace, \"user_memory\")\n",
        "\n",
        "    # Extract the memory\n",
        "    if existing_memory:\n",
        "        existing_memory_content = existing_memory.value.get('memory')\n",
        "    else:\n",
        "        existing_memory_content = \"No existing memory found.\"\n",
        "\n",
        "    # Format the memory in the system prompt\n",
        "    system_msg = CREATE_MEMORY_INSTRUCTION.format(memory=existing_memory_content)\n",
        "    new_memory = model.invoke([SystemMessage(content=system_msg)]+state['messages'])\n",
        "\n",
        "    # Overwrite the existing memory in the store\n",
        "    key = \"user_memory\"\n",
        "\n",
        "    # Write value as a dictionary with a memory key\n",
        "    store.put(namespace, key, {\"memory\": new_memory.content})\n",
        "\n",
        "# Define the graph\n",
        "builder = StateGraph(MessagesState)\n",
        "builder.add_node(\"call_model\", call_model)\n",
        "builder.add_node(\"write_memory\", write_memory)\n",
        "builder.add_edge(START, \"call_model\")\n",
        "builder.add_edge(\"call_model\", \"write_memory\")\n",
        "builder.add_edge(\"write_memory\", END)\n",
        "\n",
        "# Store for long-term (across-thread) memory\n",
        "across_thread_memory = InMemoryStore()\n",
        "\n",
        "# Checkpointer for short-term (within-thread) memory\n",
        "within_thread_memory = MemorySaver()\n",
        "\n",
        "# Compile the graph with the checkpointer fir and store\n",
        "graph = builder.compile(checkpointer=within_thread_memory, store=across_thread_memory)\n",
        "\n",
        "# View\n",
        "display(Image(graph.get_graph(xray=1).draw_mermaid_png()))"
      ]
    },
    {
      "cell_type": "markdown",
      "metadata": {
        "id": "jF7deljlCYN6"
      },
      "source": [
        "When we interact with the chatbot, we supply two things:\n",
        "\n",
        "1. `Short-term (within-thread) memory`: A `thread ID` for persisting the chat history.\n",
        "2. `Long-term (cross-thread) memory`: A `user ID` to namespace long-term memories to the user.\n",
        "\n",
        "Let's see how these work together in practice."
      ]
    },
    {
      "cell_type": "code",
      "execution_count": 13,
      "metadata": {
        "colab": {
          "base_uri": "https://localhost:8080/"
        },
        "id": "Gco0DRG_CYN7",
        "outputId": "3f4deaca-1bbe-40eb-9115-ad10c6f61bdc"
      },
      "outputs": [
        {
          "output_type": "stream",
          "name": "stdout",
          "text": [
            "================================\u001b[1m Human Message \u001b[0m=================================\n",
            "\n",
            "Hi, my name is Lance\n",
            "==================================\u001b[1m Ai Message \u001b[0m==================================\n",
            "\n",
            "Hi Lance! It's great to meet you. I'll remember your name.\n"
          ]
        }
      ],
      "source": [
        "# We supply a thread ID for short-term (within-thread) memory\n",
        "# We supply a user ID for long-term (across-thread) memory\n",
        "config = {\"configurable\": {\"thread_id\": \"1\", \"user_id\": \"1\"}}\n",
        "\n",
        "# User input\n",
        "input_messages = [HumanMessage(content=\"Hi, my name is Lance\")]\n",
        "\n",
        "# Run the graph\n",
        "for chunk in graph.stream({\"messages\": input_messages}, config, stream_mode=\"values\"):\n",
        "    chunk[\"messages\"][-1].pretty_print()"
      ]
    },
    {
      "cell_type": "code",
      "execution_count": 14,
      "metadata": {
        "colab": {
          "base_uri": "https://localhost:8080/"
        },
        "id": "VARscGWwCYN7",
        "outputId": "51e9aca7-a5f6-4311-af7e-b73fb587aa6e"
      },
      "outputs": [
        {
          "output_type": "stream",
          "name": "stdout",
          "text": [
            "================================\u001b[1m Human Message \u001b[0m=================================\n",
            "\n",
            "I like to bike around San Francisco\n",
            "==================================\u001b[1m Ai Message \u001b[0m==================================\n",
            "\n",
            "That's awesome, Lance! Biking around San Francisco sounds like a fantastic way to explore the city. I'll remember that you enjoy cycling there. Do you have a favorite route?\n"
          ]
        },
        {
          "output_type": "stream",
          "name": "stderr",
          "text": [
            "WARNING:langchain_google_genai.chat_models:Gemini produced an empty response. Continuing with empty message\n",
            "Feedback: \n"
          ]
        }
      ],
      "source": [
        "# User input\n",
        "input_messages = [HumanMessage(content=\"I like to bike around San Francisco\")]\n",
        "\n",
        "# Run the graph\n",
        "for chunk in graph.stream({\"messages\": input_messages}, config, stream_mode=\"values\"):\n",
        "    chunk[\"messages\"][-1].pretty_print()"
      ]
    },
    {
      "cell_type": "markdown",
      "metadata": {
        "id": "z7rgsFybCYOg"
      },
      "source": [
        "We're using the `MemorySaver` checkpointer for within-thread memory.\n",
        "\n",
        "This saves the chat history to the thread.\n",
        "\n",
        "We can look at the chat history saved to the thread."
      ]
    },
    {
      "cell_type": "code",
      "execution_count": 15,
      "metadata": {
        "colab": {
          "base_uri": "https://localhost:8080/"
        },
        "id": "vL-lc38UCYOh",
        "outputId": "d2973a57-68b4-4718-9a99-c8f9da1a59e3"
      },
      "outputs": [
        {
          "output_type": "stream",
          "name": "stdout",
          "text": [
            "================================\u001b[1m Human Message \u001b[0m=================================\n",
            "\n",
            "Hi, my name is Lance\n",
            "==================================\u001b[1m Ai Message \u001b[0m==================================\n",
            "\n",
            "Hi Lance! It's great to meet you. I'll remember your name.\n",
            "================================\u001b[1m Human Message \u001b[0m=================================\n",
            "\n",
            "I like to bike around San Francisco\n",
            "==================================\u001b[1m Ai Message \u001b[0m==================================\n",
            "\n",
            "That's awesome, Lance! Biking around San Francisco sounds like a fantastic way to explore the city. I'll remember that you enjoy cycling there. Do you have a favorite route?\n"
          ]
        }
      ],
      "source": [
        "thread = {\"configurable\": {\"thread_id\": \"1\"}}\n",
        "state = graph.get_state(thread).values\n",
        "for m in state[\"messages\"]:\n",
        "    m.pretty_print()"
      ]
    },
    {
      "cell_type": "markdown",
      "metadata": {
        "id": "jl0TQOZ5CYOh"
      },
      "source": [
        "Recall that we compiled the graph with our the store:\n",
        "\n",
        "```python\n",
        "across_thread_memory = InMemoryStore()\n",
        "```\n",
        "\n",
        "And, we added a node to the graph (`write_memory`) that reflects on the chat history and saves a memory to the store.\n",
        "\n",
        "We can to see if the memory was saved to the store."
      ]
    },
    {
      "cell_type": "code",
      "execution_count": 16,
      "metadata": {
        "colab": {
          "base_uri": "https://localhost:8080/"
        },
        "id": "KvYtj8GpCYOh",
        "outputId": "327a6e3a-50bd-41b1-90a6-6a8db451d27a"
      },
      "outputs": [
        {
          "output_type": "execute_result",
          "data": {
            "text/plain": [
              "{'namespace': ['memory', '1'],\n",
              " 'key': 'user_memory',\n",
              " 'value': {'memory': ''},\n",
              " 'created_at': '2025-08-29T09:16:17.252315+00:00',\n",
              " 'updated_at': '2025-08-29T09:16:17.252317+00:00'}"
            ]
          },
          "metadata": {},
          "execution_count": 16
        }
      ],
      "source": [
        "# Namespace for the memory to save\n",
        "user_id = \"1\"\n",
        "namespace = (\"memory\", user_id)\n",
        "existing_memory = across_thread_memory.get(namespace, \"user_memory\")\n",
        "existing_memory.dict()"
      ]
    },
    {
      "cell_type": "markdown",
      "metadata": {
        "id": "Hdx4DVcKCYOi"
      },
      "source": [
        "Now, let's kick off a *new thread* with the *same user ID*.\n",
        "\n",
        "We should see that the chatbot remembered the user's profile and used it to personalize the response."
      ]
    },
    {
      "cell_type": "code",
      "execution_count": 17,
      "metadata": {
        "colab": {
          "base_uri": "https://localhost:8080/"
        },
        "id": "qFMqkPBICYOi",
        "outputId": "e5c5a407-76b9-4e08-c2f5-fb866c457ff9"
      },
      "outputs": [
        {
          "output_type": "stream",
          "name": "stdout",
          "text": [
            "================================\u001b[1m Human Message \u001b[0m=================================\n",
            "\n",
            "Hi! Where would you recommend that I go biking?\n",
            "==================================\u001b[1m Ai Message \u001b[0m==================================\n",
            "\n",
            "Hi there! To give you the best recommendations, could you tell me a little more about what you're looking for? For example:\n",
            "\n",
            "*   **What kind of biking do you enjoy?** (e.g., road biking, mountain biking, casual rides, long-distance, scenic routes, urban paths)\n",
            "*   **Where are you located, or where are you planning to bike?** (e.g., a specific city, state, or region)\n",
            "*   **What's your experience level?** (e.g., beginner, intermediate, advanced)\n",
            "\n",
            "In the meantime, some general recommendations often include:\n",
            "\n",
            "*   **Local Rail-Trails/Greenways:** These are often paved or crushed gravel, relatively flat, and great for casual rides, families, or longer distances without traffic.\n",
            "*   **State/National Parks:** Many parks have designated biking trails, ranging from paved scenic loops to challenging mountain bike trails.\n",
            "*   **Bike Paths along Rivers or Coasts:** These can offer beautiful views and a refreshing breeze.\n",
            "*   **Mountain Biking Parks/Trails:** If you're into off-road adventures, dedicated mountain bike parks or trail systems offer varying levels of difficulty.\n",
            "\n",
            "Let me know more about what you're looking for, and I can give you some more specific ideas!\n"
          ]
        },
        {
          "output_type": "stream",
          "name": "stderr",
          "text": [
            "WARNING:langchain_google_genai.chat_models:Gemini produced an empty response. Continuing with empty message\n",
            "Feedback: \n"
          ]
        }
      ],
      "source": [
        "# We supply a user ID for across-thread memory as well as a new thread ID\n",
        "config = {\"configurable\": {\"thread_id\": \"2\", \"user_id\": \"1\"}}\n",
        "\n",
        "# User input\n",
        "input_messages = [HumanMessage(content=\"Hi! Where would you recommend that I go biking?\")]\n",
        "\n",
        "# Run the graph\n",
        "for chunk in graph.stream({\"messages\": input_messages}, config, stream_mode=\"values\"):\n",
        "    chunk[\"messages\"][-1].pretty_print()"
      ]
    },
    {
      "cell_type": "code",
      "execution_count": 18,
      "metadata": {
        "colab": {
          "base_uri": "https://localhost:8080/"
        },
        "id": "ZefL5JUGCYOj",
        "outputId": "2de89ff5-a0d3-4b95-9412-6be8cf871dc5"
      },
      "outputs": [
        {
          "output_type": "stream",
          "name": "stdout",
          "text": [
            "================================\u001b[1m Human Message \u001b[0m=================================\n",
            "\n",
            "Great, are there any bakeries nearby that I can check out? I like a croissant after biking.\n",
            "==================================\u001b[1m Ai Message \u001b[0m==================================\n",
            "\n",
            "That sounds like a perfect post-biking treat! I love a good croissant too.\n",
            "\n",
            "To recommend bakeries nearby, I'll need to know **where you are currently located or the area you're interested in.** Once I have that, I can look for some great spots that might have delicious croissants for you!\n"
          ]
        },
        {
          "output_type": "stream",
          "name": "stderr",
          "text": [
            "WARNING:langchain_google_genai.chat_models:Gemini produced an empty response. Continuing with empty message\n",
            "Feedback: \n"
          ]
        }
      ],
      "source": [
        "# User input\n",
        "input_messages = [HumanMessage(content=\"Great, are there any bakeries nearby that I can check out? I like a croissant after biking.\")]\n",
        "\n",
        "# Run the graph\n",
        "for chunk in graph.stream({\"messages\": input_messages}, config, stream_mode=\"values\"):\n",
        "    chunk[\"messages\"][-1].pretty_print()"
      ]
    },
    {
      "cell_type": "markdown",
      "metadata": {
        "id": "36omrgFPCYOj"
      },
      "source": [
        "## Viewing traces in LangSmith\n",
        "\n",
        "We can see that the memories are retrieved from the store and supplied as part of the system prompt, as expected:\n",
        "\n",
        "https://smith.langchain.com/public/10268d64-82ff-434e-ac02-4afa5cc15432/r\n",
        "\n",
        "## Studio\n",
        "\n",
        "We can also interact with our chatbot in Studio.\n",
        "\n",
        "![Screenshot 2024-10-28 at 10.08.27 AM.png](attachment:afa216f7-4b67-4783-82af-c319e0f512ac.png)"
      ]
    },
    {
      "cell_type": "markdown",
      "metadata": {
        "id": "FxXccri_CYOj"
      },
      "source": []
    }
  ],
  "metadata": {
    "kernelspec": {
      "display_name": "Python 3 (ipykernel)",
      "language": "python",
      "name": "python3"
    },
    "language_info": {
      "codemirror_mode": {
        "name": "ipython",
        "version": 3
      },
      "file_extension": ".py",
      "mimetype": "text/x-python",
      "name": "python",
      "nbconvert_exporter": "python",
      "pygments_lexer": "ipython3",
      "version": "3.11.8"
    },
    "colab": {
      "provenance": []
    }
  },
  "nbformat": 4,
  "nbformat_minor": 0
}