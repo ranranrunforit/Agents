{
  "cells": [
    {
      "cell_type": "markdown",
      "id": "fb0ebaf1",
      "metadata": {
        "id": "fb0ebaf1"
      },
      "source": [
        "[![Open in Colab](https://colab.research.google.com/assets/colab-badge.svg)](https://colab.research.google.com/github/langchain-ai/langchain-academy/blob/main/module-2/trim-filter-messages.ipynb) [![Open in LangChain Academy](https://cdn.prod.website-files.com/65b8cd72835ceeacd4449a53/66e9eba12c7b7688aa3dbb5e_LCA-badge-green.svg)](https://academy.langchain.com/courses/take/intro-to-langgraph/lessons/58239435-lesson-4-trim-and-filter-messages)"
      ]
    },
    {
      "cell_type": "markdown",
      "id": "c52ea2f9-03ff-4647-b782-46867ebed04e",
      "metadata": {
        "id": "c52ea2f9-03ff-4647-b782-46867ebed04e"
      },
      "source": [
        "# Filtering and trimming messages\n",
        "\n",
        "## Review\n",
        "\n",
        "Now, we have a deeper understanding of a few things:\n",
        "\n",
        "* How to customize the graph state schema\n",
        "* How to define custom state reducers\n",
        "* How to use multiple graph state schemas\n",
        "\n",
        "## Goals\n",
        "\n",
        "Now, we can start using these concepts with models in LangGraph!\n",
        "\n",
        "In the next few sessions, we'll build towards a chatbot that has long-term memory.\n",
        "\n",
        "Because our chatbot will use messages, let's first talk a bit more about advanced ways to work with messages in graph state."
      ]
    },
    {
      "cell_type": "code",
      "source": [
        "### Mount Notebook to Google Drive\n",
        "from google.colab import drive\n",
        "drive.mount('/content/drive')\n",
        "# change the working directory to the Drive root\n",
        "%cd /content/drive/My\\ Drive/Colab\\ Notebooks/langchain-academy-main/module-2"
      ],
      "metadata": {
        "colab": {
          "base_uri": "https://localhost:8080/"
        },
        "id": "MrG5vvjFGgOG",
        "outputId": "de77b18e-bd68-4921-e04f-f31db6d81f59"
      },
      "execution_count": 1,
      "outputs": [
        {
          "output_type": "stream",
          "name": "stdout",
          "text": [
            "Mounted at /content/drive\n",
            "/content/drive/My Drive/Colab Notebooks/langchain-academy-main/module-2\n"
          ]
        }
      ],
      "id": "MrG5vvjFGgOG"
    },
    {
      "cell_type": "code",
      "source": [
        "!pip install --quiet -U langchain-google-genai langchain_core langgraph"
      ],
      "metadata": {
        "colab": {
          "base_uri": "https://localhost:8080/"
        },
        "id": "pOIAnY-oGxnX",
        "outputId": "834d8160-2b4d-4512-f97c-1beda165b11b"
      },
      "execution_count": 2,
      "outputs": [
        {
          "output_type": "stream",
          "name": "stdout",
          "text": [
            "\u001b[?25l     \u001b[90m━━━━━━━━━━━━━━━━━━━━━━━━━━━━━━━━━━━━━━━━\u001b[0m \u001b[32m0.0/43.7 kB\u001b[0m \u001b[31m?\u001b[0m eta \u001b[36m-:--:--\u001b[0m\r\u001b[2K     \u001b[90m━━━━━━━━━━━━━━━━━━━━━━━━━━━━━━━━━━━━━━━━\u001b[0m \u001b[32m43.7/43.7 kB\u001b[0m \u001b[31m1.9 MB/s\u001b[0m eta \u001b[36m0:00:00\u001b[0m\n",
            "\u001b[2K   \u001b[90m━━━━━━━━━━━━━━━━━━━━━━━━━━━━━━━━━━━━━━━━\u001b[0m \u001b[32m49.4/49.4 kB\u001b[0m \u001b[31m4.0 MB/s\u001b[0m eta \u001b[36m0:00:00\u001b[0m\n",
            "\u001b[2K   \u001b[90m━━━━━━━━━━━━━━━━━━━━━━━━━━━━━━━━━━━━━━━━\u001b[0m \u001b[32m444.0/444.0 kB\u001b[0m \u001b[31m11.6 MB/s\u001b[0m eta \u001b[36m0:00:00\u001b[0m\n",
            "\u001b[2K   \u001b[90m━━━━━━━━━━━━━━━━━━━━━━━━━━━━━━━━━━━━━━━━\u001b[0m \u001b[32m153.3/153.3 kB\u001b[0m \u001b[31m11.0 MB/s\u001b[0m eta \u001b[36m0:00:00\u001b[0m\n",
            "\u001b[2K   \u001b[90m━━━━━━━━━━━━━━━━━━━━━━━━━━━━━━━━━━━━━━━━\u001b[0m \u001b[32m1.4/1.4 MB\u001b[0m \u001b[31m38.1 MB/s\u001b[0m eta \u001b[36m0:00:00\u001b[0m\n",
            "\u001b[2K   \u001b[90m━━━━━━━━━━━━━━━━━━━━━━━━━━━━━━━━━━━━━━━━\u001b[0m \u001b[32m43.9/43.9 kB\u001b[0m \u001b[31m2.5 MB/s\u001b[0m eta \u001b[36m0:00:00\u001b[0m\n",
            "\u001b[2K   \u001b[90m━━━━━━━━━━━━━━━━━━━━━━━━━━━━━━━━━━━━━━━━\u001b[0m \u001b[32m52.6/52.6 kB\u001b[0m \u001b[31m4.1 MB/s\u001b[0m eta \u001b[36m0:00:00\u001b[0m\n",
            "\u001b[2K   \u001b[90m━━━━━━━━━━━━━━━━━━━━━━━━━━━━━━━━━━━━━━━━\u001b[0m \u001b[32m216.7/216.7 kB\u001b[0m \u001b[31m16.7 MB/s\u001b[0m eta \u001b[36m0:00:00\u001b[0m\n",
            "\u001b[?25h\u001b[31mERROR: pip's dependency resolver does not currently take into account all the packages that are installed. This behaviour is the source of the following dependency conflicts.\n",
            "google-generativeai 0.8.5 requires google-ai-generativelanguage==0.6.15, but you have google-ai-generativelanguage 0.6.18 which is incompatible.\u001b[0m\u001b[31m\n",
            "\u001b[0m"
          ]
        }
      ],
      "id": "pOIAnY-oGxnX"
    },
    {
      "cell_type": "code",
      "source": [
        "!pip install --quiet python-dotenv"
      ],
      "metadata": {
        "id": "n9k9ZKUaHA5l"
      },
      "execution_count": 3,
      "outputs": [],
      "id": "n9k9ZKUaHA5l"
    },
    {
      "cell_type": "code",
      "source": [
        "from dotenv import load_dotenv\n",
        "load_dotenv(\".env\")"
      ],
      "metadata": {
        "colab": {
          "base_uri": "https://localhost:8080/"
        },
        "id": "nB4-CZXlHAbB",
        "outputId": "3ab2f351-a57d-42f8-d512-014045e46849"
      },
      "execution_count": 4,
      "outputs": [
        {
          "output_type": "execute_result",
          "data": {
            "text/plain": [
              "True"
            ]
          },
          "metadata": {},
          "execution_count": 4
        }
      ],
      "id": "nB4-CZXlHAbB"
    },
    {
      "cell_type": "code",
      "execution_count": null,
      "id": "d5197aba-5d46-421b-ae3b-4e3034edcfda",
      "metadata": {
        "id": "d5197aba-5d46-421b-ae3b-4e3034edcfda"
      },
      "outputs": [],
      "source": [
        "%%capture --no-stderr\n",
        "%pip install --quiet -U langchain_core langgraph langchain_openai"
      ]
    },
    {
      "cell_type": "code",
      "execution_count": 5,
      "id": "768dc606-d5f2-468d-96ea-910b264e0f8a",
      "metadata": {
        "id": "768dc606-d5f2-468d-96ea-910b264e0f8a"
      },
      "outputs": [],
      "source": [
        "import os, getpass\n",
        "\n",
        "def _set_env(var: str):\n",
        "    if not os.environ.get(var):\n",
        "        os.environ[var] = getpass.getpass(f\"{var}: \")\n",
        "\n",
        "_set_env(\"GOOGLE_API_KEY\")"
      ]
    },
    {
      "cell_type": "markdown",
      "id": "8b64d8d3-e4ac-4961-bdc0-688825eb5864",
      "metadata": {
        "id": "8b64d8d3-e4ac-4961-bdc0-688825eb5864"
      },
      "source": [
        "We'll use [LangSmith](https://docs.smith.langchain.com/) for [tracing](https://docs.smith.langchain.com/concepts/tracing).\n",
        "\n",
        "We'll log to a project, `langchain-academy`."
      ]
    },
    {
      "cell_type": "code",
      "execution_count": null,
      "id": "dd020c79",
      "metadata": {
        "id": "dd020c79"
      },
      "outputs": [],
      "source": [
        "_set_env(\"LANGSMITH_API_KEY\")\n",
        "os.environ[\"LANGSMITH_TRACING\"] = \"true\"\n",
        "os.environ[\"LANGSMITH_PROJECT\"] = \"langchain-academy\""
      ]
    },
    {
      "cell_type": "markdown",
      "id": "72f3fc90-58b6-4f7f-897e-dddf6ae532c7",
      "metadata": {
        "id": "72f3fc90-58b6-4f7f-897e-dddf6ae532c7"
      },
      "source": [
        "## Messages as state\n",
        "\n",
        "First, let's define some messages."
      ]
    },
    {
      "cell_type": "code",
      "execution_count": 6,
      "id": "cf11a463-e27a-4a05-b41d-64882e38edca",
      "metadata": {
        "colab": {
          "base_uri": "https://localhost:8080/"
        },
        "id": "cf11a463-e27a-4a05-b41d-64882e38edca",
        "outputId": "e1df75d4-a7e6-4feb-d329-655cc560bae0"
      },
      "outputs": [
        {
          "output_type": "stream",
          "name": "stdout",
          "text": [
            "==================================\u001b[1m Ai Message \u001b[0m==================================\n",
            "Name: Bot\n",
            "\n",
            "So you said you were researching ocean mammals?\n",
            "================================\u001b[1m Human Message \u001b[0m=================================\n",
            "Name: Lance\n",
            "\n",
            "Yes, I know about whales. But what others should I learn about?\n"
          ]
        }
      ],
      "source": [
        "from pprint import pprint\n",
        "from langchain_core.messages import AIMessage, HumanMessage\n",
        "messages = [AIMessage(f\"So you said you were researching ocean mammals?\", name=\"Bot\")]\n",
        "messages.append(HumanMessage(f\"Yes, I know about whales. But what others should I learn about?\", name=\"Lance\"))\n",
        "\n",
        "for m in messages:\n",
        "    m.pretty_print()"
      ]
    },
    {
      "cell_type": "markdown",
      "id": "b814adcb-6bf9-4b75-be11-e59f933fbd0c",
      "metadata": {
        "id": "b814adcb-6bf9-4b75-be11-e59f933fbd0c"
      },
      "source": [
        "Recall we can pass them to a chat model."
      ]
    },
    {
      "cell_type": "code",
      "execution_count": 7,
      "id": "4712e288-e622-48a2-ad3f-a52f65f3ab08",
      "metadata": {
        "colab": {
          "base_uri": "https://localhost:8080/"
        },
        "id": "4712e288-e622-48a2-ad3f-a52f65f3ab08",
        "outputId": "9141a308-6d45-4675-dc71-12482373041e"
      },
      "outputs": [
        {
          "output_type": "execute_result",
          "data": {
            "text/plain": [
              "AIMessage(content='That\\'s a great area to research! Beyond the large whales (both baleen and toothed), there\\'s a fascinating array of other ocean mammals. Here are some key groups and examples you should definitely learn about:\\n\\n1.  **Pinnipeds (Seals, Sea Lions, and Walruses):**\\n    *   **Seals (True Seals/Earless Seals):** These are more torpedo-shaped, have no external ear flaps, and use their hind flippers for propulsion in water (they can\\'t rotate them forward to \"walk\" on land, so they undulate their bodies).\\n        *   *Examples:* Harbor seals, Grey seals, Harp seals, Ringed seals, Leopard seals, Elephant seals (the largest seals).\\n    *   **Sea Lions (Eared Seals):** They have visible external ear flaps and can rotate their hind flippers forward, allowing them to \"walk\" on all fours on land. They use their powerful front flippers for propulsion in water.\\n        *   *Examples:* California sea lions, Steller sea lions, Galapagos sea lions.\\n    *   **Walruses:** Distinctive for their long tusks (can be found on both males and females), they are large, blubbery pinnipeds found in the Arctic. They use their tusks for hauling out onto ice and for foraging.\\n\\n2.  **Sirenians (Manatees and Dugongs):**\\n    *   Often called \"sea cows,\" these are gentle, herbivorous mammals that live in coastal waters, rivers, and estuaries.\\n    *   **Manatees:** Have a paddle-shaped tail. Found in the Atlantic (West Indian, Amazonian, African species).\\n    *   **Dugongs:** Have a fluke-like tail, similar to a whale\\'s. Found in the Indo-Pacific.\\n\\n3.  **Sea Otters:**\\n    *   The smallest marine mammals, known for their incredibly dense fur (the densest of any animal) which helps them stay warm as they lack blubber.\\n    *   They are famous for using tools (like rocks to crack open shellfish) and often float on their backs.\\n    *   Found in the North Pacific.\\n\\n4.  **Polar Bears:**\\n    *   While technically a land carnivore, polar bears are highly dependent on the ocean for their survival, spending most of their lives on sea ice hunting seals.\\n    *   They are excellent swimmers and are perfectly adapted to the harsh Arctic environment.\\n\\n5.  **Dolphins and Porpoises:**\\n    *   While technically smaller toothed whales (part of the order Cetacea, like whales), many people think of them separately from the \"big whales.\"\\n    *   **Dolphins:** Generally have conical teeth, a curved dorsal fin, and are often very social, acrobatic, and intelligent.\\n        *   *Examples:* Bottlenose dolphins, Spinner dolphins, Common dolphins, Orcas (Killer Whales – the largest dolphin species!).\\n    *   **Porpoises:** Generally smaller than dolphins, with spade-shaped teeth and a more triangular dorsal fin. They tend to be shyer and less acrobatic.\\n        *   *Examples:* Harbor porpoises, Dall\\'s porpoises.\\n\\nEach of these groups has unique adaptations, behaviors, and ecological roles. Happy researching!', additional_kwargs={}, response_metadata={'prompt_feedback': {'block_reason': 0, 'safety_ratings': []}, 'finish_reason': 'STOP', 'model_name': 'gemini-2.5-flash', 'safety_ratings': []}, id='run--2a4fa79e-c5b4-45af-af62-c48d60a92955-0', usage_metadata={'input_tokens': 26, 'output_tokens': 1927, 'total_tokens': 1953, 'input_token_details': {'cache_read': 0}, 'output_token_details': {'reasoning': 1218}})"
            ]
          },
          "metadata": {},
          "execution_count": 7
        }
      ],
      "source": [
        "#from langchain_openai import ChatOpenAI\n",
        "from langchain_google_genai import ChatGoogleGenerativeAI\n",
        "\n",
        "llm = ChatGoogleGenerativeAI(\n",
        "    model=\"gemini-2.5-flash\",\n",
        "    temperature=0\n",
        ")\n",
        "#llm = ChatOpenAI(model=\"gpt-4o\")\n",
        "llm.invoke(messages)"
      ]
    },
    {
      "cell_type": "markdown",
      "id": "fbd1dab8-0af8-4621-8264-ce65065f76ec",
      "metadata": {
        "id": "fbd1dab8-0af8-4621-8264-ce65065f76ec"
      },
      "source": [
        "We can run our chat model in a simple graph with `MessagesState`."
      ]
    },
    {
      "cell_type": "code",
      "execution_count": 8,
      "id": "bbd8c39c-633b-4176-9cc6-8318e42bb5dd",
      "metadata": {
        "colab": {
          "base_uri": "https://localhost:8080/",
          "height": 251
        },
        "id": "bbd8c39c-633b-4176-9cc6-8318e42bb5dd",
        "outputId": "980d131c-0e47-4e61-c4ca-f23cf209a633"
      },
      "outputs": [
        {
          "output_type": "display_data",
          "data": {
            "image/png": "[encoded data removed]",
            "text/plain": [
              "<IPython.core.display.Image object>"
            ]
          },
          "metadata": {}
        }
      ],
      "source": [
        "from IPython.display import Image, display\n",
        "from langgraph.graph import MessagesState\n",
        "from langgraph.graph import StateGraph, START, END\n",
        "\n",
        "# Node\n",
        "def chat_model_node(state: MessagesState):\n",
        "    return {\"messages\": llm.invoke(state[\"messages\"])}\n",
        "\n",
        "# Build graph\n",
        "builder = StateGraph(MessagesState)\n",
        "builder.add_node(\"chat_model\", chat_model_node)\n",
        "builder.add_edge(START, \"chat_model\")\n",
        "builder.add_edge(\"chat_model\", END)\n",
        "graph = builder.compile()\n",
        "\n",
        "# View\n",
        "display(Image(graph.get_graph().draw_mermaid_png()))"
      ]
    },
    {
      "cell_type": "code",
      "execution_count": 9,
      "id": "3a5a3e4a-ccfd-4d14-81f1-f0de6e11a1e4",
      "metadata": {
        "colab": {
          "base_uri": "https://localhost:8080/"
        },
        "id": "3a5a3e4a-ccfd-4d14-81f1-f0de6e11a1e4",
        "outputId": "e59636b9-ffb4-4a8e-92a5-eba4906774f6"
      },
      "outputs": [
        {
          "output_type": "stream",
          "name": "stdout",
          "text": [
            "==================================\u001b[1m Ai Message \u001b[0m==================================\n",
            "Name: Bot\n",
            "\n",
            "So you said you were researching ocean mammals?\n",
            "================================\u001b[1m Human Message \u001b[0m=================================\n",
            "Name: Lance\n",
            "\n",
            "Yes, I know about whales. But what others should I learn about?\n",
            "==================================\u001b[1m Ai Message \u001b[0m==================================\n",
            "\n",
            "That's a great area to research! Beyond the large whales (both baleen and toothed), there's a fascinating array of other ocean mammals. Here are some key groups and examples you should definitely learn about:\n",
            "\n",
            "1.  **Pinnipeds (Seals, Sea Lions, and Walruses):**\n",
            "    *   **Seals (True Seals/Earless Seals):** These are more torpedo-shaped, have no external ear flaps, and use their hind flippers for propulsion in water (they can't rotate them forward to \"walk\" on land, so they undulate their bodies).\n",
            "        *   *Examples:* Harbor seals, Grey seals, Harp seals, Ringed seals, Leopard seals, Elephant seals (the largest seals).\n",
            "    *   **Sea Lions (Eared Seals):** They have visible external ear flaps and can rotate their hind flippers forward, allowing them to \"walk\" on all fours on land. They use their powerful front flippers for propulsion in water.\n",
            "        *   *Examples:* California sea lions, Steller sea lions, Galapagos sea lions.\n",
            "    *   **Walruses:** Distinctive for their long tusks (can be found on both males and females), they are large, blubbery pinnipeds found in the Arctic. They use their tusks for hauling out onto ice and for foraging.\n",
            "\n",
            "2.  **Sirenians (Manatees and Dugongs):**\n",
            "    *   Often called \"sea cows,\" these are gentle, herbivorous mammals that live in coastal waters, rivers, and estuaries.\n",
            "    *   **Manatees:** Have a paddle-shaped tail. Found in the Atlantic (West Indian, Amazonian, African species).\n",
            "    *   **Dugongs:** Have a fluke-like tail, similar to a whale's. Found in the Indo-Pacific.\n",
            "\n",
            "3.  **Sea Otters:**\n",
            "    *   The smallest marine mammals, known for their incredibly dense fur (the densest of any animal) which helps them stay warm as they lack blubber.\n",
            "    *   They are famous for using tools (like rocks to crack open shellfish) and often float on their backs.\n",
            "    *   Found in the North Pacific.\n",
            "\n",
            "4.  **Polar Bears:**\n",
            "    *   While technically a land carnivore, polar bears are highly dependent on the ocean for their survival, spending most of their lives on sea ice hunting seals.\n",
            "    *   They are excellent swimmers and are perfectly adapted to the harsh Arctic environment.\n",
            "\n",
            "5.  **Dolphins and Porpoises:**\n",
            "    *   While technically smaller toothed whales (part of the order Cetacea, like whales), many people think of them separately from the \"big whales.\"\n",
            "    *   **Dolphins:** Generally have conical teeth, a curved dorsal fin, and are often very social, acrobatic, and intelligent.\n",
            "        *   *Examples:* Bottlenose dolphins, Spinner dolphins, Common dolphins, Orcas (Killer Whales – the largest dolphin species!).\n",
            "    *   **Porpoises:** Generally smaller than dolphins, with spade-shaped teeth and a more triangular dorsal fin. They tend to be shyer and less acrobatic.\n",
            "        *   *Examples:* Harbor porpoises, Dall's porpoises.\n",
            "\n",
            "Each of these groups has unique adaptations, behaviors, and ecological roles. Happy researching!\n"
          ]
        }
      ],
      "source": [
        "output = graph.invoke({'messages': messages})\n",
        "for m in output['messages']:\n",
        "    m.pretty_print()"
      ]
    },
    {
      "cell_type": "markdown",
      "id": "34c33e63-1ef4-412d-bb10-6a1b9e5b35a7",
      "metadata": {
        "id": "34c33e63-1ef4-412d-bb10-6a1b9e5b35a7"
      },
      "source": [
        "## Reducer\n",
        "\n",
        "A practical challenge when working with messages is managing long-running conversations.\n",
        "\n",
        "Long-running conversations result in high token usage and latency if we are not careful, because we pass a growing list of messages to the model.\n",
        "\n",
        "We have a few ways to address this.\n",
        "\n",
        "First, recall the trick we saw using `RemoveMessage` and the `add_messages` reducer."
      ]
    },
    {
      "cell_type": "code",
      "execution_count": 10,
      "id": "222c6bc5-bb0e-4a43-80f5-c8ec38d99f3a",
      "metadata": {
        "colab": {
          "base_uri": "https://localhost:8080/",
          "height": 350
        },
        "id": "222c6bc5-bb0e-4a43-80f5-c8ec38d99f3a",
        "outputId": "6ab2c6eb-bccc-4ca4-8e26-3f27f4c39467"
      },
      "outputs": [
        {
          "output_type": "display_data",
          "data": {
            "image/png": "[encoded data removed]",
            "text/plain": [
              "<IPython.core.display.Image object>"
            ]
          },
          "metadata": {}
        }
      ],
      "source": [
        "from langchain_core.messages import RemoveMessage\n",
        "\n",
        "# Nodes\n",
        "def filter_messages(state: MessagesState):\n",
        "    # Delete all but the 2 most recent messages\n",
        "    delete_messages = [RemoveMessage(id=m.id) for m in state[\"messages\"][:-2]]\n",
        "    return {\"messages\": delete_messages}\n",
        "\n",
        "def chat_model_node(state: MessagesState):\n",
        "    return {\"messages\": [llm.invoke(state[\"messages\"])]}\n",
        "\n",
        "# Build graph\n",
        "builder = StateGraph(MessagesState)\n",
        "builder.add_node(\"filter\", filter_messages)\n",
        "builder.add_node(\"chat_model\", chat_model_node)\n",
        "builder.add_edge(START, \"filter\")\n",
        "builder.add_edge(\"filter\", \"chat_model\")\n",
        "builder.add_edge(\"chat_model\", END)\n",
        "graph = builder.compile()\n",
        "\n",
        "# View\n",
        "display(Image(graph.get_graph().draw_mermaid_png()))"
      ]
    },
    {
      "cell_type": "code",
      "execution_count": 11,
      "id": "95a7c2cc-54ce-43e7-9a90-abf37827d709",
      "metadata": {
        "colab": {
          "base_uri": "https://localhost:8080/"
        },
        "id": "95a7c2cc-54ce-43e7-9a90-abf37827d709",
        "outputId": "234d3546-18f7-451e-b3db-9d84940ac035"
      },
      "outputs": [
        {
          "output_type": "stream",
          "name": "stdout",
          "text": [
            "==================================\u001b[1m Ai Message \u001b[0m==================================\n",
            "Name: Bot\n",
            "\n",
            "So you said you were researching ocean mammals?\n",
            "================================\u001b[1m Human Message \u001b[0m=================================\n",
            "Name: Lance\n",
            "\n",
            "Yes, I know about whales. But what others should I learn about?\n",
            "==================================\u001b[1m Ai Message \u001b[0m==================================\n",
            "\n",
            "That's a great area to research! Beyond the large whales (both baleen and toothed), there's a fascinating array of other ocean mammals. Here are some key groups and examples you should definitely learn about:\n",
            "\n",
            "1.  **Pinnipeds (Seals, Sea Lions, and Walruses):**\n",
            "    *   **Seals (True Seals/Earless Seals):** These are more torpedo-shaped, have no external ear flaps, and use their hind flippers for propulsion in water (they can't rotate them forward to \"walk\" on land, so they undulate their bodies).\n",
            "        *   *Examples:* Harbor seals, Grey seals, Harp seals, Ringed seals, Leopard seals, Elephant seals (the largest seals).\n",
            "    *   **Sea Lions (Eared Seals):** They have visible external ear flaps and can rotate their hind flippers forward, allowing them to \"walk\" on all fours on land. They use their powerful front flippers for propulsion in water.\n",
            "        *   *Examples:* California sea lions, Steller sea lions, Galapagos sea lions.\n",
            "    *   **Walruses:** Distinctive for their long tusks (can be found on both males and females), they are large, blubbery pinnipeds found in the Arctic. They use their tusks for hauling out onto ice and for foraging.\n",
            "\n",
            "2.  **Sirenians (Manatees and Dugongs):**\n",
            "    *   Often called \"sea cows,\" these are gentle, herbivorous mammals that live in coastal waters, rivers, and estuaries.\n",
            "    *   **Manatees:** Have a paddle-shaped tail. Found in the Atlantic (West Indian, Amazonian, African species).\n",
            "    *   **Dugongs:** Have a fluke-like tail, similar to a whale's. Found in the Indo-Pacific.\n",
            "\n",
            "3.  **Sea Otters:**\n",
            "    *   The smallest marine mammals, known for their incredibly dense fur (the densest of any animal) which helps them stay warm as they lack blubber.\n",
            "    *   They are famous for using tools (like rocks to crack open shellfish) and often float on their backs.\n",
            "    *   Found in the North Pacific.\n",
            "\n",
            "4.  **Polar Bears:**\n",
            "    *   While technically a land carnivore, polar bears are highly dependent on the ocean for their survival, spending most of their lives on sea ice hunting seals.\n",
            "    *   They are excellent swimmers and are perfectly adapted to the harsh Arctic environment.\n",
            "\n",
            "5.  **Dolphins and Porpoises:**\n",
            "    *   While technically smaller toothed whales (part of the order Cetacea, like whales), many people think of them separately from the \"big whales.\"\n",
            "    *   **Dolphins:** Generally have conical teeth, a curved dorsal fin, and are often very social, acrobatic, and intelligent.\n",
            "        *   *Examples:* Bottlenose dolphins, Spinner dolphins, Common dolphins, Orcas (Killer Whales – the largest dolphin species!).\n",
            "    *   **Porpoises:** Generally smaller than dolphins, with spade-shaped teeth and a more triangular dorsal fin. They tend to be shyer and less acrobatic.\n",
            "        *   *Examples:* Harbor porpoises, Dall's porpoises.\n",
            "\n",
            "Each of these groups has unique adaptations, behaviors, and ecological roles. Happy researching!\n"
          ]
        }
      ],
      "source": [
        "# Message list with a preamble\n",
        "messages = [AIMessage(\"Hi.\", name=\"Bot\", id=\"1\")]\n",
        "messages.append(HumanMessage(\"Hi.\", name=\"Lance\", id=\"2\"))\n",
        "messages.append(AIMessage(\"So you said you were researching ocean mammals?\", name=\"Bot\", id=\"3\"))\n",
        "messages.append(HumanMessage(\"Yes, I know about whales. But what others should I learn about?\", name=\"Lance\", id=\"4\"))\n",
        "\n",
        "# Invoke\n",
        "output = graph.invoke({'messages': messages})\n",
        "for m in output['messages']:\n",
        "    m.pretty_print()"
      ]
    },
    {
      "cell_type": "markdown",
      "id": "f506457d-014b-4fee-a684-e5edfb4b8f0d",
      "metadata": {
        "id": "f506457d-014b-4fee-a684-e5edfb4b8f0d"
      },
      "source": [
        "## Filtering messages\n",
        "\n",
        "If you don't need or want to modify the graph state, you can just filter the messages you pass to the chat model.\n",
        "\n",
        "For example, just pass in a filtered list: `llm.invoke(messages[-1:])` to the model."
      ]
    },
    {
      "cell_type": "code",
      "execution_count": 12,
      "id": "22d0b904-7cd6-486b-8948-105bee3d4683",
      "metadata": {
        "colab": {
          "base_uri": "https://localhost:8080/",
          "height": 251
        },
        "id": "22d0b904-7cd6-486b-8948-105bee3d4683",
        "outputId": "29abd233-0964-4097-db77-e9f80017a5dc"
      },
      "outputs": [
        {
          "output_type": "display_data",
          "data": {
            "image/png": "[encoded data removed]",
            "text/plain": [
              "<IPython.core.display.Image object>"
            ]
          },
          "metadata": {}
        }
      ],
      "source": [
        "# Node\n",
        "def chat_model_node(state: MessagesState):\n",
        "    return {\"messages\": [llm.invoke(state[\"messages\"][-1:])]}\n",
        "\n",
        "# Build graph\n",
        "builder = StateGraph(MessagesState)\n",
        "builder.add_node(\"chat_model\", chat_model_node)\n",
        "builder.add_edge(START, \"chat_model\")\n",
        "builder.add_edge(\"chat_model\", END)\n",
        "graph = builder.compile()\n",
        "\n",
        "# View\n",
        "display(Image(graph.get_graph().draw_mermaid_png()))"
      ]
    },
    {
      "cell_type": "markdown",
      "id": "6f58c6fc-532f-418d-b70a-cfcb3307daf5",
      "metadata": {
        "id": "6f58c6fc-532f-418d-b70a-cfcb3307daf5"
      },
      "source": [
        "Let's take our existing list of messages, append the above LLM response, and append a follow-up question."
      ]
    },
    {
      "cell_type": "code",
      "execution_count": 13,
      "id": "16956015-1dbe-4108-89b5-4209b68b51ca",
      "metadata": {
        "id": "16956015-1dbe-4108-89b5-4209b68b51ca"
      },
      "outputs": [],
      "source": [
        "messages.append(output['messages'][-1])\n",
        "messages.append(HumanMessage(f\"Tell me more about Narwhals!\", name=\"Lance\"))"
      ]
    },
    {
      "cell_type": "code",
      "execution_count": 14,
      "id": "85563415-c085-46a8-a4ac-155df798c54e",
      "metadata": {
        "colab": {
          "base_uri": "https://localhost:8080/"
        },
        "id": "85563415-c085-46a8-a4ac-155df798c54e",
        "outputId": "baa8c86f-353e-4fa1-e643-dac2f2e678a3"
      },
      "outputs": [
        {
          "output_type": "stream",
          "name": "stdout",
          "text": [
            "==================================\u001b[1m Ai Message \u001b[0m==================================\n",
            "Name: Bot\n",
            "\n",
            "Hi.\n",
            "================================\u001b[1m Human Message \u001b[0m=================================\n",
            "Name: Lance\n",
            "\n",
            "Hi.\n",
            "==================================\u001b[1m Ai Message \u001b[0m==================================\n",
            "Name: Bot\n",
            "\n",
            "So you said you were researching ocean mammals?\n",
            "================================\u001b[1m Human Message \u001b[0m=================================\n",
            "Name: Lance\n",
            "\n",
            "Yes, I know about whales. But what others should I learn about?\n",
            "==================================\u001b[1m Ai Message \u001b[0m==================================\n",
            "\n",
            "That's a great area to research! Beyond the large whales (both baleen and toothed), there's a fascinating array of other ocean mammals. Here are some key groups and examples you should definitely learn about:\n",
            "\n",
            "1.  **Pinnipeds (Seals, Sea Lions, and Walruses):**\n",
            "    *   **Seals (True Seals/Earless Seals):** These are more torpedo-shaped, have no external ear flaps, and use their hind flippers for propulsion in water (they can't rotate them forward to \"walk\" on land, so they undulate their bodies).\n",
            "        *   *Examples:* Harbor seals, Grey seals, Harp seals, Ringed seals, Leopard seals, Elephant seals (the largest seals).\n",
            "    *   **Sea Lions (Eared Seals):** They have visible external ear flaps and can rotate their hind flippers forward, allowing them to \"walk\" on all fours on land. They use their powerful front flippers for propulsion in water.\n",
            "        *   *Examples:* California sea lions, Steller sea lions, Galapagos sea lions.\n",
            "    *   **Walruses:** Distinctive for their long tusks (can be found on both males and females), they are large, blubbery pinnipeds found in the Arctic. They use their tusks for hauling out onto ice and for foraging.\n",
            "\n",
            "2.  **Sirenians (Manatees and Dugongs):**\n",
            "    *   Often called \"sea cows,\" these are gentle, herbivorous mammals that live in coastal waters, rivers, and estuaries.\n",
            "    *   **Manatees:** Have a paddle-shaped tail. Found in the Atlantic (West Indian, Amazonian, African species).\n",
            "    *   **Dugongs:** Have a fluke-like tail, similar to a whale's. Found in the Indo-Pacific.\n",
            "\n",
            "3.  **Sea Otters:**\n",
            "    *   The smallest marine mammals, known for their incredibly dense fur (the densest of any animal) which helps them stay warm as they lack blubber.\n",
            "    *   They are famous for using tools (like rocks to crack open shellfish) and often float on their backs.\n",
            "    *   Found in the North Pacific.\n",
            "\n",
            "4.  **Polar Bears:**\n",
            "    *   While technically a land carnivore, polar bears are highly dependent on the ocean for their survival, spending most of their lives on sea ice hunting seals.\n",
            "    *   They are excellent swimmers and are perfectly adapted to the harsh Arctic environment.\n",
            "\n",
            "5.  **Dolphins and Porpoises:**\n",
            "    *   While technically smaller toothed whales (part of the order Cetacea, like whales), many people think of them separately from the \"big whales.\"\n",
            "    *   **Dolphins:** Generally have conical teeth, a curved dorsal fin, and are often very social, acrobatic, and intelligent.\n",
            "        *   *Examples:* Bottlenose dolphins, Spinner dolphins, Common dolphins, Orcas (Killer Whales – the largest dolphin species!).\n",
            "    *   **Porpoises:** Generally smaller than dolphins, with spade-shaped teeth and a more triangular dorsal fin. They tend to be shyer and less acrobatic.\n",
            "        *   *Examples:* Harbor porpoises, Dall's porpoises.\n",
            "\n",
            "Each of these groups has unique adaptations, behaviors, and ecological roles. Happy researching!\n",
            "================================\u001b[1m Human Message \u001b[0m=================================\n",
            "Name: Lance\n",
            "\n",
            "Tell me more about Narwhals!\n"
          ]
        }
      ],
      "source": [
        "for m in messages:\n",
        "    m.pretty_print()"
      ]
    },
    {
      "cell_type": "code",
      "execution_count": 15,
      "id": "23349705-a059-47b5-9760-d8f64e687393",
      "metadata": {
        "colab": {
          "base_uri": "https://localhost:8080/"
        },
        "id": "23349705-a059-47b5-9760-d8f64e687393",
        "outputId": "6cd601c6-d25f-43d4-8a44-454b5d3c9854"
      },
      "outputs": [
        {
          "output_type": "stream",
          "name": "stdout",
          "text": [
            "==================================\u001b[1m Ai Message \u001b[0m==================================\n",
            "Name: Bot\n",
            "\n",
            "Hi.\n",
            "================================\u001b[1m Human Message \u001b[0m=================================\n",
            "Name: Lance\n",
            "\n",
            "Hi.\n",
            "==================================\u001b[1m Ai Message \u001b[0m==================================\n",
            "Name: Bot\n",
            "\n",
            "So you said you were researching ocean mammals?\n",
            "================================\u001b[1m Human Message \u001b[0m=================================\n",
            "Name: Lance\n",
            "\n",
            "Yes, I know about whales. But what others should I learn about?\n",
            "==================================\u001b[1m Ai Message \u001b[0m==================================\n",
            "\n",
            "That's a great area to research! Beyond the large whales (both baleen and toothed), there's a fascinating array of other ocean mammals. Here are some key groups and examples you should definitely learn about:\n",
            "\n",
            "1.  **Pinnipeds (Seals, Sea Lions, and Walruses):**\n",
            "    *   **Seals (True Seals/Earless Seals):** These are more torpedo-shaped, have no external ear flaps, and use their hind flippers for propulsion in water (they can't rotate them forward to \"walk\" on land, so they undulate their bodies).\n",
            "        *   *Examples:* Harbor seals, Grey seals, Harp seals, Ringed seals, Leopard seals, Elephant seals (the largest seals).\n",
            "    *   **Sea Lions (Eared Seals):** They have visible external ear flaps and can rotate their hind flippers forward, allowing them to \"walk\" on all fours on land. They use their powerful front flippers for propulsion in water.\n",
            "        *   *Examples:* California sea lions, Steller sea lions, Galapagos sea lions.\n",
            "    *   **Walruses:** Distinctive for their long tusks (can be found on both males and females), they are large, blubbery pinnipeds found in the Arctic. They use their tusks for hauling out onto ice and for foraging.\n",
            "\n",
            "2.  **Sirenians (Manatees and Dugongs):**\n",
            "    *   Often called \"sea cows,\" these are gentle, herbivorous mammals that live in coastal waters, rivers, and estuaries.\n",
            "    *   **Manatees:** Have a paddle-shaped tail. Found in the Atlantic (West Indian, Amazonian, African species).\n",
            "    *   **Dugongs:** Have a fluke-like tail, similar to a whale's. Found in the Indo-Pacific.\n",
            "\n",
            "3.  **Sea Otters:**\n",
            "    *   The smallest marine mammals, known for their incredibly dense fur (the densest of any animal) which helps them stay warm as they lack blubber.\n",
            "    *   They are famous for using tools (like rocks to crack open shellfish) and often float on their backs.\n",
            "    *   Found in the North Pacific.\n",
            "\n",
            "4.  **Polar Bears:**\n",
            "    *   While technically a land carnivore, polar bears are highly dependent on the ocean for their survival, spending most of their lives on sea ice hunting seals.\n",
            "    *   They are excellent swimmers and are perfectly adapted to the harsh Arctic environment.\n",
            "\n",
            "5.  **Dolphins and Porpoises:**\n",
            "    *   While technically smaller toothed whales (part of the order Cetacea, like whales), many people think of them separately from the \"big whales.\"\n",
            "    *   **Dolphins:** Generally have conical teeth, a curved dorsal fin, and are often very social, acrobatic, and intelligent.\n",
            "        *   *Examples:* Bottlenose dolphins, Spinner dolphins, Common dolphins, Orcas (Killer Whales – the largest dolphin species!).\n",
            "    *   **Porpoises:** Generally smaller than dolphins, with spade-shaped teeth and a more triangular dorsal fin. They tend to be shyer and less acrobatic.\n",
            "        *   *Examples:* Harbor porpoises, Dall's porpoises.\n",
            "\n",
            "Each of these groups has unique adaptations, behaviors, and ecological roles. Happy researching!\n",
            "================================\u001b[1m Human Message \u001b[0m=================================\n",
            "Name: Lance\n",
            "\n",
            "Tell me more about Narwhals!\n",
            "==================================\u001b[1m Ai Message \u001b[0m==================================\n",
            "\n",
            "Narwhals are truly one of the most fascinating and enigmatic creatures of the Arctic! Often called the \"unicorns of the sea,\" they are instantly recognizable by their incredible tusk.\n",
            "\n",
            "Here's a deep dive into what makes Narwhals so unique:\n",
            "\n",
            "1.  **The Tusk: A Sensory Marvel**\n",
            "    *   **What it is:** The narwhal's most distinctive feature is its long, spiraled tusk, which can grow up to 10 feet (3 meters) long. It's not a horn, but an elongated canine tooth that protrudes from the left side of the upper jaw.\n",
            "    *   **Who has it:** Primarily males possess the tusk, though about 15% of females also grow one, usually shorter. Very rarely, a narwhal might have two tusks!\n",
            "    *   **Its Purpose:** For a long time, the tusk's function was a mystery. Scientists now believe it's a highly sophisticated **sensory organ**. It's covered in millions of nerve endings that can detect changes in water temperature, pressure, salinity, and even the presence of prey. It essentially allows the narwhal to \"taste\" its environment.\n",
            "    *   **Other theories:** While the sensory function is widely accepted, other theories suggest it might be used for navigating, breaking thin ice, or even for display during mating rituals (though direct evidence for fighting or spearing prey is lacking).\n",
            "\n",
            "2.  **Habitat and Distribution**\n",
            "    *   Narwhals are exclusively found in the **Arctic waters** of Canada, Greenland, Norway, and Russia.\n",
            "    *   They are highly adapted to life in icy environments, often spending their lives in areas covered by dense pack ice.\n",
            "    *   They undertake seasonal migrations, moving from offshore wintering grounds to coastal areas in the summer.\n",
            "\n",
            "3.  **Diet and Hunting**\n",
            "    *   Narwhals are carnivores, primarily feeding on **Greenland halibut, cod, squid, and shrimp**.\n",
            "    *   They are deep divers, capable of diving to depths of over 5,000 feet (1,500 meters) in search of food, holding their breath for up to 25 minutes.\n",
            "    *   They use a suction feeding technique, rapidly sucking prey into their mouths.\n",
            "\n",
            "4.  **Social Behavior and Communication**\n",
            "    *   Narwhals are social animals, typically living in groups (called \"pods\") of 10-100 individuals. During migration, these pods can merge into massive aggregations of thousands.\n",
            "    *   They communicate using a variety of clicks, whistles, and trills, which are also used for **echolocation** to navigate and find food in the dark, murky Arctic waters.\n",
            "\n",
            "5.  **Physical Characteristics (Beyond the Tusk)**\n",
            "    *   **Size:** Adults can reach lengths of 13-18 feet (4-5.5 meters) and weigh up to 3,500 pounds (1,600 kg).\n",
            "    *   **Coloration:** They have a mottled, dark grey to black and white skin pattern, which tends to lighten with age.\n",
            "    *   **No Dorsal Fin:** Unlike most whales, narwhals lack a dorsal fin, which is an adaptation that helps them navigate under ice without getting snagged. Instead, they have a tough, wavy ridge along their back.\n",
            "\n",
            "6.  **Reproduction and Lifespan**\n",
            "    *   Narwhals have a long gestation period of about 14-15 months, giving birth to a single calf.\n",
            "    *   Calves are nursed for up to 20 months.\n",
            "    *   Their lifespan is estimated to be around 50 years, though some individuals may live longer.\n",
            "\n",
            "7.  **Conservation Status and Threats**\n",
            "    *   The IUCN (International Union for Conservation of Nature) currently lists the narwhal as **\"Near Threatened.\"**\n",
            "    *   **Major threats include:**\n",
            "        *   **Climate Change:** Melting sea ice reduces their habitat and makes them more vulnerable to predators.\n",
            "        *   **Pollution:** Accumulation of toxins in their blubber.\n",
            "        *   **Noise Pollution:** From shipping and oil exploration, which can interfere with their echolocation and communication.\n",
            "        *   **Predation:** Polar bears and killer whales (orcas) are their primary natural predators.\n",
            "        *   **Hunting:** Indigenous Inuit communities have traditionally hunted narwhals for subsistence, using their meat, blubber, and tusks. This hunting is regulated.\n",
            "\n",
            "Narwhals are truly magnificent creatures, perfectly adapted to their harsh Arctic environment, and their unique tusk continues to captivate scientists and the public alike!\n"
          ]
        }
      ],
      "source": [
        "# Invoke, using message filtering\n",
        "output = graph.invoke({'messages': messages})\n",
        "for m in output['messages']:\n",
        "    m.pretty_print()"
      ]
    },
    {
      "cell_type": "markdown",
      "id": "42e1d8d2-e297-4d78-b54c-d12b3c866745",
      "metadata": {
        "id": "42e1d8d2-e297-4d78-b54c-d12b3c866745"
      },
      "source": [
        "The state has all of the mesages.\n",
        "\n",
        "But, let's look at the LangSmith trace to see that the model invocation only uses the last message:\n",
        "\n",
        "https://smith.langchain.com/public/75aca3ce-ef19-4b92-94be-0178c7a660d9/r"
      ]
    },
    {
      "cell_type": "markdown",
      "id": "fc40d930-3c1f-47fe-8d2a-ce174873353c",
      "metadata": {
        "id": "fc40d930-3c1f-47fe-8d2a-ce174873353c"
      },
      "source": [
        "## Trim messages\n",
        "\n",
        "Another approach is to [trim messages](https://python.langchain.com/v0.2/docs/how_to/trim_messages/#getting-the-last-max_tokens-tokens), based upon a set number of tokens.\n",
        "\n",
        "This restricts the message history to a specified number of tokens.\n",
        "\n",
        "While filtering only returns a post-hoc subset of the messages between agents, trimming restricts the number of tokens that a chat model can use to respond.\n",
        "\n",
        "See the `trim_messages` below."
      ]
    },
    {
      "cell_type": "code",
      "execution_count": 16,
      "id": "2ff99b81-cf03-4cc2-b44f-44829a73e1fd",
      "metadata": {
        "colab": {
          "base_uri": "https://localhost:8080/",
          "height": 251
        },
        "id": "2ff99b81-cf03-4cc2-b44f-44829a73e1fd",
        "outputId": "876d93b7-a2e5-4608-ef72-f6283622cb98"
      },
      "outputs": [
        {
          "output_type": "display_data",
          "data": {
            "image/png": "[encoded data removed]",
            "text/plain": [
              "<IPython.core.display.Image object>"
            ]
          },
          "metadata": {}
        }
      ],
      "source": [
        "from langchain_core.messages import trim_messages\n",
        "\n",
        "# Node\n",
        "def chat_model_node(state: MessagesState):\n",
        "    messages = trim_messages(\n",
        "            state[\"messages\"],\n",
        "            max_tokens=100,\n",
        "            strategy=\"last\",\n",
        "            #token_counter=ChatOpenAI(model=\"gpt-4o\"),\n",
        "            token_counter=ChatGoogleGenerativeAI(model=\"gemini-2.5-flash\"),\n",
        "            allow_partial=False,\n",
        "        )\n",
        "    return {\"messages\": [llm.invoke(messages)]}\n",
        "\n",
        "# Build graph\n",
        "builder = StateGraph(MessagesState)\n",
        "builder.add_node(\"chat_model\", chat_model_node)\n",
        "builder.add_edge(START, \"chat_model\")\n",
        "builder.add_edge(\"chat_model\", END)\n",
        "graph = builder.compile()\n",
        "\n",
        "# View\n",
        "display(Image(graph.get_graph().draw_mermaid_png()))"
      ]
    },
    {
      "cell_type": "code",
      "execution_count": 17,
      "id": "24df63ac-da29-4874-b3df-7e390e97cc8a",
      "metadata": {
        "id": "24df63ac-da29-4874-b3df-7e390e97cc8a"
      },
      "outputs": [],
      "source": [
        "messages.append(output['messages'][-1])\n",
        "messages.append(HumanMessage(f\"Tell me where Orcas live!\", name=\"Lance\"))"
      ]
    },
    {
      "cell_type": "code",
      "execution_count": 18,
      "id": "6d9d8971-c75c-43ca-a209-eb1d07b2ead0",
      "metadata": {
        "colab": {
          "base_uri": "https://localhost:8080/"
        },
        "id": "6d9d8971-c75c-43ca-a209-eb1d07b2ead0",
        "outputId": "13cb21d0-dbe2-4eba-b853-32a7abade885"
      },
      "outputs": [
        {
          "output_type": "execute_result",
          "data": {
            "text/plain": [
              "[HumanMessage(content='Tell me where Orcas live!', additional_kwargs={}, response_metadata={}, name='Lance')]"
            ]
          },
          "metadata": {},
          "execution_count": 18
        }
      ],
      "source": [
        "# Example of trimming messages\n",
        "trim_messages(\n",
        "            messages,\n",
        "            max_tokens=100,\n",
        "            strategy=\"last\",\n",
        "            #token_counter=ChatOpenAI(model=\"gpt-4o\"),\n",
        "            token_counter=ChatGoogleGenerativeAI(model=\"gemini-2.5-flash\"),\n",
        "            allow_partial=False\n",
        "        )"
      ]
    },
    {
      "cell_type": "code",
      "execution_count": 19,
      "id": "ed70a269-a869-4fa0-a1df-29736a432c51",
      "metadata": {
        "id": "ed70a269-a869-4fa0-a1df-29736a432c51"
      },
      "outputs": [],
      "source": [
        "# Invoke, using message trimming in the chat_model_node\n",
        "messages_out_trim = graph.invoke({'messages': messages})"
      ]
    },
    {
      "cell_type": "markdown",
      "id": "38b3db67-380e-46b5-9a6a-20100ba52008",
      "metadata": {
        "id": "38b3db67-380e-46b5-9a6a-20100ba52008"
      },
      "source": [
        "Let's look at the LangSmith trace to see the model invocation:\n",
        "\n",
        "https://smith.langchain.com/public/b153f7e9-f1a5-4d60-8074-f0d7ab5b42ef/r"
      ]
    }
  ],
  "metadata": {
    "kernelspec": {
      "display_name": "Python 3 (ipykernel)",
      "language": "python",
      "name": "python3"
    },
    "language_info": {
      "codemirror_mode": {
        "name": "ipython",
        "version": 3
      },
      "file_extension": ".py",
      "mimetype": "text/x-python",
      "name": "python",
      "nbconvert_exporter": "python",
      "pygments_lexer": "ipython3",
      "version": "3.12.1"
    },
    "colab": {
      "provenance": []
    }
  },
  "nbformat": 4,
  "nbformat_minor": 5
}