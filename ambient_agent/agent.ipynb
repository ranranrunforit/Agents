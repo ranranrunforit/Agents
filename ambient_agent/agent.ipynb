{
  "cells": [
    {
      "cell_type": "markdown",
      "id": "7bb66df4",
      "metadata": {
        "id": "7bb66df4"
      },
      "source": [
        "# Building Agents\n",
        "\n",
        "> Note: Optionally, see [these slides](https://docs.google.com/presentation/d/13c0L1CQWAL7fuCXakOqjkvoodfynPJI4Hw_4H76okVU/edit?usp=sharing) and [langgraph_101.ipynb](langgraph_101.ipynb) for context before diving into this notebook!\n",
        "\n",
        "We're going to build an email assistant from scratch, starting here with 1) the agent architecture (using [LangGraph](https://langchain-ai.github.io/langgraph/)) and following with 2) testing (using [LangSmith](https://docs.smith.langchain.com/)), 3) human-in-the-loop, and 4) memory. This diagram show how these pieces will fit together:\n",
        "\n",
        "![overview-img](img/overview.png)"
      ]
    },
    {
      "cell_type": "markdown",
      "id": "19d34429",
      "metadata": {
        "id": "19d34429"
      },
      "source": [
        "#### Load environment variables"
      ]
    },
    {
      "cell_type": "code",
      "source": [
        "### Mount Notebook to Google Drive\n",
        "from google.colab import drive\n",
        "drive.mount('/content/drive')"
      ],
      "metadata": {
        "colab": {
          "base_uri": "https://localhost:8080/"
        },
        "outputId": "62fd30ec-6a72-4a82-ca75-dca717de2e44",
        "id": "G-P9vCGzmJlP"
      },
      "execution_count": 2,
      "outputs": [
        {
          "output_type": "stream",
          "name": "stdout",
          "text": [
            "Mounted at /content/drive\n"
          ]
        }
      ],
      "id": "G-P9vCGzmJlP"
    },
    {
      "cell_type": "code",
      "source": [
        "# change the working directory to the Drive root\n",
        "%cd /content/drive/My\\ Drive/Colab\\ Notebooks/agents-from-scratch-main/notebooks"
      ],
      "metadata": {
        "colab": {
          "base_uri": "https://localhost:8080/"
        },
        "outputId": "7636d389-f1dd-42e4-8014-37d56f01e613",
        "id": "dszkSALBmJlQ"
      },
      "execution_count": 23,
      "outputs": [
        {
          "output_type": "stream",
          "name": "stdout",
          "text": [
            "/content/drive/My Drive/Colab Notebooks/agents-from-scratch-main/notebooks\n"
          ]
        }
      ],
      "id": "dszkSALBmJlQ"
    },
    {
      "cell_type": "code",
      "source": [
        "!pip install --quiet python-dotenv"
      ],
      "metadata": {
        "id": "jnuJK9c-mJlQ"
      },
      "execution_count": 4,
      "outputs": [],
      "id": "jnuJK9c-mJlQ"
    },
    {
      "cell_type": "code",
      "source": [
        "!pip install --quiet langgraph\n",
        "!pip install -U \"langchain[google-genai]\""
      ],
      "metadata": {
        "colab": {
          "base_uri": "https://localhost:8080/",
          "height": 1000
        },
        "id": "ZpNGP--onz9T",
        "outputId": "623224d3-4d2d-45b4-f9aa-5aa1d6ffaf3f"
      },
      "id": "ZpNGP--onz9T",
      "execution_count": 8,
      "outputs": [
        {
          "output_type": "stream",
          "name": "stdout",
          "text": [
            "Requirement already satisfied: langchain[google-genai] in /usr/local/lib/python3.12/dist-packages (0.3.27)\n",
            "Requirement already satisfied: langchain-core<1.0.0,>=0.3.72 in /usr/local/lib/python3.12/dist-packages (from langchain[google-genai]) (0.3.74)\n",
            "Requirement already satisfied: langchain-text-splitters<1.0.0,>=0.3.9 in /usr/local/lib/python3.12/dist-packages (from langchain[google-genai]) (0.3.9)\n",
            "Requirement already satisfied: langsmith>=0.1.17 in /usr/local/lib/python3.12/dist-packages (from langchain[google-genai]) (0.4.14)\n",
            "Requirement already satisfied: pydantic<3.0.0,>=2.7.4 in /usr/local/lib/python3.12/dist-packages (from langchain[google-genai]) (2.11.7)\n",
            "Requirement already satisfied: SQLAlchemy<3,>=1.4 in /usr/local/lib/python3.12/dist-packages (from langchain[google-genai]) (2.0.43)\n",
            "Requirement already satisfied: requests<3,>=2 in /usr/local/lib/python3.12/dist-packages (from langchain[google-genai]) (2.32.4)\n",
            "Requirement already satisfied: PyYAML>=5.3 in /usr/local/lib/python3.12/dist-packages (from langchain[google-genai]) (6.0.2)\n",
            "Collecting langchain-google-genai (from langchain[google-genai])\n",
            "  Downloading langchain_google_genai-2.1.9-py3-none-any.whl.metadata (7.2 kB)\n",
            "Requirement already satisfied: tenacity!=8.4.0,<10.0.0,>=8.1.0 in /usr/local/lib/python3.12/dist-packages (from langchain-core<1.0.0,>=0.3.72->langchain[google-genai]) (8.5.0)\n",
            "Requirement already satisfied: jsonpatch<2.0,>=1.33 in /usr/local/lib/python3.12/dist-packages (from langchain-core<1.0.0,>=0.3.72->langchain[google-genai]) (1.33)\n",
            "Requirement already satisfied: typing-extensions>=4.7 in /usr/local/lib/python3.12/dist-packages (from langchain-core<1.0.0,>=0.3.72->langchain[google-genai]) (4.14.1)\n",
            "Requirement already satisfied: packaging>=23.2 in /usr/local/lib/python3.12/dist-packages (from langchain-core<1.0.0,>=0.3.72->langchain[google-genai]) (25.0)\n",
            "Requirement already satisfied: httpx<1,>=0.23.0 in /usr/local/lib/python3.12/dist-packages (from langsmith>=0.1.17->langchain[google-genai]) (0.28.1)\n",
            "Requirement already satisfied: orjson>=3.9.14 in /usr/local/lib/python3.12/dist-packages (from langsmith>=0.1.17->langchain[google-genai]) (3.11.2)\n",
            "Requirement already satisfied: requests-toolbelt>=1.0.0 in /usr/local/lib/python3.12/dist-packages (from langsmith>=0.1.17->langchain[google-genai]) (1.0.0)\n",
            "Requirement already satisfied: zstandard>=0.23.0 in /usr/local/lib/python3.12/dist-packages (from langsmith>=0.1.17->langchain[google-genai]) (0.24.0)\n",
            "Requirement already satisfied: annotated-types>=0.6.0 in /usr/local/lib/python3.12/dist-packages (from pydantic<3.0.0,>=2.7.4->langchain[google-genai]) (0.7.0)\n",
            "Requirement already satisfied: pydantic-core==2.33.2 in /usr/local/lib/python3.12/dist-packages (from pydantic<3.0.0,>=2.7.4->langchain[google-genai]) (2.33.2)\n",
            "Requirement already satisfied: typing-inspection>=0.4.0 in /usr/local/lib/python3.12/dist-packages (from pydantic<3.0.0,>=2.7.4->langchain[google-genai]) (0.4.1)\n",
            "Requirement already satisfied: charset_normalizer<4,>=2 in /usr/local/lib/python3.12/dist-packages (from requests<3,>=2->langchain[google-genai]) (3.4.3)\n",
            "Requirement already satisfied: idna<4,>=2.5 in /usr/local/lib/python3.12/dist-packages (from requests<3,>=2->langchain[google-genai]) (3.10)\n",
            "Requirement already satisfied: urllib3<3,>=1.21.1 in /usr/local/lib/python3.12/dist-packages (from requests<3,>=2->langchain[google-genai]) (2.5.0)\n",
            "Requirement already satisfied: certifi>=2017.4.17 in /usr/local/lib/python3.12/dist-packages (from requests<3,>=2->langchain[google-genai]) (2025.8.3)\n",
            "Requirement already satisfied: greenlet>=1 in /usr/local/lib/python3.12/dist-packages (from SQLAlchemy<3,>=1.4->langchain[google-genai]) (3.2.4)\n",
            "Collecting filetype<2.0.0,>=1.2.0 (from langchain-google-genai->langchain[google-genai])\n",
            "  Downloading filetype-1.2.0-py2.py3-none-any.whl.metadata (6.5 kB)\n",
            "Collecting google-ai-generativelanguage<0.7.0,>=0.6.18 (from langchain-google-genai->langchain[google-genai])\n",
            "  Downloading google_ai_generativelanguage-0.6.18-py3-none-any.whl.metadata (9.8 kB)\n",
            "Requirement already satisfied: google-api-core!=2.0.*,!=2.1.*,!=2.10.*,!=2.2.*,!=2.3.*,!=2.4.*,!=2.5.*,!=2.6.*,!=2.7.*,!=2.8.*,!=2.9.*,<3.0.0,>=1.34.1 in /usr/local/lib/python3.12/dist-packages (from google-api-core[grpc]!=2.0.*,!=2.1.*,!=2.10.*,!=2.2.*,!=2.3.*,!=2.4.*,!=2.5.*,!=2.6.*,!=2.7.*,!=2.8.*,!=2.9.*,<3.0.0,>=1.34.1->google-ai-generativelanguage<0.7.0,>=0.6.18->langchain-google-genai->langchain[google-genai]) (2.25.1)\n",
            "Requirement already satisfied: google-auth!=2.24.0,!=2.25.0,<3.0.0,>=2.14.1 in /usr/local/lib/python3.12/dist-packages (from google-ai-generativelanguage<0.7.0,>=0.6.18->langchain-google-genai->langchain[google-genai]) (2.38.0)\n",
            "Requirement already satisfied: proto-plus<2.0.0,>=1.22.3 in /usr/local/lib/python3.12/dist-packages (from google-ai-generativelanguage<0.7.0,>=0.6.18->langchain-google-genai->langchain[google-genai]) (1.26.1)\n",
            "Requirement already satisfied: protobuf!=4.21.0,!=4.21.1,!=4.21.2,!=4.21.3,!=4.21.4,!=4.21.5,<7.0.0,>=3.20.2 in /usr/local/lib/python3.12/dist-packages (from google-ai-generativelanguage<0.7.0,>=0.6.18->langchain-google-genai->langchain[google-genai]) (5.29.5)\n",
            "Requirement already satisfied: anyio in /usr/local/lib/python3.12/dist-packages (from httpx<1,>=0.23.0->langsmith>=0.1.17->langchain[google-genai]) (4.10.0)\n",
            "Requirement already satisfied: httpcore==1.* in /usr/local/lib/python3.12/dist-packages (from httpx<1,>=0.23.0->langsmith>=0.1.17->langchain[google-genai]) (1.0.9)\n",
            "Requirement already satisfied: h11>=0.16 in /usr/local/lib/python3.12/dist-packages (from httpcore==1.*->httpx<1,>=0.23.0->langsmith>=0.1.17->langchain[google-genai]) (0.16.0)\n",
            "Requirement already satisfied: jsonpointer>=1.9 in /usr/local/lib/python3.12/dist-packages (from jsonpatch<2.0,>=1.33->langchain-core<1.0.0,>=0.3.72->langchain[google-genai]) (3.0.0)\n",
            "Requirement already satisfied: googleapis-common-protos<2.0.0,>=1.56.2 in /usr/local/lib/python3.12/dist-packages (from google-api-core!=2.0.*,!=2.1.*,!=2.10.*,!=2.2.*,!=2.3.*,!=2.4.*,!=2.5.*,!=2.6.*,!=2.7.*,!=2.8.*,!=2.9.*,<3.0.0,>=1.34.1->google-api-core[grpc]!=2.0.*,!=2.1.*,!=2.10.*,!=2.2.*,!=2.3.*,!=2.4.*,!=2.5.*,!=2.6.*,!=2.7.*,!=2.8.*,!=2.9.*,<3.0.0,>=1.34.1->google-ai-generativelanguage<0.7.0,>=0.6.18->langchain-google-genai->langchain[google-genai]) (1.70.0)\n",
            "Requirement already satisfied: grpcio<2.0.0,>=1.33.2 in /usr/local/lib/python3.12/dist-packages (from google-api-core[grpc]!=2.0.*,!=2.1.*,!=2.10.*,!=2.2.*,!=2.3.*,!=2.4.*,!=2.5.*,!=2.6.*,!=2.7.*,!=2.8.*,!=2.9.*,<3.0.0,>=1.34.1->google-ai-generativelanguage<0.7.0,>=0.6.18->langchain-google-genai->langchain[google-genai]) (1.74.0)\n",
            "Requirement already satisfied: grpcio-status<2.0.0,>=1.33.2 in /usr/local/lib/python3.12/dist-packages (from google-api-core[grpc]!=2.0.*,!=2.1.*,!=2.10.*,!=2.2.*,!=2.3.*,!=2.4.*,!=2.5.*,!=2.6.*,!=2.7.*,!=2.8.*,!=2.9.*,<3.0.0,>=1.34.1->google-ai-generativelanguage<0.7.0,>=0.6.18->langchain-google-genai->langchain[google-genai]) (1.71.2)\n",
            "Requirement already satisfied: cachetools<6.0,>=2.0.0 in /usr/local/lib/python3.12/dist-packages (from google-auth!=2.24.0,!=2.25.0,<3.0.0,>=2.14.1->google-ai-generativelanguage<0.7.0,>=0.6.18->langchain-google-genai->langchain[google-genai]) (5.5.2)\n",
            "Requirement already satisfied: pyasn1-modules>=0.2.1 in /usr/local/lib/python3.12/dist-packages (from google-auth!=2.24.0,!=2.25.0,<3.0.0,>=2.14.1->google-ai-generativelanguage<0.7.0,>=0.6.18->langchain-google-genai->langchain[google-genai]) (0.4.2)\n",
            "Requirement already satisfied: rsa<5,>=3.1.4 in /usr/local/lib/python3.12/dist-packages (from google-auth!=2.24.0,!=2.25.0,<3.0.0,>=2.14.1->google-ai-generativelanguage<0.7.0,>=0.6.18->langchain-google-genai->langchain[google-genai]) (4.9.1)\n",
            "Requirement already satisfied: sniffio>=1.1 in /usr/local/lib/python3.12/dist-packages (from anyio->httpx<1,>=0.23.0->langsmith>=0.1.17->langchain[google-genai]) (1.3.1)\n",
            "Requirement already satisfied: pyasn1<0.7.0,>=0.6.1 in /usr/local/lib/python3.12/dist-packages (from pyasn1-modules>=0.2.1->google-auth!=2.24.0,!=2.25.0,<3.0.0,>=2.14.1->google-ai-generativelanguage<0.7.0,>=0.6.18->langchain-google-genai->langchain[google-genai]) (0.6.1)\n",
            "Downloading langchain_google_genai-2.1.9-py3-none-any.whl (49 kB)\n",
            "\u001b[2K   \u001b[90m━━━━━━━━━━━━━━━━━━━━━━━━━━━━━━━━━━━━━━━━\u001b[0m \u001b[32m49.4/49.4 kB\u001b[0m \u001b[31m3.8 MB/s\u001b[0m eta \u001b[36m0:00:00\u001b[0m\n",
            "\u001b[?25hDownloading filetype-1.2.0-py2.py3-none-any.whl (19 kB)\n",
            "Downloading google_ai_generativelanguage-0.6.18-py3-none-any.whl (1.4 MB)\n",
            "\u001b[2K   \u001b[90m━━━━━━━━━━━━━━━━━━━━━━━━━━━━━━━━━━━━━━━━\u001b[0m \u001b[32m1.4/1.4 MB\u001b[0m \u001b[31m58.4 MB/s\u001b[0m eta \u001b[36m0:00:00\u001b[0m\n",
            "\u001b[?25hInstalling collected packages: filetype, google-ai-generativelanguage, langchain-google-genai\n",
            "  Attempting uninstall: google-ai-generativelanguage\n",
            "    Found existing installation: google-ai-generativelanguage 0.6.15\n",
            "    Uninstalling google-ai-generativelanguage-0.6.15:\n",
            "      Successfully uninstalled google-ai-generativelanguage-0.6.15\n",
            "\u001b[31mERROR: pip's dependency resolver does not currently take into account all the packages that are installed. This behaviour is the source of the following dependency conflicts.\n",
            "google-generativeai 0.8.5 requires google-ai-generativelanguage==0.6.15, but you have google-ai-generativelanguage 0.6.18 which is incompatible.\u001b[0m\u001b[31m\n",
            "\u001b[0mSuccessfully installed filetype-1.2.0 google-ai-generativelanguage-0.6.18 langchain-google-genai-2.1.9\n"
          ]
        },
        {
          "output_type": "display_data",
          "data": {
            "application/vnd.colab-display-data+json": {
              "pip_warning": {
                "packages": [
                  "google"
                ]
              },
              "id": "4adabeed8e36424e8afc4a9794f1c4a3"
            }
          },
          "metadata": {}
        }
      ]
    },
    {
      "cell_type": "code",
      "execution_count": 5,
      "id": "46c9f78e",
      "metadata": {
        "colab": {
          "base_uri": "https://localhost:8080/"
        },
        "id": "46c9f78e",
        "outputId": "74b1c598-8718-4426-cebc-c253ae6b35d6"
      },
      "outputs": [
        {
          "output_type": "execute_result",
          "data": {
            "text/plain": [
              "True"
            ]
          },
          "metadata": {},
          "execution_count": 5
        }
      ],
      "source": [
        "from dotenv import load_dotenv\n",
        "load_dotenv(\"../.env\")"
      ]
    },
    {
      "cell_type": "markdown",
      "id": "54a69e9a",
      "metadata": {
        "id": "54a69e9a"
      },
      "source": [
        "## Tool Definition\n",
        "\n",
        "Let's start by defining some simple tools that an email assistant will use with the `@tool` decorator:"
      ]
    },
    {
      "cell_type": "code",
      "execution_count": 6,
      "id": "f2b708ec",
      "metadata": {
        "id": "f2b708ec"
      },
      "outputs": [],
      "source": [
        "from typing import Literal\n",
        "from datetime import datetime\n",
        "from pydantic import BaseModel\n",
        "from langchain_core.tools import tool\n",
        "\n",
        "@tool\n",
        "def write_email(to: str, subject: str, content: str) -> str:\n",
        "    \"\"\"Write and send an email.\"\"\"\n",
        "    # Placeholder response - in real app would send email\n",
        "    return f\"Email sent to {to} with subject '{subject}' and content: {content}\"\n",
        "\n",
        "@tool\n",
        "def schedule_meeting(\n",
        "    attendees: list[str], subject: str, duration_minutes: int, preferred_day: datetime, start_time: int\n",
        ") -> str:\n",
        "    \"\"\"Schedule a calendar meeting.\"\"\"\n",
        "    # Placeholder response - in real app would check calendar and schedule\n",
        "    date_str = preferred_day.strftime(\"%A, %B %d, %Y\")\n",
        "    return f\"Meeting '{subject}' scheduled on {date_str} at {start_time} for {duration_minutes} minutes with {len(attendees)} attendees\"\n",
        "\n",
        "@tool\n",
        "def check_calendar_availability(day: str) -> str:\n",
        "    \"\"\"Check calendar availability for a given day.\"\"\"\n",
        "    # Placeholder response - in real app would check actual calendar\n",
        "    return f\"Available times on {day}: 9:00 AM, 2:00 PM, 4:00 PM\"\n",
        "\n",
        "@tool\n",
        "class Done(BaseModel):\n",
        "      \"\"\"E-mail has been sent.\"\"\"\n",
        "      done: bool"
      ]
    },
    {
      "cell_type": "markdown",
      "id": "2911c929-5c41-4dcd-9cc8-21a8ff82b769",
      "metadata": {
        "id": "2911c929-5c41-4dcd-9cc8-21a8ff82b769"
      },
      "source": [
        "## Building our email assistant\n",
        "\n",
        "We'll combine a [router and agent](https://langchain-ai.github.io/langgraph/tutorials/workflows/) to build our email assistant.\n",
        "\n",
        "![agent_workflow_img](img/email_workflow.png)\n",
        "\n",
        "### Router\n",
        "\n",
        "The routing step handles the triage decision.\n",
        "\n",
        "The triage router only focuses on the triage decision, while the agent focuses *only* on the response.\n",
        "\n",
        "#### State\n",
        "\n",
        "When building an agent, it's important to consider the information that you want to track over time. We'll use LangGraph's pre-built [`MessagesState` object](https://langchain-ai.github.io/langgraph/concepts/low_level/#messagesstate), which is a just dictionary with a `messages` key that appends messages returned by nodes [as its update logic](https://langchain-ai.github.io/langgraph/concepts/low_level/#reducers). However, LangGraph gives you flexibility to track other information. We'll define a custom `State` object that extends `MessagesState` and adds a `classification_decision` key:"
      ]
    },
    {
      "cell_type": "code",
      "execution_count": 9,
      "id": "692537ec-f09e-4086-81e4-9c517273b854",
      "metadata": {
        "id": "692537ec-f09e-4086-81e4-9c517273b854"
      },
      "outputs": [],
      "source": [
        "from langgraph.graph import MessagesState\n",
        "\n",
        "class State(MessagesState):\n",
        "    # We can add a specific key to our state for the email input\n",
        "    email_input: dict\n",
        "    classification_decision: Literal[\"ignore\", \"respond\", \"notify\"]"
      ]
    },
    {
      "cell_type": "markdown",
      "id": "d6cd1647-6d58-4aae-b954-6a9c5790c20c",
      "metadata": {
        "id": "d6cd1647-6d58-4aae-b954-6a9c5790c20c"
      },
      "source": [
        "#### Triage node\n",
        "\n",
        "We define a python function with our triage routing logic.\n",
        "\n",
        "For this, we use [structured outputs](https://python.langchain.com/docs/concepts/structured_outputs/) with a Pydantic model, which is particularly useful for defining structured output schemas because it offers type hints and validation. The descriptions in the pydantic model are important because they get passed as part JSON schema to the LLM to inform the output coercion."
      ]
    },
    {
      "cell_type": "code",
      "source": [
        "!pip install html2text"
      ],
      "metadata": {
        "colab": {
          "base_uri": "https://localhost:8080/"
        },
        "id": "dBprffk8thR2",
        "outputId": "fcd34de5-de0a-400a-ba01-4c0e0050f028"
      },
      "id": "dBprffk8thR2",
      "execution_count": 25,
      "outputs": [
        {
          "output_type": "stream",
          "name": "stdout",
          "text": [
            "Collecting html2text\n",
            "  Downloading html2text-2025.4.15-py3-none-any.whl.metadata (4.1 kB)\n",
            "Downloading html2text-2025.4.15-py3-none-any.whl (34 kB)\n",
            "Installing collected packages: html2text\n",
            "Successfully installed html2text-2025.4.15\n"
          ]
        }
      ]
    },
    {
      "cell_type": "code",
      "execution_count": 26,
      "id": "8adf520b-adf5-4a7b-b7a8-b8c23720c03f",
      "metadata": {
        "id": "8adf520b-adf5-4a7b-b7a8-b8c23720c03f"
      },
      "outputs": [],
      "source": [
        "#%load_ext autoreload\n",
        "#%autoreload 2\n",
        "\n",
        "from pydantic import BaseModel, Field\n",
        "from email_assistant.utils import parse_email, format_email_markdown\n",
        "from email_assistant.prompts import triage_system_prompt, triage_user_prompt, default_triage_instructions, default_background\n",
        "from langchain.chat_models import init_chat_model\n",
        "from langgraph.graph import END\n",
        "from langgraph.types import Command"
      ]
    },
    {
      "cell_type": "code",
      "execution_count": 27,
      "id": "2c2c2ff0-da93-4731-b5b6-0ccd59e0e783",
      "metadata": {
        "colab": {
          "base_uri": "https://localhost:8080/",
          "height": 209
        },
        "id": "2c2c2ff0-da93-4731-b5b6-0ccd59e0e783",
        "outputId": "f21a1b27-d505-4d8d-b526-6cb2c5b88cc7"
      },
      "outputs": [
        {
          "output_type": "execute_result",
          "data": {
            "text/plain": [
              "< Role > Your role is to triage incoming emails based upon instructs and background information below. </ Role >   \n",
              "\n",
              "< Background > {background}. </ Background >                                                                       \n",
              "\n",
              "< Instructions > Categorize each email into one of three categories:                                               \n",
              "\n",
              "\u001b[1;33m 1 \u001b[0mIGNORE - Emails that are not worth responding to or tracking                                                    \n",
              "\u001b[1;33m 2 \u001b[0mNOTIFY - Important information that worth notification but doesn't require a response                           \n",
              "\u001b[1;33m 3 \u001b[0mRESPOND - Emails that need a direct response Classify the below email into one of these categories. </          \n",
              "\u001b[1;33m   \u001b[0mInstructions >                                                                                                  \n",
              "\n",
              "< Rules > {triage_instructions} </ Rules >                                                                         \n"
            ],
            "text/html": [
              "<pre style=\"white-space:pre;overflow-x:auto;line-height:normal;font-family:Menlo,'DejaVu Sans Mono',consolas,'Courier New',monospace\">&lt; Role &gt; Your role is to triage incoming emails based upon instructs and background information below. &lt;/ Role &gt;   \n",
              "\n",
              "&lt; Background &gt; {background}. &lt;/ Background &gt;                                                                       \n",
              "\n",
              "&lt; Instructions &gt; Categorize each email into one of three categories:                                               \n",
              "\n",
              "<span style=\"color: #808000; text-decoration-color: #808000; font-weight: bold\"> 1 </span>IGNORE - Emails that are not worth responding to or tracking                                                    \n",
              "<span style=\"color: #808000; text-decoration-color: #808000; font-weight: bold\"> 2 </span>NOTIFY - Important information that worth notification but doesn't require a response                           \n",
              "<span style=\"color: #808000; text-decoration-color: #808000; font-weight: bold\"> 3 </span>RESPOND - Emails that need a direct response Classify the below email into one of these categories. &lt;/          \n",
              "<span style=\"color: #808000; text-decoration-color: #808000; font-weight: bold\">   </span>Instructions &gt;                                                                                                  \n",
              "\n",
              "&lt; Rules &gt; {triage_instructions} &lt;/ Rules &gt;                                                                         \n",
              "</pre>\n"
            ]
          },
          "metadata": {},
          "execution_count": 27
        }
      ],
      "source": [
        "from rich.markdown import Markdown\n",
        "Markdown(triage_system_prompt)"
      ]
    },
    {
      "cell_type": "code",
      "execution_count": 28,
      "id": "f3a1ad2c-40a2-42d0-a4b8-7a25df825fad",
      "metadata": {
        "colab": {
          "base_uri": "https://localhost:8080/",
          "height": 65
        },
        "id": "f3a1ad2c-40a2-42d0-a4b8-7a25df825fad",
        "outputId": "d22c5d11-4460-43f3-83cd-99d8c649d0f6"
      },
      "outputs": [
        {
          "output_type": "execute_result",
          "data": {
            "text/plain": [
              "Please determine how to handle the below email thread:                                                             \n",
              "\n",
              "From: {author} To: {to} Subject: {subject} {email_thread}                                                          \n"
            ],
            "text/html": [
              "<pre style=\"white-space:pre;overflow-x:auto;line-height:normal;font-family:Menlo,'DejaVu Sans Mono',consolas,'Courier New',monospace\">Please determine how to handle the below email thread:                                                             \n",
              "\n",
              "From: {author} To: {to} Subject: {subject} {email_thread}                                                          \n",
              "</pre>\n"
            ]
          },
          "metadata": {},
          "execution_count": 28
        }
      ],
      "source": [
        "Markdown(triage_user_prompt)"
      ]
    },
    {
      "cell_type": "code",
      "execution_count": 29,
      "id": "69b0df31-b9d2-423f-ba07-67eb0643c2ba",
      "metadata": {
        "colab": {
          "base_uri": "https://localhost:8080/",
          "height": 33
        },
        "id": "69b0df31-b9d2-423f-ba07-67eb0643c2ba",
        "outputId": "5eb4867e-9f48-4496-d66b-3d0e582ec430"
      },
      "outputs": [
        {
          "output_type": "execute_result",
          "data": {
            "text/plain": [
              "I'm Lance, a software engineer at LangChain.                                                                       \n"
            ],
            "text/html": [
              "<pre style=\"white-space:pre;overflow-x:auto;line-height:normal;font-family:Menlo,'DejaVu Sans Mono',consolas,'Courier New',monospace\">I'm Lance, a software engineer at LangChain.                                                                       \n",
              "</pre>\n"
            ]
          },
          "metadata": {},
          "execution_count": 29
        }
      ],
      "source": [
        "Markdown(default_background)"
      ]
    },
    {
      "cell_type": "code",
      "execution_count": 30,
      "id": "4b3ea767-6ac1-4562-8ca6-5fa451495786",
      "metadata": {
        "colab": {
          "base_uri": "https://localhost:8080/",
          "height": 481
        },
        "id": "4b3ea767-6ac1-4562-8ca6-5fa451495786",
        "outputId": "ef2ee510-dad3-4b77-c6ff-6a3b6d9484fb"
      },
      "outputs": [
        {
          "output_type": "execute_result",
          "data": {
            "text/plain": [
              "Emails that are not worth responding to:                                                                           \n",
              "\n",
              "\u001b[1;33m • \u001b[0mMarketing newsletters and promotional emails                                                                    \n",
              "\u001b[1;33m • \u001b[0mSpam or suspicious emails                                                                                       \n",
              "\u001b[1;33m • \u001b[0mCC'd on FYI threads with no direct questions                                                                    \n",
              "\n",
              "There are also other things that should be known about, but don't require an email response. For these, you should \n",
              "notify (using the \u001b[1;36;40mnotify\u001b[0m response). Examples of this include:                                                      \n",
              "\n",
              "\u001b[1;33m • \u001b[0mTeam member out sick or on vacation                                                                             \n",
              "\u001b[1;33m • \u001b[0mBuild system notifications or deployments                                                                       \n",
              "\u001b[1;33m • \u001b[0mProject status updates without action items                                                                     \n",
              "\u001b[1;33m • \u001b[0mImportant company announcements                                                                                 \n",
              "\u001b[1;33m • \u001b[0mFYI emails that contain relevant information for current projects                                               \n",
              "\u001b[1;33m • \u001b[0mHR Department deadline reminders                                                                                \n",
              "\u001b[1;33m • \u001b[0mSubscription status / renewal reminders                                                                         \n",
              "\u001b[1;33m • \u001b[0mGitHub notifications                                                                                            \n",
              "\n",
              "Emails that are worth responding to:                                                                               \n",
              "\n",
              "\u001b[1;33m • \u001b[0mDirect questions from team members requiring expertise                                                          \n",
              "\u001b[1;33m • \u001b[0mMeeting requests requiring confirmation                                                                         \n",
              "\u001b[1;33m • \u001b[0mCritical bug reports related to team's projects                                                                 \n",
              "\u001b[1;33m • \u001b[0mRequests from management requiring acknowledgment                                                               \n",
              "\u001b[1;33m • \u001b[0mClient inquiries about project status or features                                                               \n",
              "\u001b[1;33m • \u001b[0mTechnical questions about documentation, code, or APIs (especially questions about missing endpoints or         \n",
              "\u001b[1;33m   \u001b[0mfeatures)                                                                                                       \n",
              "\u001b[1;33m • \u001b[0mPersonal reminders related to family (wife / daughter)                                                          \n",
              "\u001b[1;33m • \u001b[0mPersonal reminder related to self-care (doctor appointments, etc)                                               \n"
            ],
            "text/html": [
              "<pre style=\"white-space:pre;overflow-x:auto;line-height:normal;font-family:Menlo,'DejaVu Sans Mono',consolas,'Courier New',monospace\">Emails that are not worth responding to:                                                                           \n",
              "\n",
              "<span style=\"color: #808000; text-decoration-color: #808000; font-weight: bold\"> • </span>Marketing newsletters and promotional emails                                                                    \n",
              "<span style=\"color: #808000; text-decoration-color: #808000; font-weight: bold\"> • </span>Spam or suspicious emails                                                                                       \n",
              "<span style=\"color: #808000; text-decoration-color: #808000; font-weight: bold\"> • </span>CC'd on FYI threads with no direct questions                                                                    \n",
              "\n",
              "There are also other things that should be known about, but don't require an email response. For these, you should \n",
              "notify (using the <span style=\"color: #008080; text-decoration-color: #008080; background-color: #000000; font-weight: bold\">notify</span> response). Examples of this include:                                                      \n",
              "\n",
              "<span style=\"color: #808000; text-decoration-color: #808000; font-weight: bold\"> • </span>Team member out sick or on vacation                                                                             \n",
              "<span style=\"color: #808000; text-decoration-color: #808000; font-weight: bold\"> • </span>Build system notifications or deployments                                                                       \n",
              "<span style=\"color: #808000; text-decoration-color: #808000; font-weight: bold\"> • </span>Project status updates without action items                                                                     \n",
              "<span style=\"color: #808000; text-decoration-color: #808000; font-weight: bold\"> • </span>Important company announcements                                                                                 \n",
              "<span style=\"color: #808000; text-decoration-color: #808000; font-weight: bold\"> • </span>FYI emails that contain relevant information for current projects                                               \n",
              "<span style=\"color: #808000; text-decoration-color: #808000; font-weight: bold\"> • </span>HR Department deadline reminders                                                                                \n",
              "<span style=\"color: #808000; text-decoration-color: #808000; font-weight: bold\"> • </span>Subscription status / renewal reminders                                                                         \n",
              "<span style=\"color: #808000; text-decoration-color: #808000; font-weight: bold\"> • </span>GitHub notifications                                                                                            \n",
              "\n",
              "Emails that are worth responding to:                                                                               \n",
              "\n",
              "<span style=\"color: #808000; text-decoration-color: #808000; font-weight: bold\"> • </span>Direct questions from team members requiring expertise                                                          \n",
              "<span style=\"color: #808000; text-decoration-color: #808000; font-weight: bold\"> • </span>Meeting requests requiring confirmation                                                                         \n",
              "<span style=\"color: #808000; text-decoration-color: #808000; font-weight: bold\"> • </span>Critical bug reports related to team's projects                                                                 \n",
              "<span style=\"color: #808000; text-decoration-color: #808000; font-weight: bold\"> • </span>Requests from management requiring acknowledgment                                                               \n",
              "<span style=\"color: #808000; text-decoration-color: #808000; font-weight: bold\"> • </span>Client inquiries about project status or features                                                               \n",
              "<span style=\"color: #808000; text-decoration-color: #808000; font-weight: bold\"> • </span>Technical questions about documentation, code, or APIs (especially questions about missing endpoints or         \n",
              "<span style=\"color: #808000; text-decoration-color: #808000; font-weight: bold\">   </span>features)                                                                                                       \n",
              "<span style=\"color: #808000; text-decoration-color: #808000; font-weight: bold\"> • </span>Personal reminders related to family (wife / daughter)                                                          \n",
              "<span style=\"color: #808000; text-decoration-color: #808000; font-weight: bold\"> • </span>Personal reminder related to self-care (doctor appointments, etc)                                               \n",
              "</pre>\n"
            ]
          },
          "metadata": {},
          "execution_count": 30
        }
      ],
      "source": [
        "Markdown(default_triage_instructions)"
      ]
    },
    {
      "cell_type": "code",
      "execution_count": 33,
      "id": "c54ae6a6-94d9-4160-8d45-18f4d29aa600",
      "metadata": {
        "id": "c54ae6a6-94d9-4160-8d45-18f4d29aa600"
      },
      "outputs": [],
      "source": [
        "class RouterSchema(BaseModel):\n",
        "    \"\"\"Analyze the unread email and route it according to its content.\"\"\"\n",
        "\n",
        "    reasoning: str = Field(\n",
        "        description=\"Step-by-step reasoning behind the classification.\"\n",
        "    )\n",
        "    classification: Literal[\"ignore\", \"respond\", \"notify\"] = Field(\n",
        "        description=\"The classification of an email: 'ignore' for irrelevant emails, \"\n",
        "        \"'notify' for important information that doesn't need a response, \"\n",
        "        \"'respond' for emails that need a reply\",\n",
        "    )\n",
        "\n",
        "# Initialize the LLM for use with router / structured output\n",
        "#llm = init_chat_model(\"openai:gpt-4.1\", temperature=0.0)\n",
        "llm = init_chat_model(\"google_genai:gemini-2.0-flash\")\n",
        "llm_router = llm.with_structured_output(RouterSchema)\n",
        "\n",
        "def triage_router(state: State) -> Command[Literal[\"response_agent\", \"__end__\"]]:\n",
        "    \"\"\"Analyze email content to decide if we should respond, notify, or ignore.\"\"\"\n",
        "\n",
        "    author, to, subject, email_thread = parse_email(state[\"email_input\"])\n",
        "    system_prompt = triage_system_prompt.format(\n",
        "        background=default_background,\n",
        "        triage_instructions=default_triage_instructions\n",
        "    )\n",
        "\n",
        "    user_prompt = triage_user_prompt.format(\n",
        "        author=author, to=to, subject=subject, email_thread=email_thread\n",
        "    )\n",
        "\n",
        "    result = llm_router.invoke(\n",
        "        [\n",
        "            {\"role\": \"system\", \"content\": system_prompt},\n",
        "            {\"role\": \"user\", \"content\": user_prompt},\n",
        "        ]\n",
        "    )\n",
        "\n",
        "    if result.classification == \"respond\":\n",
        "        print(\"📧 Classification: RESPOND - This email requires a response\")\n",
        "        goto = \"response_agent\"\n",
        "        update = {\n",
        "            \"messages\": [\n",
        "                {\n",
        "                    \"role\": \"user\",\n",
        "                    \"content\": f\"Respond to the email: \\n\\n{format_email_markdown(subject, author, to, email_thread)}\",\n",
        "                }\n",
        "            ],\n",
        "            \"classification_decision\": result.classification,\n",
        "        }\n",
        "\n",
        "    elif result.classification == \"ignore\":\n",
        "        print(\"🚫 Classification: IGNORE - This email can be safely ignored\")\n",
        "        goto = END\n",
        "        update =  {\n",
        "            \"classification_decision\": result.classification,\n",
        "        }\n",
        "\n",
        "    elif result.classification == \"notify\":\n",
        "        print(\"🔔 Classification: NOTIFY - This email contains important information\")\n",
        "        # For now, we go to END. But we will add to this later!\n",
        "        goto = END\n",
        "        update = {\n",
        "            \"classification_decision\": result.classification,\n",
        "        }\n",
        "\n",
        "    else:\n",
        "        raise ValueError(f\"Invalid classification: {result.classification}\")\n",
        "    return Command(goto=goto, update=update)"
      ]
    },
    {
      "cell_type": "markdown",
      "id": "272d8715",
      "metadata": {
        "id": "272d8715"
      },
      "source": [
        "We use [Command](https://langchain-ai.github.io/langgraph/how-tos/command/) objects in LangGraph to both update the state and select the next node to visit. This is a useful alternative to edges.\n",
        "\n",
        "### Agent\n",
        "\n",
        "Now, let's build the agent.\n",
        "\n",
        "#### LLM node\n",
        "\n",
        "Here, we define the LLM decision-making node. This node takes in the current state, calls the LLM, and updates `messages` with the LLM output.\n",
        "\n",
        "We [enforce tool use with OpenAI](https://python.langchain.com/docs/how_to/tool_choice/) by setting `tool_choice=\"required\"`."
      ]
    },
    {
      "cell_type": "code",
      "execution_count": 34,
      "id": "1e842b3c-06f5-440f-8159-995503ef3a99",
      "metadata": {
        "id": "1e842b3c-06f5-440f-8159-995503ef3a99"
      },
      "outputs": [],
      "source": [
        "from email_assistant.tools.default.prompt_templates import AGENT_TOOLS_PROMPT\n",
        "from email_assistant.prompts import agent_system_prompt, default_response_preferences, default_cal_preferences"
      ]
    },
    {
      "cell_type": "code",
      "execution_count": 35,
      "id": "8f69c6fc-70aa-48f1-8312-2b1818469a1b",
      "metadata": {
        "colab": {
          "base_uri": "https://localhost:8080/",
          "height": 97
        },
        "id": "8f69c6fc-70aa-48f1-8312-2b1818469a1b",
        "outputId": "6b54145b-23d6-4bf4-a8ef-2e643eaf8940"
      },
      "outputs": [
        {
          "output_type": "execute_result",
          "data": {
            "text/plain": [
              "\n",
              "\u001b[1;33m 1 \u001b[0mwrite_email(to, subject, content) - Send emails to specified recipients                                         \n",
              "\u001b[1;33m 2 \u001b[0mschedule_meeting(attendees, subject, duration_minutes, preferred_day, start_time) - Schedule calendar meetings  \n",
              "\u001b[1;33m   \u001b[0mwhere preferred_day is a datetime object                                                                        \n",
              "\u001b[1;33m 3 \u001b[0mcheck_calendar_availability(day) - Check available time slots for a given day                                   \n",
              "\u001b[1;33m 4 \u001b[0mDone - E-mail has been sent                                                                                     \n"
            ],
            "text/html": [
              "<pre style=\"white-space:pre;overflow-x:auto;line-height:normal;font-family:Menlo,'DejaVu Sans Mono',consolas,'Courier New',monospace\">\n",
              "<span style=\"color: #808000; text-decoration-color: #808000; font-weight: bold\"> 1 </span>write_email(to, subject, content) - Send emails to specified recipients                                         \n",
              "<span style=\"color: #808000; text-decoration-color: #808000; font-weight: bold\"> 2 </span>schedule_meeting(attendees, subject, duration_minutes, preferred_day, start_time) - Schedule calendar meetings  \n",
              "<span style=\"color: #808000; text-decoration-color: #808000; font-weight: bold\">   </span>where preferred_day is a datetime object                                                                        \n",
              "<span style=\"color: #808000; text-decoration-color: #808000; font-weight: bold\"> 3 </span>check_calendar_availability(day) - Check available time slots for a given day                                   \n",
              "<span style=\"color: #808000; text-decoration-color: #808000; font-weight: bold\"> 4 </span>Done - E-mail has been sent                                                                                     \n",
              "</pre>\n"
            ]
          },
          "metadata": {},
          "execution_count": 35
        }
      ],
      "source": [
        "Markdown(AGENT_TOOLS_PROMPT)"
      ]
    },
    {
      "cell_type": "code",
      "execution_count": 36,
      "id": "9052fced-3fdb-4cd2-ac88-e2ccdce14e7c",
      "metadata": {
        "colab": {
          "base_uri": "https://localhost:8080/",
          "height": 385
        },
        "id": "9052fced-3fdb-4cd2-ac88-e2ccdce14e7c",
        "outputId": "cc15a43f-fa50-463f-c164-d83a26e4a6ec"
      },
      "outputs": [
        {
          "output_type": "execute_result",
          "data": {
            "text/plain": [
              "< Role > You are a top-notch executive assistant who cares about helping your executive perform as well as         \n",
              "possible. </ Role >                                                                                                \n",
              "\n",
              "< Tools > You have access to the following tools to help manage communications and schedule: {tools_prompt} </     \n",
              "Tools >                                                                                                            \n",
              "\n",
              "< Instructions > When handling emails, follow these steps:                                                         \n",
              "\n",
              "\u001b[1;33m 1 \u001b[0mCarefully analyze the email content and purpose                                                                 \n",
              "\u001b[1;33m 2 \u001b[0mIMPORTANT --- always call a tool and call one tool at a time until the task is complete:                        \n",
              "\u001b[1;33m 3 \u001b[0mFor responding to the email, draft a response email with the write_email tool                                   \n",
              "\u001b[1;33m 4 \u001b[0mFor meeting requests, use the check_calendar_availability tool to find open time slots                          \n",
              "\u001b[1;33m 5 \u001b[0mTo schedule a meeting, use the schedule_meeting tool with a datetime object for the preferred_day parameter     \n",
              "\u001b[1;33m   \u001b[0m\u001b[1;33m • \u001b[0mToday's date is 2025-08-22 - use this for scheduling meetings accurately                                     \n",
              "\u001b[1;33m 6 \u001b[0mIf you scheduled a meeting, then draft a short response email using the write_email tool                        \n",
              "\u001b[1;33m 7 \u001b[0mAfter using the write_email tool, the task is complete                                                          \n",
              "\u001b[1;33m 8 \u001b[0mIf you have sent the email, then use the Done tool to indicate that the task is complete </ Instructions >      \n",
              "\n",
              "< Background > {background} </ Background >                                                                        \n",
              "\n",
              "< Response Preferences > {response_preferences} </ Response Preferences >                                          \n",
              "\n",
              "< Calendar Preferences > {cal_preferences} </ Calendar Preferences >                                               \n"
            ],
            "text/html": [
              "<pre style=\"white-space:pre;overflow-x:auto;line-height:normal;font-family:Menlo,'DejaVu Sans Mono',consolas,'Courier New',monospace\">&lt; Role &gt; You are a top-notch executive assistant who cares about helping your executive perform as well as         \n",
              "possible. &lt;/ Role &gt;                                                                                                \n",
              "\n",
              "&lt; Tools &gt; You have access to the following tools to help manage communications and schedule: {tools_prompt} &lt;/     \n",
              "Tools &gt;                                                                                                            \n",
              "\n",
              "&lt; Instructions &gt; When handling emails, follow these steps:                                                         \n",
              "\n",
              "<span style=\"color: #808000; text-decoration-color: #808000; font-weight: bold\"> 1 </span>Carefully analyze the email content and purpose                                                                 \n",
              "<span style=\"color: #808000; text-decoration-color: #808000; font-weight: bold\"> 2 </span>IMPORTANT --- always call a tool and call one tool at a time until the task is complete:                        \n",
              "<span style=\"color: #808000; text-decoration-color: #808000; font-weight: bold\"> 3 </span>For responding to the email, draft a response email with the write_email tool                                   \n",
              "<span style=\"color: #808000; text-decoration-color: #808000; font-weight: bold\"> 4 </span>For meeting requests, use the check_calendar_availability tool to find open time slots                          \n",
              "<span style=\"color: #808000; text-decoration-color: #808000; font-weight: bold\"> 5 </span>To schedule a meeting, use the schedule_meeting tool with a datetime object for the preferred_day parameter     \n",
              "<span style=\"color: #808000; text-decoration-color: #808000; font-weight: bold\">    • </span>Today's date is 2025-08-22 - use this for scheduling meetings accurately                                     \n",
              "<span style=\"color: #808000; text-decoration-color: #808000; font-weight: bold\"> 6 </span>If you scheduled a meeting, then draft a short response email using the write_email tool                        \n",
              "<span style=\"color: #808000; text-decoration-color: #808000; font-weight: bold\"> 7 </span>After using the write_email tool, the task is complete                                                          \n",
              "<span style=\"color: #808000; text-decoration-color: #808000; font-weight: bold\"> 8 </span>If you have sent the email, then use the Done tool to indicate that the task is complete &lt;/ Instructions &gt;      \n",
              "\n",
              "&lt; Background &gt; {background} &lt;/ Background &gt;                                                                        \n",
              "\n",
              "&lt; Response Preferences &gt; {response_preferences} &lt;/ Response Preferences &gt;                                          \n",
              "\n",
              "&lt; Calendar Preferences &gt; {cal_preferences} &lt;/ Calendar Preferences &gt;                                               \n",
              "</pre>\n"
            ]
          },
          "metadata": {},
          "execution_count": 36
        }
      ],
      "source": [
        "Markdown(agent_system_prompt)"
      ]
    },
    {
      "cell_type": "code",
      "execution_count": 38,
      "id": "6f2c120f",
      "metadata": {
        "id": "6f2c120f"
      },
      "outputs": [],
      "source": [
        "# Collect all tools\n",
        "tools = [write_email, schedule_meeting, check_calendar_availability, Done]\n",
        "tools_by_name = {tool.name: tool for tool in tools}\n",
        "\n",
        "# Initialize the LLM, enforcing tool use\n",
        "#llm = init_chat_model(\"openai:gpt-4.1\", temperature=0.0)\n",
        "llm = init_chat_model(\"google_genai:gemini-2.0-flash\")\n",
        "llm_with_tools = llm.bind_tools(tools, tool_choice=\"any\")\n",
        "\n",
        "def llm_call(state: State):\n",
        "    \"\"\"LLM decides whether to call a tool or not\"\"\"\n",
        "\n",
        "    return {\n",
        "        \"messages\": [\n",
        "            # Invoke the LLM\n",
        "            llm_with_tools.invoke(\n",
        "                # Add the system prompt\n",
        "                [\n",
        "                    {\"role\": \"system\", \"content\": agent_system_prompt.format(\n",
        "                        tools_prompt=AGENT_TOOLS_PROMPT,\n",
        "                        background=default_background,\n",
        "                        response_preferences=default_response_preferences,\n",
        "                        cal_preferences=default_cal_preferences,\n",
        "                    )}\n",
        "                ]\n",
        "                # Add the current messages to the prompt\n",
        "                + state[\"messages\"]\n",
        "            )\n",
        "        ]\n",
        "    }"
      ]
    },
    {
      "cell_type": "markdown",
      "id": "9f05d11a",
      "metadata": {
        "id": "9f05d11a"
      },
      "source": [
        "#### Tool handler node\n",
        "\n",
        "After the LLM makes a decision, we need to execute the chosen tool.\n",
        "\n",
        "The `tool_handler` node executes the tool. We can see that nodes can update the graph state to capture any important state changes, such as the classification decision."
      ]
    },
    {
      "cell_type": "code",
      "execution_count": 39,
      "id": "43eb6dc2",
      "metadata": {
        "id": "43eb6dc2"
      },
      "outputs": [],
      "source": [
        "def tool_handler(state: State):\n",
        "    \"\"\"Performs the tool call.\"\"\"\n",
        "\n",
        "    # List for tool messages\n",
        "    result = []\n",
        "\n",
        "    # Iterate through tool calls\n",
        "    for tool_call in state[\"messages\"][-1].tool_calls:\n",
        "        # Get the tool\n",
        "        tool = tools_by_name[tool_call[\"name\"]]\n",
        "        # Run it\n",
        "        observation = tool.invoke(tool_call[\"args\"])\n",
        "        # Create a tool message\n",
        "        result.append({\"role\": \"tool\", \"content\" : observation, \"tool_call_id\": tool_call[\"id\"]})\n",
        "\n",
        "    # Add it to our messages\n",
        "    return {\"messages\": result}"
      ]
    },
    {
      "cell_type": "markdown",
      "id": "4721dede",
      "metadata": {
        "id": "4721dede"
      },
      "source": [
        "#### Conditional Routing\n",
        "\n",
        "Our agent needs to decide when to continue using tools and when to stop. This conditional routing function directs the agent to either continue or terminate."
      ]
    },
    {
      "cell_type": "code",
      "execution_count": 40,
      "id": "7c7cbea7",
      "metadata": {
        "id": "7c7cbea7"
      },
      "outputs": [],
      "source": [
        "def should_continue(state: State) -> Literal[\"tool_handler\", \"__end__\"]:\n",
        "    \"\"\"Route to tool handler, or end if Done tool called.\"\"\"\n",
        "\n",
        "    # Get the last message\n",
        "    messages = state[\"messages\"]\n",
        "    last_message = messages[-1]\n",
        "\n",
        "    # Check if it's a Done tool call\n",
        "    if last_message.tool_calls:\n",
        "        for tool_call in last_message.tool_calls:\n",
        "            if tool_call[\"name\"] == \"Done\":\n",
        "                return END\n",
        "            else:\n",
        "                return \"tool_handler\""
      ]
    },
    {
      "cell_type": "markdown",
      "id": "6eb4ede8",
      "metadata": {
        "id": "6eb4ede8"
      },
      "source": [
        "#### Agent Graph\n",
        "\n",
        "Finally, we can assemble all components:"
      ]
    },
    {
      "cell_type": "code",
      "execution_count": 41,
      "id": "f81df767",
      "metadata": {
        "id": "f81df767"
      },
      "outputs": [],
      "source": [
        "from langgraph.graph import StateGraph, START, END\n",
        "from email_assistant.utils import show_graph\n",
        "\n",
        "# Build workflow\n",
        "overall_workflow = StateGraph(State)\n",
        "\n",
        "# Add nodes\n",
        "overall_workflow.add_node(\"llm_call\", llm_call)\n",
        "overall_workflow.add_node(\"tool_handler\", tool_handler)\n",
        "\n",
        "# Add edges\n",
        "overall_workflow.add_edge(START, \"llm_call\")\n",
        "overall_workflow.add_conditional_edges(\n",
        "    \"llm_call\",\n",
        "    should_continue,\n",
        "    {\n",
        "        \"tool_handler\": \"tool_handler\",\n",
        "        END: END,\n",
        "    },\n",
        ")\n",
        "overall_workflow.add_edge(\"tool_handler\", \"llm_call\")\n",
        "\n",
        "# Compile the agent\n",
        "agent = overall_workflow.compile()"
      ]
    },
    {
      "cell_type": "code",
      "execution_count": 42,
      "id": "617f6373-bf48-44c2-ba33-000c9f22b067",
      "metadata": {
        "colab": {
          "base_uri": "https://localhost:8080/",
          "height": 266
        },
        "id": "617f6373-bf48-44c2-ba33-000c9f22b067",
        "outputId": "f2e2a6fb-aa93-4bbb-cbbb-7e39f4782370"
      },
      "outputs": [
        {
          "output_type": "execute_result",
          "data": {
            "image/png": "[encoded data removed]",
            "text/plain": [
              "<IPython.core.display.Image object>"
            ]
          },
          "metadata": {},
          "execution_count": 42
        }
      ],
      "source": [
        "# View\n",
        "show_graph(agent)"
      ]
    },
    {
      "cell_type": "markdown",
      "id": "dc8367c4",
      "metadata": {
        "id": "dc8367c4"
      },
      "source": [
        "This creates a graph that:\n",
        "1. Starts with an LLM decision\n",
        "2. Conditionally routes to tool execution or termination\n",
        "3. After tool execution, returns to LLM for the next decision\n",
        "4. Repeats until completion or no tool is called\n"
      ]
    },
    {
      "cell_type": "markdown",
      "id": "b2b3406d-496d-43c9-942e-c5ce7e3a8321",
      "metadata": {
        "id": "b2b3406d-496d-43c9-942e-c5ce7e3a8321"
      },
      "source": [
        "### Combine workflow with our agent\n",
        "\n",
        "We can combine the router and the agent."
      ]
    },
    {
      "cell_type": "code",
      "execution_count": 43,
      "id": "697f2548-b5a5-4fb6-8aed-226369e53e25",
      "metadata": {
        "id": "697f2548-b5a5-4fb6-8aed-226369e53e25"
      },
      "outputs": [],
      "source": [
        "overall_workflow = (\n",
        "    StateGraph(State)\n",
        "    .add_node(triage_router)\n",
        "    .add_node(\"response_agent\", agent)\n",
        "    .add_edge(START, \"triage_router\")\n",
        ").compile()"
      ]
    },
    {
      "cell_type": "code",
      "execution_count": 44,
      "id": "2dd6dcc4-6346-4d41-ae36-61f3fc83b7a7",
      "metadata": {
        "colab": {
          "base_uri": "https://localhost:8080/",
          "height": 598
        },
        "id": "2dd6dcc4-6346-4d41-ae36-61f3fc83b7a7",
        "outputId": "9aa40e7e-aa45-4dfe-e6e7-e85d1d968f3c"
      },
      "outputs": [
        {
          "output_type": "execute_result",
          "data": {
            "image/png": "[encoded data removed]",
            "text/plain": [
              "<IPython.core.display.Image object>"
            ]
          },
          "metadata": {},
          "execution_count": 44
        }
      ],
      "source": [
        "show_graph(overall_workflow, xray=True)"
      ]
    },
    {
      "cell_type": "markdown",
      "id": "2091d5cc",
      "metadata": {
        "id": "2091d5cc"
      },
      "source": [
        "This is a higher-level composition where:\n",
        "1. First, the triage router analyzes the email\n",
        "2. If needed, the response agent handles crafting a response\n",
        "3. The workflow ends when either the triage decides no response is needed or the response agent completes"
      ]
    },
    {
      "cell_type": "code",
      "execution_count": 45,
      "id": "070f18a6",
      "metadata": {
        "colab": {
          "base_uri": "https://localhost:8080/"
        },
        "id": "070f18a6",
        "outputId": "7639d432-c00d-47f4-99ab-e15a1c6717f6"
      },
      "outputs": [
        {
          "output_type": "stream",
          "name": "stdout",
          "text": [
            "🔔 Classification: NOTIFY - This email contains important information\n"
          ]
        }
      ],
      "source": [
        "email_input = {\n",
        "    \"author\": \"System Admin <sysadmin@company.com>\",\n",
        "    \"to\": \"Development Team <dev@company.com>\",\n",
        "    \"subject\": \"Scheduled maintenance - database downtime\",\n",
        "    \"email_thread\": \"Hi team,\\n\\nThis is a reminder that we'll be performing scheduled maintenance on the production database tonight from 2AM to 4AM EST. During this time, all database services will be unavailable.\\n\\nPlease plan your work accordingly and ensure no critical deployments are scheduled during this window.\\n\\nThanks,\\nSystem Admin Team\"\n",
        "}\n",
        "\n",
        "# Run the agent\n",
        "response = overall_workflow.invoke({\"email_input\": email_input})\n",
        "for m in response[\"messages\"]:\n",
        "    m.pretty_print()"
      ]
    },
    {
      "cell_type": "code",
      "execution_count": 46,
      "id": "7a50ae0a-7bd1-4e69-90be-781b1e77b4dd",
      "metadata": {
        "colab": {
          "base_uri": "https://localhost:8080/"
        },
        "id": "7a50ae0a-7bd1-4e69-90be-781b1e77b4dd",
        "outputId": "91c02ca5-73b2-4c26-c6ed-317ca2cb16d6"
      },
      "outputs": [
        {
          "output_type": "stream",
          "name": "stdout",
          "text": [
            "📧 Classification: RESPOND - This email requires a response\n",
            "================================\u001b[1m Human Message \u001b[0m=================================\n",
            "\n",
            "Respond to the email: \n",
            "\n",
            "\n",
            "\n",
            "**Subject**: Quick question about API documentation\n",
            "**From**: Alice Smith <alice.smith@company.com>\n",
            "**To**: John Doe <john.doe@company.com>\n",
            "\n",
            "Hi John,\n",
            "I was reviewing the API documentation for the new authentication service and noticed a few endpoints seem to be missing from the specs. Could you help clarify if this was intentional or if we should update the docs?\n",
            "Specifically, I'm looking at:\n",
            "- /auth/refresh\n",
            "- /auth/validate\n",
            "Thanks!\n",
            "Alice\n",
            "\n",
            "---\n",
            "\n",
            "==================================\u001b[1m Ai Message \u001b[0m==================================\n",
            "Tool Calls:\n",
            "  write_email (d8d3f4d0-a8a5-4c79-b88c-bd36919563ef)\n",
            " Call ID: d8d3f4d0-a8a5-4c79-b88c-bd36919563ef\n",
            "  Args:\n",
            "    to: alice.smith@company.com\n",
            "    content: Hi Alice,\n",
            "\n",
            "Thanks for pointing this out. I will investigate the missing endpoints (/auth/refresh and /auth/validate) in the API documentation for the new authentication service and get back to you by EOD tomorrow.\n",
            "\n",
            "Thanks,\n",
            "John\n",
            "    subject: Re: Quick question about API documentation\n",
            "=================================\u001b[1m Tool Message \u001b[0m=================================\n",
            "\n",
            "Email sent to alice.smith@company.com with subject 'Re: Quick question about API documentation' and content: Hi Alice,\n",
            "\n",
            "Thanks for pointing this out. I will investigate the missing endpoints (/auth/refresh and /auth/validate) in the API documentation for the new authentication service and get back to you by EOD tomorrow.\n",
            "\n",
            "Thanks,\n",
            "John\n",
            "==================================\u001b[1m Ai Message \u001b[0m==================================\n",
            "Tool Calls:\n",
            "  Done (c49ed317-16a0-4f8d-ba59-f5b4a28c7be5)\n",
            " Call ID: c49ed317-16a0-4f8d-ba59-f5b4a28c7be5\n",
            "  Args:\n",
            "    done: True\n"
          ]
        }
      ],
      "source": [
        "email_input = {\n",
        "  \"author\": \"Alice Smith <alice.smith@company.com>\",\n",
        "  \"to\": \"John Doe <john.doe@company.com>\",\n",
        "  \"subject\": \"Quick question about API documentation\",\n",
        "  \"email_thread\": \"Hi John,\\nI was reviewing the API documentation for the new authentication service and noticed a few endpoints seem to be missing from the specs. Could you help clarify if this was intentional or if we should update the docs?\\nSpecifically, I'm looking at:\\n- /auth/refresh\\n- /auth/validate\\nThanks!\\nAlice\"\n",
        "}\n",
        "\n",
        "# Run the agent\n",
        "response = overall_workflow.invoke({\"email_input\": email_input})\n",
        "for m in response[\"messages\"]:\n",
        "    m.pretty_print()"
      ]
    },
    {
      "cell_type": "markdown",
      "id": "f631f61f",
      "metadata": {
        "id": "f631f61f"
      },
      "source": [
        "## Testing with Local Deployment\n",
        "\n",
        "You can find the file for our agent in the `src/email_assistant` directory:\n",
        "\n",
        "* `src/email_assistant/email_assistant.py`\n",
        "\n",
        "You can test them locally in LangGraph Studio by running:\n",
        "\n",
        "```\n",
        "! langgraph dev\n",
        "```"
      ]
    },
    {
      "cell_type": "code",
      "source": [
        "!pip install --upgrade \"langgraph-cli[inmem]\""
      ],
      "metadata": {
        "colab": {
          "base_uri": "https://localhost:8080/"
        },
        "id": "8h_wUBjjukXb",
        "outputId": "2415a1b5-dea9-4100-809d-7623d0ce3a2f"
      },
      "id": "8h_wUBjjukXb",
      "execution_count": 48,
      "outputs": [
        {
          "output_type": "stream",
          "name": "stdout",
          "text": [
            "Collecting langgraph-cli[inmem]\n",
            "  Downloading langgraph_cli-0.3.8-py3-none-any.whl.metadata (3.8 kB)\n",
            "Requirement already satisfied: click>=8.1.7 in /usr/local/lib/python3.12/dist-packages (from langgraph-cli[inmem]) (8.2.1)\n",
            "Requirement already satisfied: langgraph-sdk>=0.1.0 in /usr/local/lib/python3.12/dist-packages (from langgraph-cli[inmem]) (0.2.3)\n",
            "Collecting langgraph-api<0.4.0,>=0.2.120 (from langgraph-cli[inmem])\n",
            "  Downloading langgraph_api-0.3.1-py3-none-any.whl.metadata (3.9 kB)\n",
            "Collecting langgraph-runtime-inmem>=0.6.8 (from langgraph-cli[inmem])\n",
            "  Downloading langgraph_runtime_inmem-0.8.1-py3-none-any.whl.metadata (565 bytes)\n",
            "Requirement already satisfied: python-dotenv>=0.8.0 in /usr/local/lib/python3.12/dist-packages (from langgraph-cli[inmem]) (1.1.1)\n",
            "Requirement already satisfied: cloudpickle>=3.0.0 in /usr/local/lib/python3.12/dist-packages (from langgraph-api<0.4.0,>=0.2.120->langgraph-cli[inmem]) (3.1.1)\n",
            "Requirement already satisfied: cryptography<45.0,>=42.0.0 in /usr/local/lib/python3.12/dist-packages (from langgraph-api<0.4.0,>=0.2.120->langgraph-cli[inmem]) (43.0.3)\n",
            "Requirement already satisfied: httpx>=0.25.0 in /usr/local/lib/python3.12/dist-packages (from langgraph-api<0.4.0,>=0.2.120->langgraph-cli[inmem]) (0.28.1)\n",
            "Collecting jsonschema-rs<0.30,>=0.20.0 (from langgraph-api<0.4.0,>=0.2.120->langgraph-cli[inmem])\n",
            "  Downloading jsonschema_rs-0.29.1-cp312-cp312-manylinux_2_17_x86_64.manylinux2014_x86_64.whl.metadata (14 kB)\n",
            "Requirement already satisfied: langchain-core>=0.3.64 in /usr/local/lib/python3.12/dist-packages (from langgraph-api<0.4.0,>=0.2.120->langgraph-cli[inmem]) (0.3.74)\n",
            "Requirement already satisfied: langgraph-checkpoint>=2.0.23 in /usr/local/lib/python3.12/dist-packages (from langgraph-api<0.4.0,>=0.2.120->langgraph-cli[inmem]) (2.1.1)\n",
            "Requirement already satisfied: langgraph>=0.4.0 in /usr/local/lib/python3.12/dist-packages (from langgraph-api<0.4.0,>=0.2.120->langgraph-cli[inmem]) (0.6.6)\n",
            "Requirement already satisfied: langsmith>=0.3.45 in /usr/local/lib/python3.12/dist-packages (from langgraph-api<0.4.0,>=0.2.120->langgraph-cli[inmem]) (0.4.14)\n",
            "Requirement already satisfied: orjson>=3.9.7 in /usr/local/lib/python3.12/dist-packages (from langgraph-api<0.4.0,>=0.2.120->langgraph-cli[inmem]) (3.11.2)\n",
            "Requirement already satisfied: pyjwt>=2.9.0 in /usr/local/lib/python3.12/dist-packages (from langgraph-api<0.4.0,>=0.2.120->langgraph-cli[inmem]) (2.10.1)\n",
            "Collecting sse-starlette<2.2.0,>=2.1.0 (from langgraph-api<0.4.0,>=0.2.120->langgraph-cli[inmem])\n",
            "  Downloading sse_starlette-2.1.3-py3-none-any.whl.metadata (5.8 kB)\n",
            "Requirement already satisfied: starlette>=0.38.6 in /usr/local/lib/python3.12/dist-packages (from langgraph-api<0.4.0,>=0.2.120->langgraph-cli[inmem]) (0.47.2)\n",
            "Collecting structlog<26,>=24.1.0 (from langgraph-api<0.4.0,>=0.2.120->langgraph-cli[inmem])\n",
            "  Downloading structlog-25.4.0-py3-none-any.whl.metadata (7.6 kB)\n",
            "Requirement already satisfied: tenacity>=8.0.0 in /usr/local/lib/python3.12/dist-packages (from langgraph-api<0.4.0,>=0.2.120->langgraph-cli[inmem]) (8.5.0)\n",
            "Collecting truststore>=0.1 (from langgraph-api<0.4.0,>=0.2.120->langgraph-cli[inmem])\n",
            "  Downloading truststore-0.10.4-py3-none-any.whl.metadata (4.4 kB)\n",
            "Requirement already satisfied: uvicorn>=0.26.0 in /usr/local/lib/python3.12/dist-packages (from langgraph-api<0.4.0,>=0.2.120->langgraph-cli[inmem]) (0.35.0)\n",
            "Collecting watchfiles>=0.13 (from langgraph-api<0.4.0,>=0.2.120->langgraph-cli[inmem])\n",
            "  Downloading watchfiles-1.1.0-cp312-cp312-manylinux_2_17_x86_64.manylinux2014_x86_64.whl.metadata (4.9 kB)\n",
            "Collecting blockbuster<2.0.0,>=1.5.24 (from langgraph-runtime-inmem>=0.6.8->langgraph-cli[inmem])\n",
            "  Downloading blockbuster-1.5.25-py3-none-any.whl.metadata (10 kB)\n",
            "Collecting forbiddenfruit>=0.1.4 (from blockbuster<2.0.0,>=1.5.24->langgraph-runtime-inmem>=0.6.8->langgraph-cli[inmem])\n",
            "  Downloading forbiddenfruit-0.1.4.tar.gz (43 kB)\n",
            "\u001b[2K     \u001b[90m━━━━━━━━━━━━━━━━━━━━━━━━━━━━━━━━━━━━━━━━\u001b[0m \u001b[32m43.8/43.8 kB\u001b[0m \u001b[31m3.4 MB/s\u001b[0m eta \u001b[36m0:00:00\u001b[0m\n",
            "\u001b[?25h  Preparing metadata (setup.py) ... \u001b[?25l\u001b[?25hdone\n",
            "Requirement already satisfied: cffi>=1.12 in /usr/local/lib/python3.12/dist-packages (from cryptography<45.0,>=42.0.0->langgraph-api<0.4.0,>=0.2.120->langgraph-cli[inmem]) (1.17.1)\n",
            "Requirement already satisfied: anyio in /usr/local/lib/python3.12/dist-packages (from httpx>=0.25.0->langgraph-api<0.4.0,>=0.2.120->langgraph-cli[inmem]) (4.10.0)\n",
            "Requirement already satisfied: certifi in /usr/local/lib/python3.12/dist-packages (from httpx>=0.25.0->langgraph-api<0.4.0,>=0.2.120->langgraph-cli[inmem]) (2025.8.3)\n",
            "Requirement already satisfied: httpcore==1.* in /usr/local/lib/python3.12/dist-packages (from httpx>=0.25.0->langgraph-api<0.4.0,>=0.2.120->langgraph-cli[inmem]) (1.0.9)\n",
            "Requirement already satisfied: idna in /usr/local/lib/python3.12/dist-packages (from httpx>=0.25.0->langgraph-api<0.4.0,>=0.2.120->langgraph-cli[inmem]) (3.10)\n",
            "Requirement already satisfied: h11>=0.16 in /usr/local/lib/python3.12/dist-packages (from httpcore==1.*->httpx>=0.25.0->langgraph-api<0.4.0,>=0.2.120->langgraph-cli[inmem]) (0.16.0)\n",
            "Requirement already satisfied: jsonpatch<2.0,>=1.33 in /usr/local/lib/python3.12/dist-packages (from langchain-core>=0.3.64->langgraph-api<0.4.0,>=0.2.120->langgraph-cli[inmem]) (1.33)\n",
            "Requirement already satisfied: PyYAML>=5.3 in /usr/local/lib/python3.12/dist-packages (from langchain-core>=0.3.64->langgraph-api<0.4.0,>=0.2.120->langgraph-cli[inmem]) (6.0.2)\n",
            "Requirement already satisfied: typing-extensions>=4.7 in /usr/local/lib/python3.12/dist-packages (from langchain-core>=0.3.64->langgraph-api<0.4.0,>=0.2.120->langgraph-cli[inmem]) (4.14.1)\n",
            "Requirement already satisfied: packaging>=23.2 in /usr/local/lib/python3.12/dist-packages (from langchain-core>=0.3.64->langgraph-api<0.4.0,>=0.2.120->langgraph-cli[inmem]) (25.0)\n",
            "Requirement already satisfied: pydantic>=2.7.4 in /usr/local/lib/python3.12/dist-packages (from langchain-core>=0.3.64->langgraph-api<0.4.0,>=0.2.120->langgraph-cli[inmem]) (2.11.7)\n",
            "Requirement already satisfied: langgraph-prebuilt<0.7.0,>=0.6.0 in /usr/local/lib/python3.12/dist-packages (from langgraph>=0.4.0->langgraph-api<0.4.0,>=0.2.120->langgraph-cli[inmem]) (0.6.4)\n",
            "Requirement already satisfied: xxhash>=3.5.0 in /usr/local/lib/python3.12/dist-packages (from langgraph>=0.4.0->langgraph-api<0.4.0,>=0.2.120->langgraph-cli[inmem]) (3.5.0)\n",
            "Requirement already satisfied: ormsgpack>=1.10.0 in /usr/local/lib/python3.12/dist-packages (from langgraph-checkpoint>=2.0.23->langgraph-api<0.4.0,>=0.2.120->langgraph-cli[inmem]) (1.10.0)\n",
            "Requirement already satisfied: requests-toolbelt>=1.0.0 in /usr/local/lib/python3.12/dist-packages (from langsmith>=0.3.45->langgraph-api<0.4.0,>=0.2.120->langgraph-cli[inmem]) (1.0.0)\n",
            "Requirement already satisfied: requests>=2.0.0 in /usr/local/lib/python3.12/dist-packages (from langsmith>=0.3.45->langgraph-api<0.4.0,>=0.2.120->langgraph-cli[inmem]) (2.32.4)\n",
            "Requirement already satisfied: zstandard>=0.23.0 in /usr/local/lib/python3.12/dist-packages (from langsmith>=0.3.45->langgraph-api<0.4.0,>=0.2.120->langgraph-cli[inmem]) (0.24.0)\n",
            "Requirement already satisfied: sniffio>=1.1 in /usr/local/lib/python3.12/dist-packages (from anyio->httpx>=0.25.0->langgraph-api<0.4.0,>=0.2.120->langgraph-cli[inmem]) (1.3.1)\n",
            "Requirement already satisfied: pycparser in /usr/local/lib/python3.12/dist-packages (from cffi>=1.12->cryptography<45.0,>=42.0.0->langgraph-api<0.4.0,>=0.2.120->langgraph-cli[inmem]) (2.22)\n",
            "Requirement already satisfied: jsonpointer>=1.9 in /usr/local/lib/python3.12/dist-packages (from jsonpatch<2.0,>=1.33->langchain-core>=0.3.64->langgraph-api<0.4.0,>=0.2.120->langgraph-cli[inmem]) (3.0.0)\n",
            "Requirement already satisfied: annotated-types>=0.6.0 in /usr/local/lib/python3.12/dist-packages (from pydantic>=2.7.4->langchain-core>=0.3.64->langgraph-api<0.4.0,>=0.2.120->langgraph-cli[inmem]) (0.7.0)\n",
            "Requirement already satisfied: pydantic-core==2.33.2 in /usr/local/lib/python3.12/dist-packages (from pydantic>=2.7.4->langchain-core>=0.3.64->langgraph-api<0.4.0,>=0.2.120->langgraph-cli[inmem]) (2.33.2)\n",
            "Requirement already satisfied: typing-inspection>=0.4.0 in /usr/local/lib/python3.12/dist-packages (from pydantic>=2.7.4->langchain-core>=0.3.64->langgraph-api<0.4.0,>=0.2.120->langgraph-cli[inmem]) (0.4.1)\n",
            "Requirement already satisfied: charset_normalizer<4,>=2 in /usr/local/lib/python3.12/dist-packages (from requests>=2.0.0->langsmith>=0.3.45->langgraph-api<0.4.0,>=0.2.120->langgraph-cli[inmem]) (3.4.3)\n",
            "Requirement already satisfied: urllib3<3,>=1.21.1 in /usr/local/lib/python3.12/dist-packages (from requests>=2.0.0->langsmith>=0.3.45->langgraph-api<0.4.0,>=0.2.120->langgraph-cli[inmem]) (2.5.0)\n",
            "Downloading langgraph_api-0.3.1-py3-none-any.whl (206 kB)\n",
            "\u001b[2K   \u001b[90m━━━━━━━━━━━━━━━━━━━━━━━━━━━━━━━━━━━━━━━━\u001b[0m \u001b[32m206.0/206.0 kB\u001b[0m \u001b[31m18.0 MB/s\u001b[0m eta \u001b[36m0:00:00\u001b[0m\n",
            "\u001b[?25hDownloading langgraph_runtime_inmem-0.8.1-py3-none-any.whl (31 kB)\n",
            "Downloading langgraph_cli-0.3.8-py3-none-any.whl (37 kB)\n",
            "Downloading blockbuster-1.5.25-py3-none-any.whl (13 kB)\n",
            "Downloading jsonschema_rs-0.29.1-cp312-cp312-manylinux_2_17_x86_64.manylinux2014_x86_64.whl (2.1 MB)\n",
            "\u001b[2K   \u001b[90m━━━━━━━━━━━━━━━━━━━━━━━━━━━━━━━━━━━━━━━━\u001b[0m \u001b[32m2.1/2.1 MB\u001b[0m \u001b[31m81.0 MB/s\u001b[0m eta \u001b[36m0:00:00\u001b[0m\n",
            "\u001b[?25hDownloading sse_starlette-2.1.3-py3-none-any.whl (9.4 kB)\n",
            "Downloading structlog-25.4.0-py3-none-any.whl (68 kB)\n",
            "\u001b[2K   \u001b[90m━━━━━━━━━━━━━━━━━━━━━━━━━━━━━━━━━━━━━━━━\u001b[0m \u001b[32m68.7/68.7 kB\u001b[0m \u001b[31m6.5 MB/s\u001b[0m eta \u001b[36m0:00:00\u001b[0m\n",
            "\u001b[?25hDownloading truststore-0.10.4-py3-none-any.whl (18 kB)\n",
            "Downloading watchfiles-1.1.0-cp312-cp312-manylinux_2_17_x86_64.manylinux2014_x86_64.whl (452 kB)\n",
            "\u001b[2K   \u001b[90m━━━━━━━━━━━━━━━━━━━━━━━━━━━━━━━━━━━━━━━━\u001b[0m \u001b[32m452.2/452.2 kB\u001b[0m \u001b[31m34.2 MB/s\u001b[0m eta \u001b[36m0:00:00\u001b[0m\n",
            "\u001b[?25hBuilding wheels for collected packages: forbiddenfruit\n",
            "  Building wheel for forbiddenfruit (setup.py) ... \u001b[?25l\u001b[?25hdone\n",
            "  Created wheel for forbiddenfruit: filename=forbiddenfruit-0.1.4-py3-none-any.whl size=21789 sha256=3a579f85716fc8c167b3a1573691e94376a586972312d6968277e62462df058d\n",
            "  Stored in directory: /root/.cache/pip/wheels/eb/1b/4e/1720775f695118457d0692cea72b8be2b8af2a7bae46611e93\n",
            "Successfully built forbiddenfruit\n",
            "Installing collected packages: forbiddenfruit, truststore, structlog, jsonschema-rs, blockbuster, watchfiles, sse-starlette, langgraph-cli, langgraph-runtime-inmem, langgraph-api\n",
            "  Attempting uninstall: sse-starlette\n",
            "    Found existing installation: sse-starlette 3.0.2\n",
            "    Uninstalling sse-starlette-3.0.2:\n",
            "      Successfully uninstalled sse-starlette-3.0.2\n",
            "Successfully installed blockbuster-1.5.25 forbiddenfruit-0.1.4 jsonschema-rs-0.29.1 langgraph-api-0.3.1 langgraph-cli-0.3.8 langgraph-runtime-inmem-0.8.1 sse-starlette-2.1.3 structlog-25.4.0 truststore-0.10.4 watchfiles-1.1.0\n"
          ]
        }
      ]
    },
    {
      "cell_type": "code",
      "source": [
        "!langgraph dev"
      ],
      "metadata": {
        "id": "gPB_G_MduhVs"
      },
      "id": "gPB_G_MduhVs",
      "execution_count": null,
      "outputs": []
    },
    {
      "cell_type": "markdown",
      "id": "12752016",
      "metadata": {
        "lines_to_next_cell": 0,
        "id": "12752016"
      },
      "source": [
        "Example e-mail you can test:"
      ]
    },
    {
      "cell_type": "code",
      "execution_count": null,
      "id": "08ee005a",
      "metadata": {
        "id": "08ee005a"
      },
      "outputs": [],
      "source": [
        "{\n",
        "  \"author\": \"Alice Smith <alice.smith@company.com>\",\n",
        "  \"to\": \"John Doe <john.doe@company.com>\",\n",
        "  \"subject\": \"Quick question about API documentation\",\n",
        "  \"email_thread\": \"Hi John,\\nI was reviewing the API documentation for the new authentication service and noticed a few endpoints seem to be missing from the specs. Could you help clarify if this was intentional or if we should update the docs?\\nSpecifically, I'm looking at:\\n- /auth/refresh\\n- /auth/validate\\nThanks!\\nAlice\"\n",
        "}"
      ]
    },
    {
      "cell_type": "markdown",
      "id": "d09e33b6",
      "metadata": {
        "id": "d09e33b6"
      },
      "source": [
        "![studio-img](img/studio.png)"
      ]
    },
    {
      "cell_type": "code",
      "execution_count": null,
      "id": "0d195e21-f2c5-4762-a4f0-c8d7459df6d5",
      "metadata": {
        "id": "0d195e21-f2c5-4762-a4f0-c8d7459df6d5"
      },
      "outputs": [],
      "source": []
    }
  ],
  "metadata": {
    "jupytext": {
      "cell_metadata_filter": "-all",
      "main_language": "python",
      "notebook_metadata_filter": "-all"
    },
    "kernelspec": {
      "display_name": ".venv",
      "language": "python",
      "name": "python3"
    },
    "language_info": {
      "codemirror_mode": {
        "name": "ipython",
        "version": 3
      },
      "file_extension": ".py",
      "mimetype": "text/x-python",
      "name": "python",
      "nbconvert_exporter": "python",
      "pygments_lexer": "ipython3",
      "version": "3.11.6"
    },
    "colab": {
      "provenance": []
    }
  },
  "nbformat": 4,
  "nbformat_minor": 5
}