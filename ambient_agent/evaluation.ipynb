{
  "cells": [
    {
      "cell_type": "markdown",
      "id": "68e21aa1",
      "metadata": {
        "id": "68e21aa1"
      },
      "source": [
        "# Evaluating Agents\n",
        "\n",
        "We have an email assistant that uses a router to triage emails and then passes the email to the agent for response generation. How can we be sure that it will work well in production? This is why testing is important: it guides our decisions about our agent architecture with quantifiable metrics like response quality, token usage, latency, or triage accuracy. [LangSmith](https://docs.smith.langchain.com/) offers two primary ways to test agents.\n",
        "\n",
        "![overview-img](img/overview_eval.png)"
      ]
    },
    {
      "cell_type": "code",
      "execution_count": 3,
      "id": "jnuJK9c-mJlQ",
      "metadata": {
        "id": "jnuJK9c-mJlQ"
      },
      "outputs": [],
      "source": [
        "!pip install --quiet python-dotenv"
      ]
    },
    {
      "cell_type": "code",
      "execution_count": 4,
      "id": "ZpNGP--onz9T",
      "metadata": {
        "colab": {
          "base_uri": "https://localhost:8080/",
          "height": 1000
        },
        "id": "ZpNGP--onz9T",
        "outputId": "e05180de-2440-467e-a476-f282c0db26bd"
      },
      "outputs": [
        {
          "name": "stdout",
          "output_type": "stream",
          "text": [
            "\u001b[2K     \u001b[90m━━━━━━━━━━━━━━━━━━━━━━━━━━━━━━━━━━━━━━━━\u001b[0m \u001b[32m43.7/43.7 kB\u001b[0m \u001b[31m2.1 MB/s\u001b[0m eta \u001b[36m0:00:00\u001b[0m\n",
            "\u001b[2K   \u001b[90m━━━━━━━━━━━━━━━━━━━━━━━━━━━━━━━━━━━━━━━━\u001b[0m \u001b[32m153.3/153.3 kB\u001b[0m \u001b[31m8.9 MB/s\u001b[0m eta \u001b[36m0:00:00\u001b[0m\n",
            "\u001b[2K   \u001b[90m━━━━━━━━━━━━━━━━━━━━━━━━━━━━━━━━━━━━━━━━\u001b[0m \u001b[32m43.9/43.9 kB\u001b[0m \u001b[31m2.0 MB/s\u001b[0m eta \u001b[36m0:00:00\u001b[0m\n",
            "\u001b[2K   \u001b[90m━━━━━━━━━━━━━━━━━━━━━━━━━━━━━━━━━━━━━━━━\u001b[0m \u001b[32m52.6/52.6 kB\u001b[0m \u001b[31m3.5 MB/s\u001b[0m eta \u001b[36m0:00:00\u001b[0m\n",
            "\u001b[2K   \u001b[90m━━━━━━━━━━━━━━━━━━━━━━━━━━━━━━━━━━━━━━━━\u001b[0m \u001b[32m216.7/216.7 kB\u001b[0m \u001b[31m8.1 MB/s\u001b[0m eta \u001b[36m0:00:00\u001b[0m\n",
            "\u001b[?25hRequirement already satisfied: langchain[google-genai] in /usr/local/lib/python3.12/dist-packages (0.3.27)\n",
            "Requirement already satisfied: langchain-core<1.0.0,>=0.3.72 in /usr/local/lib/python3.12/dist-packages (from langchain[google-genai]) (0.3.74)\n",
            "Requirement already satisfied: langchain-text-splitters<1.0.0,>=0.3.9 in /usr/local/lib/python3.12/dist-packages (from langchain[google-genai]) (0.3.9)\n",
            "Requirement already satisfied: langsmith>=0.1.17 in /usr/local/lib/python3.12/dist-packages (from langchain[google-genai]) (0.4.14)\n",
            "Requirement already satisfied: pydantic<3.0.0,>=2.7.4 in /usr/local/lib/python3.12/dist-packages (from langchain[google-genai]) (2.11.7)\n",
            "Requirement already satisfied: SQLAlchemy<3,>=1.4 in /usr/local/lib/python3.12/dist-packages (from langchain[google-genai]) (2.0.43)\n",
            "Requirement already satisfied: requests<3,>=2 in /usr/local/lib/python3.12/dist-packages (from langchain[google-genai]) (2.32.4)\n",
            "Requirement already satisfied: PyYAML>=5.3 in /usr/local/lib/python3.12/dist-packages (from langchain[google-genai]) (6.0.2)\n",
            "Collecting langchain-google-genai (from langchain[google-genai])\n",
            "  Downloading langchain_google_genai-2.1.9-py3-none-any.whl.metadata (7.2 kB)\n",
            "Requirement already satisfied: tenacity!=8.4.0,<10.0.0,>=8.1.0 in /usr/local/lib/python3.12/dist-packages (from langchain-core<1.0.0,>=0.3.72->langchain[google-genai]) (8.5.0)\n",
            "Requirement already satisfied: jsonpatch<2.0,>=1.33 in /usr/local/lib/python3.12/dist-packages (from langchain-core<1.0.0,>=0.3.72->langchain[google-genai]) (1.33)\n",
            "Requirement already satisfied: typing-extensions>=4.7 in /usr/local/lib/python3.12/dist-packages (from langchain-core<1.0.0,>=0.3.72->langchain[google-genai]) (4.14.1)\n",
            "Requirement already satisfied: packaging>=23.2 in /usr/local/lib/python3.12/dist-packages (from langchain-core<1.0.0,>=0.3.72->langchain[google-genai]) (25.0)\n",
            "Requirement already satisfied: httpx<1,>=0.23.0 in /usr/local/lib/python3.12/dist-packages (from langsmith>=0.1.17->langchain[google-genai]) (0.28.1)\n",
            "Requirement already satisfied: orjson>=3.9.14 in /usr/local/lib/python3.12/dist-packages (from langsmith>=0.1.17->langchain[google-genai]) (3.11.2)\n",
            "Requirement already satisfied: requests-toolbelt>=1.0.0 in /usr/local/lib/python3.12/dist-packages (from langsmith>=0.1.17->langchain[google-genai]) (1.0.0)\n",
            "Requirement already satisfied: zstandard>=0.23.0 in /usr/local/lib/python3.12/dist-packages (from langsmith>=0.1.17->langchain[google-genai]) (0.24.0)\n",
            "Requirement already satisfied: annotated-types>=0.6.0 in /usr/local/lib/python3.12/dist-packages (from pydantic<3.0.0,>=2.7.4->langchain[google-genai]) (0.7.0)\n",
            "Requirement already satisfied: pydantic-core==2.33.2 in /usr/local/lib/python3.12/dist-packages (from pydantic<3.0.0,>=2.7.4->langchain[google-genai]) (2.33.2)\n",
            "Requirement already satisfied: typing-inspection>=0.4.0 in /usr/local/lib/python3.12/dist-packages (from pydantic<3.0.0,>=2.7.4->langchain[google-genai]) (0.4.1)\n",
            "Requirement already satisfied: charset_normalizer<4,>=2 in /usr/local/lib/python3.12/dist-packages (from requests<3,>=2->langchain[google-genai]) (3.4.3)\n",
            "Requirement already satisfied: idna<4,>=2.5 in /usr/local/lib/python3.12/dist-packages (from requests<3,>=2->langchain[google-genai]) (3.10)\n",
            "Requirement already satisfied: urllib3<3,>=1.21.1 in /usr/local/lib/python3.12/dist-packages (from requests<3,>=2->langchain[google-genai]) (2.5.0)\n",
            "Requirement already satisfied: certifi>=2017.4.17 in /usr/local/lib/python3.12/dist-packages (from requests<3,>=2->langchain[google-genai]) (2025.8.3)\n",
            "Requirement already satisfied: greenlet>=1 in /usr/local/lib/python3.12/dist-packages (from SQLAlchemy<3,>=1.4->langchain[google-genai]) (3.2.4)\n",
            "Collecting filetype<2.0.0,>=1.2.0 (from langchain-google-genai->langchain[google-genai])\n",
            "  Downloading filetype-1.2.0-py2.py3-none-any.whl.metadata (6.5 kB)\n",
            "Collecting google-ai-generativelanguage<0.7.0,>=0.6.18 (from langchain-google-genai->langchain[google-genai])\n",
            "  Downloading google_ai_generativelanguage-0.6.18-py3-none-any.whl.metadata (9.8 kB)\n",
            "Requirement already satisfied: google-api-core!=2.0.*,!=2.1.*,!=2.10.*,!=2.2.*,!=2.3.*,!=2.4.*,!=2.5.*,!=2.6.*,!=2.7.*,!=2.8.*,!=2.9.*,<3.0.0,>=1.34.1 in /usr/local/lib/python3.12/dist-packages (from google-api-core[grpc]!=2.0.*,!=2.1.*,!=2.10.*,!=2.2.*,!=2.3.*,!=2.4.*,!=2.5.*,!=2.6.*,!=2.7.*,!=2.8.*,!=2.9.*,<3.0.0,>=1.34.1->google-ai-generativelanguage<0.7.0,>=0.6.18->langchain-google-genai->langchain[google-genai]) (2.25.1)\n",
            "Requirement already satisfied: google-auth!=2.24.0,!=2.25.0,<3.0.0,>=2.14.1 in /usr/local/lib/python3.12/dist-packages (from google-ai-generativelanguage<0.7.0,>=0.6.18->langchain-google-genai->langchain[google-genai]) (2.38.0)\n",
            "Requirement already satisfied: proto-plus<2.0.0,>=1.22.3 in /usr/local/lib/python3.12/dist-packages (from google-ai-generativelanguage<0.7.0,>=0.6.18->langchain-google-genai->langchain[google-genai]) (1.26.1)\n",
            "Requirement already satisfied: protobuf!=4.21.0,!=4.21.1,!=4.21.2,!=4.21.3,!=4.21.4,!=4.21.5,<7.0.0,>=3.20.2 in /usr/local/lib/python3.12/dist-packages (from google-ai-generativelanguage<0.7.0,>=0.6.18->langchain-google-genai->langchain[google-genai]) (5.29.5)\n",
            "Requirement already satisfied: anyio in /usr/local/lib/python3.12/dist-packages (from httpx<1,>=0.23.0->langsmith>=0.1.17->langchain[google-genai]) (4.10.0)\n",
            "Requirement already satisfied: httpcore==1.* in /usr/local/lib/python3.12/dist-packages (from httpx<1,>=0.23.0->langsmith>=0.1.17->langchain[google-genai]) (1.0.9)\n",
            "Requirement already satisfied: h11>=0.16 in /usr/local/lib/python3.12/dist-packages (from httpcore==1.*->httpx<1,>=0.23.0->langsmith>=0.1.17->langchain[google-genai]) (0.16.0)\n",
            "Requirement already satisfied: jsonpointer>=1.9 in /usr/local/lib/python3.12/dist-packages (from jsonpatch<2.0,>=1.33->langchain-core<1.0.0,>=0.3.72->langchain[google-genai]) (3.0.0)\n",
            "Requirement already satisfied: googleapis-common-protos<2.0.0,>=1.56.2 in /usr/local/lib/python3.12/dist-packages (from google-api-core!=2.0.*,!=2.1.*,!=2.10.*,!=2.2.*,!=2.3.*,!=2.4.*,!=2.5.*,!=2.6.*,!=2.7.*,!=2.8.*,!=2.9.*,<3.0.0,>=1.34.1->google-api-core[grpc]!=2.0.*,!=2.1.*,!=2.10.*,!=2.2.*,!=2.3.*,!=2.4.*,!=2.5.*,!=2.6.*,!=2.7.*,!=2.8.*,!=2.9.*,<3.0.0,>=1.34.1->google-ai-generativelanguage<0.7.0,>=0.6.18->langchain-google-genai->langchain[google-genai]) (1.70.0)\n",
            "Requirement already satisfied: grpcio<2.0.0,>=1.33.2 in /usr/local/lib/python3.12/dist-packages (from google-api-core[grpc]!=2.0.*,!=2.1.*,!=2.10.*,!=2.2.*,!=2.3.*,!=2.4.*,!=2.5.*,!=2.6.*,!=2.7.*,!=2.8.*,!=2.9.*,<3.0.0,>=1.34.1->google-ai-generativelanguage<0.7.0,>=0.6.18->langchain-google-genai->langchain[google-genai]) (1.74.0)\n",
            "Requirement already satisfied: grpcio-status<2.0.0,>=1.33.2 in /usr/local/lib/python3.12/dist-packages (from google-api-core[grpc]!=2.0.*,!=2.1.*,!=2.10.*,!=2.2.*,!=2.3.*,!=2.4.*,!=2.5.*,!=2.6.*,!=2.7.*,!=2.8.*,!=2.9.*,<3.0.0,>=1.34.1->google-ai-generativelanguage<0.7.0,>=0.6.18->langchain-google-genai->langchain[google-genai]) (1.71.2)\n",
            "Requirement already satisfied: cachetools<6.0,>=2.0.0 in /usr/local/lib/python3.12/dist-packages (from google-auth!=2.24.0,!=2.25.0,<3.0.0,>=2.14.1->google-ai-generativelanguage<0.7.0,>=0.6.18->langchain-google-genai->langchain[google-genai]) (5.5.2)\n",
            "Requirement already satisfied: pyasn1-modules>=0.2.1 in /usr/local/lib/python3.12/dist-packages (from google-auth!=2.24.0,!=2.25.0,<3.0.0,>=2.14.1->google-ai-generativelanguage<0.7.0,>=0.6.18->langchain-google-genai->langchain[google-genai]) (0.4.2)\n",
            "Requirement already satisfied: rsa<5,>=3.1.4 in /usr/local/lib/python3.12/dist-packages (from google-auth!=2.24.0,!=2.25.0,<3.0.0,>=2.14.1->google-ai-generativelanguage<0.7.0,>=0.6.18->langchain-google-genai->langchain[google-genai]) (4.9.1)\n",
            "Requirement already satisfied: sniffio>=1.1 in /usr/local/lib/python3.12/dist-packages (from anyio->httpx<1,>=0.23.0->langsmith>=0.1.17->langchain[google-genai]) (1.3.1)\n",
            "Requirement already satisfied: pyasn1<0.7.0,>=0.6.1 in /usr/local/lib/python3.12/dist-packages (from pyasn1-modules>=0.2.1->google-auth!=2.24.0,!=2.25.0,<3.0.0,>=2.14.1->google-ai-generativelanguage<0.7.0,>=0.6.18->langchain-google-genai->langchain[google-genai]) (0.6.1)\n",
            "Downloading langchain_google_genai-2.1.9-py3-none-any.whl (49 kB)\n",
            "\u001b[2K   \u001b[90m━━━━━━━━━━━━━━━━━━━━━━━━━━━━━━━━━━━━━━━━\u001b[0m \u001b[32m49.4/49.4 kB\u001b[0m \u001b[31m2.6 MB/s\u001b[0m eta \u001b[36m0:00:00\u001b[0m\n",
            "\u001b[?25hDownloading filetype-1.2.0-py2.py3-none-any.whl (19 kB)\n",
            "Downloading google_ai_generativelanguage-0.6.18-py3-none-any.whl (1.4 MB)\n",
            "\u001b[2K   \u001b[90m━━━━━━━━━━━━━━━━━━━━━━━━━━━━━━━━━━━━━━━━\u001b[0m \u001b[32m1.4/1.4 MB\u001b[0m \u001b[31m26.2 MB/s\u001b[0m eta \u001b[36m0:00:00\u001b[0m\n",
            "\u001b[?25hInstalling collected packages: filetype, google-ai-generativelanguage, langchain-google-genai\n",
            "  Attempting uninstall: google-ai-generativelanguage\n",
            "    Found existing installation: google-ai-generativelanguage 0.6.15\n",
            "    Uninstalling google-ai-generativelanguage-0.6.15:\n",
            "      Successfully uninstalled google-ai-generativelanguage-0.6.15\n",
            "\u001b[31mERROR: pip's dependency resolver does not currently take into account all the packages that are installed. This behaviour is the source of the following dependency conflicts.\n",
            "google-generativeai 0.8.5 requires google-ai-generativelanguage==0.6.15, but you have google-ai-generativelanguage 0.6.18 which is incompatible.\u001b[0m\u001b[31m\n",
            "\u001b[0mSuccessfully installed filetype-1.2.0 google-ai-generativelanguage-0.6.18 langchain-google-genai-2.1.9\n"
          ]
        },
        {
          "data": {
            "application/vnd.colab-display-data+json": {
              "id": "b905920665704c179e45d02cd7c3687c",
              "pip_warning": {
                "packages": [
                  "google"
                ]
              }
            }
          },
          "metadata": {},
          "output_type": "display_data"
        }
      ],
      "source": [
        "!pip install --quiet langgraph\n",
        "!pip install -U \"langchain[google-genai]\""
      ]
    },
    {
      "cell_type": "markdown",
      "id": "4d7f7048",
      "metadata": {
        "id": "4d7f7048"
      },
      "source": [
        "#### Load Environment Variables"
      ]
    },
    {
      "cell_type": "code",
      "execution_count": 5,
      "id": "c47d4c3d",
      "metadata": {
        "colab": {
          "base_uri": "https://localhost:8080/"
        },
        "id": "c47d4c3d",
        "outputId": "012e8061-a6e2-4ee5-f96d-91ba8d594487"
      },
      "outputs": [
        {
          "data": {
            "text/plain": [
              "True"
            ]
          },
          "execution_count": 5,
          "metadata": {},
          "output_type": "execute_result"
        }
      ],
      "source": [
        "from dotenv import load_dotenv\n",
        "load_dotenv(\"../.env\")"
      ]
    },
    {
      "cell_type": "markdown",
      "id": "2005c34d",
      "metadata": {
        "id": "2005c34d"
      },
      "source": [
        "## How to run Evaluations\n",
        "\n",
        "#### Pytest / Vitest\n",
        "\n",
        "[Pytest](https://docs.pytest.org/en/stable/) and Vitest are well known to many developers as a powerful tools for writing tests within the Python and JavaScript ecosystems. LangSmith integrates with these frameworks to allow you to write and run tests that log results to LangSmith. For this notebook, we'll use Pytest.\n",
        "* Pytest is a great way to get started for developers who are already familiar with their framework.\n",
        "* Pytest is great for more complex evaluations, where each agent test case requires specific checks and success criteria that are harder to generalize.\n",
        "\n",
        "#### LangSmith Datasets\n",
        "\n",
        "You can also create a dataset [in LangSmith](https://docs.smith.langchain.com/evaluation) and run our assistant against the dataset using the LangSmith evaluate API.\n",
        "* LangSmith datasets are great for teams who are collaboratively building out their test suite.\n",
        "* You can leverage production traces, annotation queues, synthetic data generation, and more, to add examples to an ever-growing golden dataset.\n",
        "* LangSmith datasets are great when you can define evaluators that can be applied to every test case in the dataset (ex. similarity, exact match accuracy, etc.)"
      ]
    },
    {
      "cell_type": "markdown",
      "id": "10b7c989",
      "metadata": {
        "id": "10b7c989"
      },
      "source": [
        "## Test Cases\n",
        "\n",
        "Testing often starts with defining the test cases, which can be a challenging process. In this case, we'll just define a set of example emails we want to handle along with a few things to test. You can see the test cases in `eval/email_dataset.py`, which contains the following:\n",
        "\n",
        "1. **Input Emails**: A collection of diverse email examples\n",
        "2. **Ground Truth Classifications**: `Respond`, `Notify`, `Ignore`\n",
        "3. **Expected Tool Calls**: Tools called for each email that requires a response\n",
        "4. **Response Criteria**: What makes a good response for emails requiring replies\n",
        "\n",
        "Note that we have both\n",
        "- End to end \"integration\" tests (e.g. Input Emails -> Agent -> Final Output vs Response Criteria)\n",
        "- Tests for specific steps in our workflow (e.g. Input Emails -> Agent -> Classification vs Ground Truth Classification)\n"
      ]
    },
    {
      "cell_type": "code",
      "execution_count": 6,
      "id": "f8fdc2b8",
      "metadata": {
        "colab": {
          "base_uri": "https://localhost:8080/"
        },
        "id": "f8fdc2b8",
        "outputId": "6beef6b3-fe8a-4b23-a1cb-e5a50e94450b"
      },
      "outputs": [
        {
          "name": "stdout",
          "output_type": "stream",
          "text": [
            "Email Input: {'author': 'Alice Smith <alice.smith@company.com>', 'to': 'Lance Martin <lance@company.com>', 'subject': 'Quick question about API documentation', 'email_thread': \"Hi Lance,\\n\\nI was reviewing the API documentation for the new authentication service and noticed a few endpoints seem to be missing from the specs. Could you help clarify if this was intentional or if we should update the docs?\\n\\nSpecifically, I'm looking at:\\n- /auth/refresh\\n- /auth/validate\\n\\nThanks!\\nAlice\"}\n",
            "Expected Triage Output: respond\n",
            "Expected Tool Calls: ['write_email', 'done']\n",
            "Response Criteria: \n",
            "• Send email with write_email tool call to acknowledge the question and confirm it will be investigated  \n",
            "\n"
          ]
        }
      ],
      "source": [
        "\n",
        "#%load_ext autoreload\n",
        "#%autoreload 2\n",
        "\n",
        "from email_assistant.eval.email_dataset import email_inputs, expected_tool_calls, triage_outputs_list, response_criteria_list\n",
        "\n",
        "test_case_ix = 0\n",
        "\n",
        "print(\"Email Input:\", email_inputs[test_case_ix])\n",
        "print(\"Expected Triage Output:\", triage_outputs_list[test_case_ix])\n",
        "print(\"Expected Tool Calls:\", expected_tool_calls[test_case_ix])\n",
        "print(\"Response Criteria:\", response_criteria_list[test_case_ix])"
      ]
    },
    {
      "cell_type": "markdown",
      "id": "2337bd7c",
      "metadata": {
        "id": "2337bd7c"
      },
      "source": [
        "## Pytest Example\n",
        "\n",
        "Let's take a look at how we can write a test for a specific part of our workflow with Pytest. We will test whether our `email_assistant` makes the right tool calls when responding to the emails."
      ]
    },
    {
      "cell_type": "code",
      "execution_count": 8,
      "id": "V91VgbRz4fiM",
      "metadata": {
        "colab": {
          "base_uri": "https://localhost:8080/"
        },
        "id": "V91VgbRz4fiM",
        "outputId": "4a721554-7716-4f32-e896-d3fd5e4423c1"
      },
      "outputs": [
        {
          "name": "stdout",
          "output_type": "stream",
          "text": [
            "Collecting html2text\n",
            "  Downloading html2text-2025.4.15-py3-none-any.whl.metadata (4.1 kB)\n",
            "Downloading html2text-2025.4.15-py3-none-any.whl (34 kB)\n",
            "Installing collected packages: html2text\n",
            "Successfully installed html2text-2025.4.15\n"
          ]
        }
      ],
      "source": [
        "!pip install html2text"
      ]
    },
    {
      "cell_type": "code",
      "execution_count": 10,
      "id": "ae92fe30",
      "metadata": {
        "id": "ae92fe30"
      },
      "outputs": [],
      "source": [
        "import pytest\n",
        "from email_assistant.eval.email_dataset import email_inputs, expected_tool_calls\n",
        "from email_assistant.utils import format_messages_string\n",
        "from email_assistant.email_assistant import email_assistant\n",
        "from email_assistant.utils import extract_tool_calls\n",
        "\n",
        "from langsmith import testing as t\n",
        "\n",
        "@pytest.mark.langsmith\n",
        "@pytest.mark.parametrize(\n",
        "    \"email_input, expected_calls\",\n",
        "    [   # Pick some examples with e-mail reply expected\n",
        "        (email_inputs[0],expected_tool_calls[0]),\n",
        "        (email_inputs[3],expected_tool_calls[3]),\n",
        "    ],\n",
        ")\n",
        "def test_email_dataset_tool_calls(email_input, expected_calls):\n",
        "    \"\"\"Test if email processing contains expected tool calls.\n",
        "\n",
        "    This test confirms that all expected tools are called during email processing,\n",
        "    but does not check the order of tool invocations or the number of invocations\n",
        "    per tool. Additional checks for these aspects could be added if desired.\n",
        "    \"\"\"\n",
        "    # Run the email assistant\n",
        "    messages = [{\"role\": \"user\", \"content\": str(email_input)}]\n",
        "    result = email_assistant.invoke({\"messages\": messages})\n",
        "\n",
        "    # Extract tool calls from messages list\n",
        "    extracted_tool_calls = extract_tool_calls(result['messages'])\n",
        "\n",
        "    # Check if all expected tool calls are in the extracted ones\n",
        "    missing_calls = [call for call in expected_calls if call.lower() not in extracted_tool_calls]\n",
        "\n",
        "    t.log_outputs({\n",
        "                \"missing_calls\": missing_calls,\n",
        "                \"extracted_tool_calls\": extracted_tool_calls,\n",
        "                \"response\": format_messages_string(result['messages'])\n",
        "            })\n",
        "\n",
        "    # Test passes if no expected calls are missing\n",
        "    assert len(missing_calls) == 0"
      ]
    },
    {
      "cell_type": "markdown",
      "id": "700aba2a",
      "metadata": {
        "id": "700aba2a"
      },
      "source": [
        "You'll notice a few things.\n",
        "- To [run with Pytest and log test results to LangSmith](https://docs.smith.langchain.com/evaluation/how_to_guides/pytest), we only need to add the `@pytest.mark.langsmith ` decorator to our function and place it in a file, as you see in `notebooks/test_tools.py`. This will log the test results to LangSmith.\n",
        "- Second, we can pass dataset examples to the test function as shown [here](https://docs.smith.langchain.com/evaluation/how_to_guides/pytest#parametrize-with-pytestmarkparametrize) via `@pytest.mark.parametrize`.\n",
        "\n",
        "#### Running Pytest\n",
        "We can run the test from the command line. We've defined the above code in a python file. From the project root, run:\n",
        "\n",
        "`! LANGSMITH_TEST_SUITE='Email assistant: Test Tools For Interrupt'  pytest notebooks/test_tools.py`"
      ]
    },
    {
      "cell_type": "markdown",
      "id": "53165e98",
      "metadata": {
        "id": "53165e98"
      },
      "source": [
        "#### Viewing Experiment Result\n",
        "\n",
        "We can view the results in the LangSmith UI. The `assert len(missing_calls) == 0` is logged to the `Pass` column in LangSmith. The `log_outputs` are passed to the `Outputs` column and function arguments are passed to the `Inputs` column. Each input passed in `@pytest.mark.parametrize(` is a separate row logged to the `LANGSMITH_TEST_SUITE` project name in LangSmith, which is found under `Datasets & Experiments`.\n",
        "\n",
        "![Test Results](img/test_result.png)"
      ]
    },
    {
      "cell_type": "markdown",
      "id": "fd325e27",
      "metadata": {
        "id": "fd325e27"
      },
      "source": [
        "## LangSmith Datasets Example\n",
        "\n",
        "![overview-img](img/eval_detail.png)\n",
        "\n",
        "Let's take a look at how we can run evaluations with LangSmith datasets. In the previous example with Pytest, we evaluated the tool calling accuracy of the email assistant. Now, the dataset that we're going to evaluate here is specifically for the triage step of the email assistant, in classifying whether an email requires a response.\n",
        "\n",
        "#### Dataset Definition\n",
        "\n",
        "We can [create a dataset in LangSmith](https://docs.smith.langchain.com/evaluation/how_to_guides/manage_datasets_programmatically#create-a-dataset) with the LangSmith SDK. The below code creates a dataset with the test cases in the `eval/email_dataset.py` file."
      ]
    },
    {
      "cell_type": "code",
      "execution_count": 11,
      "id": "7ea997ac",
      "metadata": {
        "id": "7ea997ac"
      },
      "outputs": [],
      "source": [
        "from langsmith import Client\n",
        "\n",
        "from email_assistant.eval.email_dataset import examples_triage\n",
        "\n",
        "# Initialize LangSmith client\n",
        "client = Client()\n",
        "\n",
        "# Dataset name\n",
        "dataset_name = \"E-mail Triage Evaluation\"\n",
        "\n",
        "# Create dataset if it doesn't exist\n",
        "if not client.has_dataset(dataset_name=dataset_name):\n",
        "    dataset = client.create_dataset(\n",
        "        dataset_name=dataset_name,\n",
        "        description=\"A dataset of e-mails and their triage decisions.\"\n",
        "    )\n",
        "    # Add examples to the dataset\n",
        "    client.create_examples(dataset_id=dataset.id, examples=examples_triage)"
      ]
    },
    {
      "cell_type": "markdown",
      "id": "0b2df606",
      "metadata": {
        "id": "0b2df606"
      },
      "source": [
        "#### Target Function\n",
        "\n",
        "The dataset has the following structure, with an e-mail input and a ground truth triage classification for the e-mail as output:\n",
        "\n",
        "```\n",
        "examples_triage = [\n",
        "  {\n",
        "      \"inputs\": {\"email_input\": email_input_1},\n",
        "      \"outputs\": {\"classification\": triage_output_1},   # NOTE: This becomes the reference_output in the created dataset\n",
        "  }, ...\n",
        "]\n",
        "```"
      ]
    },
    {
      "cell_type": "code",
      "execution_count": null,
      "id": "f7d7e83f-3006-4386-9230-786545c7b1a1",
      "metadata": {
        "id": "f7d7e83f-3006-4386-9230-786545c7b1a1"
      },
      "outputs": [],
      "source": [
        "print(\"Dataset Example Input (inputs):\", examples_triage[0]['inputs'])"
      ]
    },
    {
      "cell_type": "code",
      "execution_count": null,
      "id": "f292f070-7af6-4370-9338-e90bfd6b3d42",
      "metadata": {
        "id": "f292f070-7af6-4370-9338-e90bfd6b3d42"
      },
      "outputs": [],
      "source": [
        "print(\"Dataset Example Reference Output (reference_outputs):\", examples_triage[0]['outputs'])"
      ]
    },
    {
      "cell_type": "markdown",
      "id": "8290e820",
      "metadata": {
        "id": "8290e820"
      },
      "source": [
        "We define a function that takes the dataset inputs and passes them to our email assistant. The LangSmith [evaluate API](https://docs.smith.langchain.com/evaluation) passes the `inputs` dict to this function. This function then returns a dict with the agent's output. Because we are evaluating the triage step, we only need to return the classification decision."
      ]
    },
    {
      "cell_type": "code",
      "execution_count": 12,
      "id": "0b9d1ded",
      "metadata": {
        "id": "0b9d1ded"
      },
      "outputs": [],
      "source": [
        "def target_email_assistant(inputs: dict) -> dict:\n",
        "    \"\"\"Process an email through the workflow-based email assistant.\"\"\"\n",
        "    response = email_assistant.nodes['triage_router'].invoke({\"email_input\": inputs[\"email_input\"]})\n",
        "    return {\"classification_decision\": response.update['classification_decision']}"
      ]
    },
    {
      "cell_type": "markdown",
      "id": "5ba6ec4c",
      "metadata": {
        "id": "5ba6ec4c"
      },
      "source": [
        "#### Evaluator Function\n",
        "\n",
        "Now, we create an evaluator function. What do we want to evaluate? We have reference outputs in our dataset and agent outputs defined in the functions above.\n",
        "\n",
        "* Reference outputs: `\"reference_outputs\": {\"classification\": triage_output_1} ...`\n",
        "* Agent outputs: `\"outputs\": {\"classification_decision\": agent_output_1} ...`\n",
        "\n",
        "We want to evaluate if the agent's output matches the reference output. So we simply need a an evaluator function that compares the two, where `outputs` is the agent's output and `reference_outputs` is the reference output from the dataset."
      ]
    },
    {
      "cell_type": "code",
      "execution_count": 13,
      "id": "4fee7532",
      "metadata": {
        "id": "4fee7532"
      },
      "outputs": [],
      "source": [
        "def classification_evaluator(outputs: dict, reference_outputs: dict) -> bool:\n",
        "    \"\"\"Check if the answer exactly matches the expected answer.\"\"\"\n",
        "    return outputs[\"classification_decision\"].lower() == reference_outputs[\"classification\"].lower()"
      ]
    },
    {
      "cell_type": "markdown",
      "id": "50fd2de9",
      "metadata": {
        "id": "50fd2de9"
      },
      "source": [
        "### Running Evaluation\n",
        "\n",
        "Now, the question is: how are these things hooked together? The evaluate API takes care of it for us. It passes the `inputs` dict from our dataset the target function. It passes the `reference_outputs` dict from our dataset to the evaluator function. And it passes the `outputs` of our agent to the evaluator function.\n",
        "\n",
        "Note this is similar to what we did with Pytest: in Pytest, we passed in the dataset example inputs and reference outputs to the test function with `@pytest.mark.parametrize`."
      ]
    },
    {
      "cell_type": "code",
      "execution_count": 14,
      "id": "6807306d",
      "metadata": {
        "colab": {
          "base_uri": "https://localhost:8080/",
          "height": 416,
          "referenced_widgets": [
            "49936584f6ac4e448ad631b6755e34c6",
            "d1b98ecdc6c3447eaadc7b9b6936c05d",
            "3030899a303e453b9158e417bd44bd09",
            "66465afe8add40c2bb88b57fe328145a",
            "3155b9b03f094122a842257ebaf64256",
            "53951d749c6e4091825ef1ea23089373",
            "5ad31145c7e94eaba4e2201c8f0413d2",
            "9acb048b2816443399388eb3463cb918",
            "07e52f38d54740c3ab2c10ac834a9b77",
            "f7079fbc0cbe4d4dad6a2fe37e99a936",
            "312dbdff72a04deaa935b2589e3c1b74"
          ]
        },
        "id": "6807306d",
        "outputId": "ed74f44c-a0a9-40dc-b7f6-cc966c607b84"
      },
      "outputs": [
        {
          "name": "stdout",
          "output_type": "stream",
          "text": [
            "View the evaluation results for experiment: 'E-mail assistant workflow-79a64437' at:\n",
            "https://smith.langchain.com/o/10172e86-d29b-46ce-8113-9bee95385ee1/datasets/751e0895-1d03-49da-9742-11d1c88c7b47/compare?selectedSessions=755562a3-f04f-44f3-943d-b91c0a258e7e\n",
            "\n",
            "\n"
          ]
        },
        {
          "data": {
            "application/vnd.jupyter.widget-view+json": {
              "model_id": "49936584f6ac4e448ad631b6755e34c6",
              "version_major": 2,
              "version_minor": 0
            },
            "text/plain": [
              "0it [00:00, ?it/s]"
            ]
          },
          "metadata": {},
          "output_type": "display_data"
        },
        {
          "name": "stdout",
          "output_type": "stream",
          "text": [
            "📧 Classification: RESPOND - This email requires a response\n",
            "🚫 Classification: IGNORE - This email can be safely ignored\n",
            "🔔 Classification: NOTIFY - This email contains important information\n",
            "📧 Classification: RESPOND - This email requires a response\n",
            "🔔 Classification: NOTIFY - This email contains important information\n",
            "📧 Classification: RESPOND - This email requires a response\n",
            "🚫 Classification: IGNORE - This email can be safely ignored\n",
            "📧 Classification: RESPOND - This email requires a response\n",
            "📧 Classification: RESPOND - This email requires a response\n",
            "🔔 Classification: NOTIFY - This email contains important information\n",
            "🚫 Classification: IGNORE - This email can be safely ignored\n",
            "🔔 Classification: NOTIFY - This email contains important information\n",
            "📧 Classification: RESPOND - This email requires a response\n",
            "📧 Classification: RESPOND - This email requires a response\n",
            "🚫 Classification: IGNORE - This email can be safely ignored\n",
            "🔔 Classification: NOTIFY - This email contains important information\n"
          ]
        }
      ],
      "source": [
        "# Set to true if you want to kick off evaluation\n",
        "run_expt = True\n",
        "if run_expt:\n",
        "    experiment_results_workflow = client.evaluate(\n",
        "        # Run agent\n",
        "        target_email_assistant,\n",
        "        # Dataset name\n",
        "        data=dataset_name,\n",
        "        # Evaluator\n",
        "        evaluators=[classification_evaluator],\n",
        "        # Name of the experiment\n",
        "        experiment_prefix=\"E-mail assistant workflow\",\n",
        "        # Number of concurrent evaluations\n",
        "        max_concurrency=2,\n",
        "    )"
      ]
    },
    {
      "cell_type": "markdown",
      "id": "76baff88",
      "metadata": {
        "id": "76baff88"
      },
      "source": [
        "We can view the results from both experiments in the LangSmith UI.\n",
        "\n",
        "![Test Results](img/eval.png)"
      ]
    },
    {
      "cell_type": "markdown",
      "id": "c5146b52",
      "metadata": {
        "id": "c5146b52"
      },
      "source": [
        "## LLM-as-Judge Evaluation\n",
        "\n",
        "We've shown unit tests for the triage step (using evaluate()) and tool calling (using Pytest).\n",
        "\n",
        "We'll showcase how you could use an LLM as a judge to evaluate our agent's execution against a set of success criteria.\n",
        "\n",
        "![types](img/eval_types.png)\n",
        "\n",
        "First, we define a structured output schema for our LLM grader that contains a grade and justification for the grade."
      ]
    },
    {
      "cell_type": "code",
      "execution_count": 16,
      "id": "e1d342b8",
      "metadata": {
        "id": "e1d342b8"
      },
      "outputs": [],
      "source": [
        "from pydantic import BaseModel, Field\n",
        "from langchain.chat_models import init_chat_model\n",
        "\n",
        "class CriteriaGrade(BaseModel):\n",
        "    \"\"\"Score the response against specific criteria.\"\"\"\n",
        "    justification: str = Field(description=\"The justification for the grade and score, including specific examples from the response.\")\n",
        "    grade: bool = Field(description=\"Does the response meet the provided criteria?\")\n",
        "\n",
        "# Create a global LLM for evaluation to avoid recreating it for each test\n",
        "#criteria_eval_llm = init_chat_model(\"openai:gpt-4o\")\n",
        "criteria_eval_llm = init_chat_model(\"google_genai:gemini-2.0-flash\")\n",
        "\n",
        "criteria_eval_structured_llm = criteria_eval_llm.with_structured_output(CriteriaGrade)"
      ]
    },
    {
      "cell_type": "code",
      "execution_count": 17,
      "id": "bec02b18",
      "metadata": {
        "colab": {
          "base_uri": "https://localhost:8080/"
        },
        "id": "bec02b18",
        "outputId": "dc40442a-f296-429b-872e-9e4ebd942e65"
      },
      "outputs": [
        {
          "name": "stdout",
          "output_type": "stream",
          "text": [
            "Email Input: {'author': 'Alice Smith <alice.smith@company.com>', 'to': 'Lance Martin <lance@company.com>', 'subject': 'Quick question about API documentation', 'email_thread': \"Hi Lance,\\n\\nI was reviewing the API documentation for the new authentication service and noticed a few endpoints seem to be missing from the specs. Could you help clarify if this was intentional or if we should update the docs?\\n\\nSpecifically, I'm looking at:\\n- /auth/refresh\\n- /auth/validate\\n\\nThanks!\\nAlice\"}\n",
            "Success Criteria: \n",
            "• Send email with write_email tool call to acknowledge the question and confirm it will be investigated  \n",
            "\n"
          ]
        }
      ],
      "source": [
        "email_input = email_inputs[0]\n",
        "print(\"Email Input:\", email_input)\n",
        "success_criteria = response_criteria_list[0]\n",
        "print(\"Success Criteria:\", success_criteria)"
      ]
    },
    {
      "cell_type": "markdown",
      "id": "38390ccd",
      "metadata": {
        "id": "38390ccd"
      },
      "source": [
        "Our Email Assistant is invoked with the email input and the response is formatted into a string. These are all then passed to the LLM grader to receive a grade and justification for the grade."
      ]
    },
    {
      "cell_type": "code",
      "execution_count": 18,
      "id": "cbff28fc",
      "metadata": {
        "colab": {
          "base_uri": "https://localhost:8080/"
        },
        "id": "cbff28fc",
        "outputId": "30b002a1-5760-4787-c152-3cdf76ecbfbf"
      },
      "outputs": [
        {
          "name": "stdout",
          "output_type": "stream",
          "text": [
            "📧 Classification: RESPOND - This email requires a response\n"
          ]
        }
      ],
      "source": [
        "response = email_assistant.invoke({\"email_input\": email_input})"
      ]
    },
    {
      "cell_type": "code",
      "execution_count": 19,
      "id": "d64619fb",
      "metadata": {
        "colab": {
          "base_uri": "https://localhost:8080/"
        },
        "id": "d64619fb",
        "outputId": "096e50dc-0a4e-4870-acc2-b370f15f2af8"
      },
      "outputs": [
        {
          "data": {
            "text/plain": [
              "CriteriaGrade(justification=\"The assistant used the write_email tool to respond to Alice's email. The email acknowledges Alice's question about the missing endpoints in the API documentation and confirms that Lance will investigate and provide an update. The email includes a closing and Lance's name, making it a complete and professional response.\", grade=True)"
            ]
          },
          "execution_count": 19,
          "metadata": {},
          "output_type": "execute_result"
        }
      ],
      "source": [
        "from email_assistant.eval.prompts import RESPONSE_CRITERIA_SYSTEM_PROMPT\n",
        "\n",
        "all_messages_str = format_messages_string(response['messages'])\n",
        "eval_result = criteria_eval_structured_llm.invoke([\n",
        "        {\"role\": \"system\",\n",
        "            \"content\": RESPONSE_CRITERIA_SYSTEM_PROMPT},\n",
        "        {\"role\": \"user\",\n",
        "            \"content\": f\"\"\"\\n\\n Response criteria: {success_criteria} \\n\\n Assistant's response: \\n\\n {all_messages_str} \\n\\n Evaluate whether the assistant's response meets the criteria and provide justification for your evaluation.\"\"\"}\n",
        "    ])\n",
        "\n",
        "eval_result"
      ]
    },
    {
      "cell_type": "code",
      "execution_count": 20,
      "id": "64275647-6fdb-4bf3-806b-4dbc770cbd6f",
      "metadata": {
        "colab": {
          "base_uri": "https://localhost:8080/",
          "height": 139
        },
        "id": "64275647-6fdb-4bf3-806b-4dbc770cbd6f",
        "outputId": "e62d28f8-edfe-4744-f094-5c7c8a1cea82"
      },
      "outputs": [
        {
          "data": {
            "application/vnd.google.colaboratory.intrinsic+json": {
              "type": "string"
            },
            "text/plain": [
              "\"You are evaluating an email assistant that works on behalf of a user.\\n\\nYou will see a sequence of messages, starting with an email sent to the user. \\n\\nYou will then see the assistant's response to this email on behalf of the user, which includes any tool calls made (e.g., write_email, schedule_meeting, check_calendar_availability, done).\\n\\nYou will also see a list of criteria that the assistant's response must meet.\\n\\nYour job is to evaluate if the assistant's response meets ALL the criteria bullet points provided.\\n\\nIMPORTANT EVALUATION INSTRUCTIONS:\\n1. The assistant's response is formatted as a list of messages.\\n2. The response criteria are formatted as bullet points (•)\\n3. You must evaluate the response against EACH bullet point individually\\n4. ALL bullet points must be met for the response to receive a 'True' grade\\n5. For each bullet point, cite specific text from the response that satisfies or fails to satisfy it\\n6. Be objective and rigorous in your evaluation\\n7. In your justification, clearly indicate which criteria were met and which were not\\n7. If ANY criteria are not met, the overall grade must be 'False'\\n\\nYour output will be used for automated testing, so maintain a consistent evaluation approach.\""
            ]
          },
          "execution_count": 20,
          "metadata": {},
          "output_type": "execute_result"
        }
      ],
      "source": [
        "RESPONSE_CRITERIA_SYSTEM_PROMPT"
      ]
    },
    {
      "cell_type": "markdown",
      "id": "7994952c",
      "metadata": {
        "id": "7994952c"
      },
      "source": [
        "We can see that the LLM grader returns an eval result with a schema matching our `CriteriaGrade` base model."
      ]
    },
    {
      "cell_type": "markdown",
      "id": "0b44111d",
      "metadata": {
        "id": "0b44111d"
      },
      "source": [
        "## Running against a Larger Test Suite\n",
        "Now that we've seen how to evaluate our agent using Pytest and evaluate(), and seen an example of using an LLM as a judge, we can use evaluations over a bigger test suite to get a better sense of how our agent performs over a wider variety of examples."
      ]
    },
    {
      "cell_type": "markdown",
      "id": "9280d5ae-3070-4131-8763-454073176081",
      "metadata": {
        "id": "9280d5ae-3070-4131-8763-454073176081"
      },
      "source": [
        "Let's run our email_assistant against a larger test suite.\n",
        "```\n",
        "! LANGSMITH_TEST_SUITE='Email assistant: Test Full Response Interrupt' LANGSMITH_EXPERIMENT='email_assistant' pytest tests/test_response.py --agent-module email_assistant\n",
        "```\n",
        "\n",
        "In `test_response.py`, you can see a few things.\n",
        "\n",
        "We pass our dataset examples into functions that will run pytest and log to our `LANGSMITH_TEST_SUITE`:\n",
        "\n",
        "```\n",
        "# Reference output key\n",
        "@pytest.mark.langsmith(output_keys=[\"criteria\"])\n",
        "# Variable names and a list of tuples with the test cases\n",
        "# Each test case is (email_input, email_name, criteria, expected_calls)\n",
        "@pytest.mark.parametrize(\"email_input,email_name,criteria,expected_calls\",create_response_test_cases())\n",
        "def test_response_criteria_evaluation(email_input, email_name, criteria, expected_calls):\n",
        "```\n",
        "\n",
        "We use LLM-as-judge with a grading schema:\n",
        "```\n",
        "class CriteriaGrade(BaseModel):\n",
        "    \"\"\"Score the response against specific criteria.\"\"\"\n",
        "    grade: bool = Field(description=\"Does the response meet the provided criteria?\")\n",
        "    justification: str = Field(description=\"The justification for the grade and score, including specific examples from the response.\")\n",
        "```\n",
        "\n",
        "\n",
        "We evaluate the agent response relative to the criteria:\n",
        "```\n",
        "    # Evaluate against criteria\n",
        "    eval_result = criteria_eval_structured_llm.invoke([\n",
        "        {\"role\": \"system\",\n",
        "            \"content\": RESPONSE_CRITERIA_SYSTEM_PROMPT},\n",
        "        {\"role\": \"user\",\n",
        "            \"content\": f\"\"\"\\n\\n Response criteria: {criteria} \\n\\n Assistant's response: \\n\\n {all_messages_str} \\n\\n Evaluate whether the assistant's response meets the criteria and provide justification for your evaluation.\"\"\"}\n",
        "    ])\n",
        "```"
      ]
    },
    {
      "cell_type": "markdown",
      "id": "ca836fbf",
      "metadata": {
        "id": "ca836fbf"
      },
      "source": [
        "Now let's take a look at this experiment in the LangSmith UI and look into what our agent did well, and what it could improve on.\n",
        "\n",
        "#### Getting Results\n",
        "\n",
        "We can also get the results of the evaluation by reading the tracing project associated with our experiment. This is great for creating custom visualizations of our agent's performance."
      ]
    },
    {
      "cell_type": "code",
      "execution_count": 24,
      "id": "70b655f8",
      "metadata": {
        "colab": {
          "base_uri": "https://localhost:8080/"
        },
        "id": "70b655f8",
        "lines_to_next_cell": 0,
        "outputId": "b8dfefb8-c91d-4d22-dc77-db70838b0b0d"
      },
      "outputs": [
        {
          "name": "stdout",
          "output_type": "stream",
          "text": [
            "Latency p50: 0:00:00.777500\n",
            "Latency p99: 0:00:01.091750\n",
            "Token Usage: 9386\n",
            "Feedback Stats: {'classification_evaluator': {'n': 16, 'avg': 0.875, 'stdev': 0.33071891388307384, 'errors': 0, 'values': {}}}\n"
          ]
        }
      ],
      "source": [
        "# TODO: Copy your experiment name here\n",
        "experiment_name = \"E-mail assistant workflow-79a64437\" # \"email_assistant:8286b3b8\"\n",
        "# Set this to load expt results\n",
        "load_expt = True # False\n",
        "if load_expt:\n",
        "    email_assistant_experiment_results = client.read_project(project_name=experiment_name, include_stats=True)\n",
        "    print(\"Latency p50:\", email_assistant_experiment_results.latency_p50)\n",
        "    print(\"Latency p99:\", email_assistant_experiment_results.latency_p99)\n",
        "    print(\"Token Usage:\", email_assistant_experiment_results.total_tokens)\n",
        "    print(\"Feedback Stats:\", email_assistant_experiment_results.feedback_stats)"
      ]
    },
    {
      "cell_type": "code",
      "execution_count": null,
      "id": "0ccdfaa6",
      "metadata": {
        "id": "0ccdfaa6"
      },
      "outputs": [],
      "source": []
    }
  ],
  "metadata": {
    "colab": {
      "provenance": []
    },
    "jupytext": {
      "cell_metadata_filter": "-all",
      "main_language": "python",
      "notebook_metadata_filter": "-all"
    },
    "kernelspec": {
      "display_name": ".venv",
      "language": "python",
      "name": "python3"
    },
    "language_info": {
      "codemirror_mode": {
        "name": "ipython",
        "version": 3
      },
      "file_extension": ".py",
      "mimetype": "text/x-python",
      "name": "python",
      "nbconvert_exporter": "python",
      "pygments_lexer": "ipython3",
      "version": "3.11.6"
    },
    "widgets": {
      "application/vnd.jupyter.widget-state+json": {
        "07e52f38d54740c3ab2c10ac834a9b77": {
          "model_module": "@jupyter-widgets/controls",
          "model_module_version": "1.5.0",
          "model_name": "ProgressStyleModel",
          "state": {
            "_model_module": "@jupyter-widgets/controls",
            "_model_module_version": "1.5.0",
            "_model_name": "ProgressStyleModel",
            "_view_count": null,
            "_view_module": "@jupyter-widgets/base",
            "_view_module_version": "1.2.0",
            "_view_name": "StyleView",
            "bar_color": null,
            "description_width": ""
          }
        },
        "3030899a303e453b9158e417bd44bd09": {
          "model_module": "@jupyter-widgets/controls",
          "model_module_version": "1.5.0",
          "model_name": "FloatProgressModel",
          "state": {
            "_dom_classes": [],
            "_model_module": "@jupyter-widgets/controls",
            "_model_module_version": "1.5.0",
            "_model_name": "FloatProgressModel",
            "_view_count": null,
            "_view_module": "@jupyter-widgets/controls",
            "_view_module_version": "1.5.0",
            "_view_name": "ProgressView",
            "bar_style": "success",
            "description": "",
            "description_tooltip": null,
            "layout": "IPY_MODEL_9acb048b2816443399388eb3463cb918",
            "max": 1,
            "min": 0,
            "orientation": "horizontal",
            "style": "IPY_MODEL_07e52f38d54740c3ab2c10ac834a9b77",
            "value": 1
          }
        },
        "312dbdff72a04deaa935b2589e3c1b74": {
          "model_module": "@jupyter-widgets/controls",
          "model_module_version": "1.5.0",
          "model_name": "DescriptionStyleModel",
          "state": {
            "_model_module": "@jupyter-widgets/controls",
            "_model_module_version": "1.5.0",
            "_model_name": "DescriptionStyleModel",
            "_view_count": null,
            "_view_module": "@jupyter-widgets/base",
            "_view_module_version": "1.2.0",
            "_view_name": "StyleView",
            "description_width": ""
          }
        },
        "3155b9b03f094122a842257ebaf64256": {
          "model_module": "@jupyter-widgets/base",
          "model_module_version": "1.2.0",
          "model_name": "LayoutModel",
          "state": {
            "_model_module": "@jupyter-widgets/base",
            "_model_module_version": "1.2.0",
            "_model_name": "LayoutModel",
            "_view_count": null,
            "_view_module": "@jupyter-widgets/base",
            "_view_module_version": "1.2.0",
            "_view_name": "LayoutView",
            "align_content": null,
            "align_items": null,
            "align_self": null,
            "border": null,
            "bottom": null,
            "display": null,
            "flex": null,
            "flex_flow": null,
            "grid_area": null,
            "grid_auto_columns": null,
            "grid_auto_flow": null,
            "grid_auto_rows": null,
            "grid_column": null,
            "grid_gap": null,
            "grid_row": null,
            "grid_template_areas": null,
            "grid_template_columns": null,
            "grid_template_rows": null,
            "height": null,
            "justify_content": null,
            "justify_items": null,
            "left": null,
            "margin": null,
            "max_height": null,
            "max_width": null,
            "min_height": null,
            "min_width": null,
            "object_fit": null,
            "object_position": null,
            "order": null,
            "overflow": null,
            "overflow_x": null,
            "overflow_y": null,
            "padding": null,
            "right": null,
            "top": null,
            "visibility": null,
            "width": null
          }
        },
        "49936584f6ac4e448ad631b6755e34c6": {
          "model_module": "@jupyter-widgets/controls",
          "model_module_version": "1.5.0",
          "model_name": "HBoxModel",
          "state": {
            "_dom_classes": [],
            "_model_module": "@jupyter-widgets/controls",
            "_model_module_version": "1.5.0",
            "_model_name": "HBoxModel",
            "_view_count": null,
            "_view_module": "@jupyter-widgets/controls",
            "_view_module_version": "1.5.0",
            "_view_name": "HBoxView",
            "box_style": "",
            "children": [
              "IPY_MODEL_d1b98ecdc6c3447eaadc7b9b6936c05d",
              "IPY_MODEL_3030899a303e453b9158e417bd44bd09",
              "IPY_MODEL_66465afe8add40c2bb88b57fe328145a"
            ],
            "layout": "IPY_MODEL_3155b9b03f094122a842257ebaf64256"
          }
        },
        "53951d749c6e4091825ef1ea23089373": {
          "model_module": "@jupyter-widgets/base",
          "model_module_version": "1.2.0",
          "model_name": "LayoutModel",
          "state": {
            "_model_module": "@jupyter-widgets/base",
            "_model_module_version": "1.2.0",
            "_model_name": "LayoutModel",
            "_view_count": null,
            "_view_module": "@jupyter-widgets/base",
            "_view_module_version": "1.2.0",
            "_view_name": "LayoutView",
            "align_content": null,
            "align_items": null,
            "align_self": null,
            "border": null,
            "bottom": null,
            "display": null,
            "flex": null,
            "flex_flow": null,
            "grid_area": null,
            "grid_auto_columns": null,
            "grid_auto_flow": null,
            "grid_auto_rows": null,
            "grid_column": null,
            "grid_gap": null,
            "grid_row": null,
            "grid_template_areas": null,
            "grid_template_columns": null,
            "grid_template_rows": null,
            "height": null,
            "justify_content": null,
            "justify_items": null,
            "left": null,
            "margin": null,
            "max_height": null,
            "max_width": null,
            "min_height": null,
            "min_width": null,
            "object_fit": null,
            "object_position": null,
            "order": null,
            "overflow": null,
            "overflow_x": null,
            "overflow_y": null,
            "padding": null,
            "right": null,
            "top": null,
            "visibility": null,
            "width": null
          }
        },
        "5ad31145c7e94eaba4e2201c8f0413d2": {
          "model_module": "@jupyter-widgets/controls",
          "model_module_version": "1.5.0",
          "model_name": "DescriptionStyleModel",
          "state": {
            "_model_module": "@jupyter-widgets/controls",
            "_model_module_version": "1.5.0",
            "_model_name": "DescriptionStyleModel",
            "_view_count": null,
            "_view_module": "@jupyter-widgets/base",
            "_view_module_version": "1.2.0",
            "_view_name": "StyleView",
            "description_width": ""
          }
        },
        "66465afe8add40c2bb88b57fe328145a": {
          "model_module": "@jupyter-widgets/controls",
          "model_module_version": "1.5.0",
          "model_name": "HTMLModel",
          "state": {
            "_dom_classes": [],
            "_model_module": "@jupyter-widgets/controls",
            "_model_module_version": "1.5.0",
            "_model_name": "HTMLModel",
            "_view_count": null,
            "_view_module": "@jupyter-widgets/controls",
            "_view_module_version": "1.5.0",
            "_view_name": "HTMLView",
            "description": "",
            "description_tooltip": null,
            "layout": "IPY_MODEL_f7079fbc0cbe4d4dad6a2fe37e99a936",
            "placeholder": "​",
            "style": "IPY_MODEL_312dbdff72a04deaa935b2589e3c1b74",
            "value": " 16/? [00:07&lt;00:00,  2.88it/s]"
          }
        },
        "9acb048b2816443399388eb3463cb918": {
          "model_module": "@jupyter-widgets/base",
          "model_module_version": "1.2.0",
          "model_name": "LayoutModel",
          "state": {
            "_model_module": "@jupyter-widgets/base",
            "_model_module_version": "1.2.0",
            "_model_name": "LayoutModel",
            "_view_count": null,
            "_view_module": "@jupyter-widgets/base",
            "_view_module_version": "1.2.0",
            "_view_name": "LayoutView",
            "align_content": null,
            "align_items": null,
            "align_self": null,
            "border": null,
            "bottom": null,
            "display": null,
            "flex": null,
            "flex_flow": null,
            "grid_area": null,
            "grid_auto_columns": null,
            "grid_auto_flow": null,
            "grid_auto_rows": null,
            "grid_column": null,
            "grid_gap": null,
            "grid_row": null,
            "grid_template_areas": null,
            "grid_template_columns": null,
            "grid_template_rows": null,
            "height": null,
            "justify_content": null,
            "justify_items": null,
            "left": null,
            "margin": null,
            "max_height": null,
            "max_width": null,
            "min_height": null,
            "min_width": null,
            "object_fit": null,
            "object_position": null,
            "order": null,
            "overflow": null,
            "overflow_x": null,
            "overflow_y": null,
            "padding": null,
            "right": null,
            "top": null,
            "visibility": null,
            "width": "20px"
          }
        },
        "d1b98ecdc6c3447eaadc7b9b6936c05d": {
          "model_module": "@jupyter-widgets/controls",
          "model_module_version": "1.5.0",
          "model_name": "HTMLModel",
          "state": {
            "_dom_classes": [],
            "_model_module": "@jupyter-widgets/controls",
            "_model_module_version": "1.5.0",
            "_model_name": "HTMLModel",
            "_view_count": null,
            "_view_module": "@jupyter-widgets/controls",
            "_view_module_version": "1.5.0",
            "_view_name": "HTMLView",
            "description": "",
            "description_tooltip": null,
            "layout": "IPY_MODEL_53951d749c6e4091825ef1ea23089373",
            "placeholder": "​",
            "style": "IPY_MODEL_5ad31145c7e94eaba4e2201c8f0413d2",
            "value": ""
          }
        },
        "f7079fbc0cbe4d4dad6a2fe37e99a936": {
          "model_module": "@jupyter-widgets/base",
          "model_module_version": "1.2.0",
          "model_name": "LayoutModel",
          "state": {
            "_model_module": "@jupyter-widgets/base",
            "_model_module_version": "1.2.0",
            "_model_name": "LayoutModel",
            "_view_count": null,
            "_view_module": "@jupyter-widgets/base",
            "_view_module_version": "1.2.0",
            "_view_name": "LayoutView",
            "align_content": null,
            "align_items": null,
            "align_self": null,
            "border": null,
            "bottom": null,
            "display": null,
            "flex": null,
            "flex_flow": null,
            "grid_area": null,
            "grid_auto_columns": null,
            "grid_auto_flow": null,
            "grid_auto_rows": null,
            "grid_column": null,
            "grid_gap": null,
            "grid_row": null,
            "grid_template_areas": null,
            "grid_template_columns": null,
            "grid_template_rows": null,
            "height": null,
            "justify_content": null,
            "justify_items": null,
            "left": null,
            "margin": null,
            "max_height": null,
            "max_width": null,
            "min_height": null,
            "min_width": null,
            "object_fit": null,
            "object_position": null,
            "order": null,
            "overflow": null,
            "overflow_x": null,
            "overflow_y": null,
            "padding": null,
            "right": null,
            "top": null,
            "visibility": null,
            "width": null
          }
        }
      }
    }
  },
  "nbformat": 4,
  "nbformat_minor": 5
}
