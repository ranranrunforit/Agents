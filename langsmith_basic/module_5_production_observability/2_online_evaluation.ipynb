{
 "cells": [
  {
   "cell_type": "markdown",
   "metadata": {
    "id": "T7qfVfTgjc5l"
   },
   "source": [
    "# Online Evaluations"
   ]
  },
  {
   "cell_type": "markdown",
   "metadata": {
    "id": "Zr9rY_s8jc5m"
   },
   "source": [
    "### Setup"
   ]
  },
  {
   "cell_type": "code",
   "execution_count": 2,
   "metadata": {
    "colab": {
     "base_uri": "https://localhost:8080/"
    },
    "executionInfo": {
     "elapsed": 30214,
     "status": "ok",
     "timestamp": 1756803544628,
     "user": {
      "displayName": "Chaoran Zhou",
      "userId": "09162553986537566448"
     },
     "user_tz": -480
    },
    "id": "pOIAnY-oGxnX",
    "outputId": "a507f557-0316-45cb-a3e4-fb3427b9ffe5"
   },
   "outputs": [
    {
     "name": "stdout",
     "output_type": "stream",
     "text": [
      "\u001b[2K     \u001b[90m━━━━━━━━━━━━━━━━━━━━━━━━━━━━━━━━━━━━━━━━\u001b[0m \u001b[32m43.7/43.7 kB\u001b[0m \u001b[31m3.5 MB/s\u001b[0m eta \u001b[36m0:00:00\u001b[0m\n",
      "\u001b[2K   \u001b[90m━━━━━━━━━━━━━━━━━━━━━━━━━━━━━━━━━━━━━━━━\u001b[0m \u001b[32m49.4/49.4 kB\u001b[0m \u001b[31m3.6 MB/s\u001b[0m eta \u001b[36m0:00:00\u001b[0m\n",
      "\u001b[2K   \u001b[90m━━━━━━━━━━━━━━━━━━━━━━━━━━━━━━━━━━━━━━━━\u001b[0m \u001b[32m153.3/153.3 kB\u001b[0m \u001b[31m9.3 MB/s\u001b[0m eta \u001b[36m0:00:00\u001b[0m\n",
      "\u001b[2K   \u001b[90m━━━━━━━━━━━━━━━━━━━━━━━━━━━━━━━━━━━━━━━━\u001b[0m \u001b[32m54.0/54.0 kB\u001b[0m \u001b[31m4.0 MB/s\u001b[0m eta \u001b[36m0:00:00\u001b[0m\n",
      "\u001b[2K   \u001b[90m━━━━━━━━━━━━━━━━━━━━━━━━━━━━━━━━━━━━━━━━\u001b[0m \u001b[32m378.5/378.5 kB\u001b[0m \u001b[31m25.1 MB/s\u001b[0m eta \u001b[36m0:00:00\u001b[0m\n",
      "\u001b[2K   \u001b[90m━━━━━━━━━━━━━━━━━━━━━━━━━━━━━━━━━━━━━━━━\u001b[0m \u001b[32m2.5/2.5 MB\u001b[0m \u001b[31m50.2 MB/s\u001b[0m eta \u001b[36m0:00:00\u001b[0m\n",
      "\u001b[2K   \u001b[90m━━━━━━━━━━━━━━━━━━━━━━━━━━━━━━━━━━━━━━━━\u001b[0m \u001b[32m444.0/444.0 kB\u001b[0m \u001b[31m28.8 MB/s\u001b[0m eta \u001b[36m0:00:00\u001b[0m\n",
      "\u001b[2K   \u001b[90m━━━━━━━━━━━━━━━━━━━━━━━━━━━━━━━━━━━━━━━━\u001b[0m \u001b[32m1.4/1.4 MB\u001b[0m \u001b[31m51.3 MB/s\u001b[0m eta \u001b[36m0:00:00\u001b[0m\n",
      "\u001b[2K   \u001b[90m━━━━━━━━━━━━━━━━━━━━━━━━━━━━━━━━━━━━━━━━\u001b[0m \u001b[32m43.9/43.9 kB\u001b[0m \u001b[31m2.4 MB/s\u001b[0m eta \u001b[36m0:00:00\u001b[0m\n",
      "\u001b[2K   \u001b[90m━━━━━━━━━━━━━━━━━━━━━━━━━━━━━━━━━━━━━━━━\u001b[0m \u001b[32m64.7/64.7 kB\u001b[0m \u001b[31m5.4 MB/s\u001b[0m eta \u001b[36m0:00:00\u001b[0m\n",
      "\u001b[2K   \u001b[90m━━━━━━━━━━━━━━━━━━━━━━━━━━━━━━━━━━━━━━━━\u001b[0m \u001b[32m151.6/151.6 kB\u001b[0m \u001b[31m12.2 MB/s\u001b[0m eta \u001b[36m0:00:00\u001b[0m\n",
      "\u001b[2K   \u001b[90m━━━━━━━━━━━━━━━━━━━━━━━━━━━━━━━━━━━━━━━━\u001b[0m \u001b[32m50.9/50.9 kB\u001b[0m \u001b[31m3.6 MB/s\u001b[0m eta \u001b[36m0:00:00\u001b[0m\n",
      "\u001b[2K   \u001b[90m━━━━━━━━━━━━━━━━━━━━━━━━━━━━━━━━━━━━━━━━\u001b[0m \u001b[32m216.7/216.7 kB\u001b[0m \u001b[31m16.0 MB/s\u001b[0m eta \u001b[36m0:00:00\u001b[0m\n",
      "\u001b[?25h\u001b[31mERROR: pip's dependency resolver does not currently take into account all the packages that are installed. This behaviour is the source of the following dependency conflicts.\n",
      "google-colab 1.0.0 requires requests==2.32.4, but you have requests 2.32.5 which is incompatible.\n",
      "google-generativeai 0.8.5 requires google-ai-generativelanguage==0.6.15, but you have google-ai-generativelanguage 0.6.18 which is incompatible.\u001b[0m\u001b[31m\n",
      "\u001b[2K   \u001b[90m━━━━━━━━━━━━━━━━━━━━━━━━━━━━━━━━━━━━━━━━\u001b[0m \u001b[32m1.6/1.6 MB\u001b[0m \u001b[31m43.3 MB/s\u001b[0m eta \u001b[36m0:00:00\u001b[0m\n",
      "\u001b[?25h"
     ]
    }
   ],
   "source": [
    "!pip install --quiet -U langchain-google-genai langgraph langgraph-sdk langgraph-checkpoint-sqlite langsmith langchain-community langchain-core\n",
    "!pip install --quiet notebook python-dotenv lxml scikit-learn pandas pyarrow"
   ]
  },
  {
   "cell_type": "code",
   "execution_count": 3,
   "metadata": {
    "executionInfo": {
     "elapsed": 9631,
     "status": "ok",
     "timestamp": 1756803554250,
     "user": {
      "displayName": "Chaoran Zhou",
      "userId": "09162553986537566448"
     },
     "user_tz": -480
    },
    "id": "n9k9ZKUaHA5l"
   },
   "outputs": [],
   "source": [
    "!pip install --quiet python-dotenv"
   ]
  },
  {
   "cell_type": "code",
   "execution_count": 4,
   "metadata": {
    "colab": {
     "base_uri": "https://localhost:8080/"
    },
    "executionInfo": {
     "elapsed": 916,
     "status": "ok",
     "timestamp": 1756803555164,
     "user": {
      "displayName": "Chaoran Zhou",
      "userId": "09162553986537566448"
     },
     "user_tz": -480
    },
    "id": "nB4-CZXlHAbB",
    "outputId": "2978ea76-ec69-469f-8f77-79f62a345d03"
   },
   "outputs": [
    {
     "data": {
      "text/plain": [
       "True"
      ]
     },
     "execution_count": 4,
     "metadata": {},
     "output_type": "execute_result"
    }
   ],
   "source": [
    "from dotenv import load_dotenv\n",
    "load_dotenv(\".env\")"
   ]
  },
  {
   "cell_type": "code",
   "execution_count": null,
   "metadata": {
    "id": "lFryajxRjc5m"
   },
   "outputs": [],
   "source": [
    "# You can set them inline\n",
    "import os\n",
    "os.environ[\"OPENAI_API_KEY\"] = \"\"\n",
    "os.environ[\"LANGSMITH_API_KEY\"] = \"\"\n",
    "os.environ[\"LANGSMITH_TRACING\"] = \"true\"\n",
    "os.environ[\"LANGSMITH_PROJECT\"] = \"langsmith-academy\""
   ]
  },
  {
   "cell_type": "code",
   "execution_count": null,
   "metadata": {
    "id": "EL-wJyarjc5n"
   },
   "outputs": [],
   "source": [
    "# Or you can use a .env file\n",
    "from dotenv import load_dotenv\n",
    "load_dotenv(dotenv_path=\"../../.env\", override=True)"
   ]
  },
  {
   "cell_type": "markdown",
   "metadata": {
    "id": "rIpp1dB5jc5o"
   },
   "source": [
    "### Running your Application"
   ]
  },
  {
   "cell_type": "markdown",
   "metadata": {
    "id": "1M3HXToXjc5o"
   },
   "source": [
    "Let's run our application once, so we can see our new online evaluator run!"
   ]
  },
  {
   "cell_type": "code",
   "execution_count": null,
   "metadata": {
    "colab": {
     "base_uri": "https://localhost:8080/",
     "height": 597,
     "referenced_widgets": [
      "28fd6f2b51714169b378c728000446c5",
      "9628bc2b430c46af998e52ed24731cd5",
      "df35a5344cdf41df82f69fb9b84f887c",
      "0f908a7cdc8f47b6bc61c4a2b78a35ad",
      "12bc457ad7134ec0873acd248464848d",
      "f3b8441d15ea4904ac44ba0a4a80423c",
      "4c06f14486b04c09a2dd5bc7b88624bd",
      "52a71b57bcf1412bbe09cc3d2e1aff56",
      "7d5f5cc2f2a446c583d782a978adb145",
      "fe8f13577e004749aed41201da7ad0b3",
      "82d06fd51dce4839bb5b06f7c2dd1e95",
      "2cdd94a188e3418a9d7281f9a2e09c8a",
      "19088308a5f14c2ca1cb37924336c23a",
      "7f07583187de4898bff3d516dd796576",
      "1e9bd770bbb04a4ba0deba5e133c3093",
      "9e7e19c4800e441bb7e8a30d754f619f",
      "ee2a2bd181d34e3db69b03e14bb11098",
      "7268443a78c846cb91960613ae819c77",
      "5c958eae7d2c40939d236813b9fa8edb",
      "6296590fa081440590be2e56d7cb9d62",
      "cad606b1a8814655811b702e4681d46d",
      "c2a695ef2bfc47b286d56ae9c09e17d4",
      "1bcfba6e5614413d830c234fc1a92c7b",
      "de37a86518b144b58aa844ac5b074b25",
      "1c9007f314744371b30455a43792c9e2",
      "e4b9b90fb88f414cb5ce53e5b1cf6fbb",
      "8d7e4d2bae93431fbba9fbb4fae01807",
      "b3157e8f8be04381adf64576f04f89e0",
      "9e254804cd3849ea8bbc07b509a4f830",
      "defcdf1d6a364040b445701dfd9f8402",
      "3d1040c23f2d48a2b793e45a622e8742",
      "e2caae8731cf4f948243b60de5d2b11c",
      "fbcd4bb9b0854365b377a7e403644f9e",
      "7039cf86c8ff41c0bf3868d2ccf9bd70",
      "9e6fedb28a6e488ab5847bba253b269e",
      "3b6885d227064b408ee33972c7940eb0",
      "3417018e25814fdea468f3958294d05d",
      "d6ab962ab6d94724b16f3383f64e0ae8",
      "6fb8f5939efd432e871bd7b0b3efd1d9",
      "8092ad177cfe48c68f715497adf7d81c",
      "52987bf3652f4d909dc73f0584efba7e",
      "962d4ecc6e0948cc85fa0aeffd9c0624",
      "749ffa942c644438ae89f3b36382cbeb",
      "8fc675cfe8094bca8a7ca13ddc8759bf",
      "37242d48a6ae42e9981404cd85f677b6",
      "ed5d8180c0304c8987727723c7e02fdb",
      "c9e9cfae08eb493b84a3271de294af04",
      "370d43d195a5479d8d47582a98504f36",
      "da7dd683d5d94db593f18128968a4972",
      "c42d33203d744860a8a6dbe09ce04a30",
      "723ace3de70e45d99500484e827e3eae",
      "c40c399ff6734daaa36af00a4d44ee87",
      "c071e23128974eef97da9aa71f049b5c",
      "f6c927d9fd4f4f0daf51454cea46474c",
      "45a6c8bc314c41118e553504b1b5b61c",
      "d08f8b6528364b97b72018007f032aed",
      "e6ec2592b1864258894111264e2c0ed4",
      "7ac527df6b684f57b04d52fa34976eb1",
      "4b5ceadfb61c4554b8d11f1c3807919c",
      "89b74bac31664ee5a131d40f8de8d5b7",
      "e7593d6e170e4e7495f979164fa05630",
      "2614538f04b3494eb0fa0434873f2f46",
      "791d44d2ad114af7a06e1719dbb88950",
      "66f1c5b8d62a4ec3b065819d28300c13",
      "44c81a7f1c7143b3a777a5be5439b243",
      "188ca466b7674924ba44603a5e22885f",
      "73d4e55316694c11a7203f3f98421170",
      "82d94efcacbd47899124e744554cf3a1",
      "07da1865f54b4b99bba247c1e88ee1f2",
      "be00bdf4d2464d568519b385faf51220",
      "a7ffa4b5c2a64205b19421e9ddaaf25c",
      "19dcd829ca5d48c5a1e0c18dfb2116fb",
      "6391caee099549f68c2cb44f1190e1a2",
      "4459a1408ac7477687659ef77d42d1c0",
      "04794d1da037491287c350aec780873e",
      "258a010dc7c046dcb5408706e6a7b11a",
      "725620448b24438cb8134c371efa8090",
      "b1625f3a9bf74c0f9b0c77a3007a3edb",
      "cdc4287b152d47b1a4d17bdcd4fd1307",
      "d14ecf72f74a456e88e911ba84a6578e",
      "b335abd03e3f482d9faac7d3d9024e93",
      "f58b3adbecdc464d84c365c3c51950d6",
      "537033d622c14437a8bcfcd6e49c561d",
      "cee8b8fb54d04109b5d1357e938144dd",
      "0c05b877391942728853427906c1670c",
      "42caf21e40f945ca9f5493ad4a3b56d6",
      "f3646bf4cda84c13ac26dfbd30a90788",
      "bcff6aa7b5ae4ed6b6ac74d1670ba46b",
      "0b7768de87d94efc9d65ca9d3549c865",
      "1d95c66091a14564bc2c34de09f07e38",
      "0bf9c968e5ec455cb840d8b22f1a609c",
      "91111d8d34e94763b560e7461f5b091e",
      "782589e94bc7474d97b7cae916bd0f08",
      "8bf48c3d1e2a4151b203e98b9ab00c4d",
      "00a3f6d530d045ca9440364c68c2f400",
      "93484f1cec144e749b20b2f8543bc647",
      "de4b4e0721534b9e9ca81b6db9a8ebdc",
      "45f40c1c4c914c2bbde319b9e90fbd28",
      "f1fb7915a22148fcb5e6c3b3922f2609",
      "82561f739e344cac8362bcc6816339f7",
      "efa4a4412b304f5a9e6d161ea8537e75",
      "4a87928adaf349568bb4fd8aee726c42",
      "1b81e24f411a45ceaf6537939733c59d",
      "68ab0e3e51bf4f798440ddec316012dd",
      "7655b79cef594e8ca79969baf60814b4",
      "645aadee84514957b7b4a2543143b672",
      "ed2febccd69e454f8e07d5421dc6364a",
      "548d468697b94b948e56d9ae7698e4fb",
      "8a0791bdfc61491aac35c782ef0475d0",
      "b4871daf05384d89a9b2b7f907b88985",
      "5ef6e2913fa7490f9e350cedbd33a8a0",
      "f3afeeee4a4e47d787aecf992cbc0815",
      "fa8924110c864c95b4a82b9cb1c9588e",
      "89e46bddf482412bb7ad90a264ea0a75",
      "f08f27192aac495da5e9bd23ba9075ee",
      "8dc046f6f130483fbefbe20c4059f830",
      "8ecb65214ed54e7aae17bf842566127f",
      "467db4379be94654bfdd0c82b8ad5027",
      "dc548bae21914725a38f46e10ed569f1",
      "e6cfcfe1ffeb4a5e9137b617d5a5a65e",
      "2abda0e2ca7b4cc7a0ba45f3139b9f89"
     ]
    },
    "id": "V9H8tEybjc5o",
    "outputId": "4ec06195-c925-4ef5-df37-849a16a45bad"
   },
   "outputs": [
    {
     "name": "stderr",
     "output_type": "stream",
     "text": [
      "WARNING:langchain_community.utils.user_agent:USER_AGENT environment variable not set, consider setting it to identify your requests.\n",
      "/content/drive/MyDrive/Colab Notebooks/intro-to-langsmith-main/notebooks/module_5_production_observability/app.py:46: LangChainDeprecationWarning: The class `HuggingFaceEmbeddings` was deprecated in LangChain 0.2.2 and will be removed in 1.0. An updated version of the class exists in the :class:`~langchain-huggingface package and should be used instead. To use it run `pip install -U :class:`~langchain-huggingface` and import as `from :class:`~langchain_huggingface import HuggingFaceEmbeddings``.\n",
      "  embd = HuggingFaceEmbeddings(\n",
      "/usr/local/lib/python3.12/dist-packages/huggingface_hub/utils/_auth.py:94: UserWarning: \n",
      "The secret `HF_TOKEN` does not exist in your Colab secrets.\n",
      "To authenticate with the Hugging Face Hub, create a token in your settings tab (https://huggingface.co/settings/tokens), set it as secret in your Google Colab and restart your session.\n",
      "You will be able to reuse this secret in all of your notebooks.\n",
      "Please note that authentication is recommended but still optional to access public models or datasets.\n",
      "  warnings.warn(\n"
     ]
    },
    {
     "data": {
      "application/vnd.jupyter.widget-view+json": {
       "model_id": "28fd6f2b51714169b378c728000446c5",
       "version_major": 2,
       "version_minor": 0
      },
      "text/plain": [
       "modules.json:   0%|          | 0.00/349 [00:00<?, ?B/s]"
      ]
     },
     "metadata": {},
     "output_type": "display_data"
    },
    {
     "data": {
      "application/vnd.jupyter.widget-view+json": {
       "model_id": "2cdd94a188e3418a9d7281f9a2e09c8a",
       "version_major": 2,
       "version_minor": 0
      },
      "text/plain": [
       "config_sentence_transformers.json:   0%|          | 0.00/116 [00:00<?, ?B/s]"
      ]
     },
     "metadata": {},
     "output_type": "display_data"
    },
    {
     "data": {
      "application/vnd.jupyter.widget-view+json": {
       "model_id": "1bcfba6e5614413d830c234fc1a92c7b",
       "version_major": 2,
       "version_minor": 0
      },
      "text/plain": [
       "README.md: 0.00B [00:00, ?B/s]"
      ]
     },
     "metadata": {},
     "output_type": "display_data"
    },
    {
     "data": {
      "application/vnd.jupyter.widget-view+json": {
       "model_id": "7039cf86c8ff41c0bf3868d2ccf9bd70",
       "version_major": 2,
       "version_minor": 0
      },
      "text/plain": [
       "sentence_bert_config.json:   0%|          | 0.00/53.0 [00:00<?, ?B/s]"
      ]
     },
     "metadata": {},
     "output_type": "display_data"
    },
    {
     "data": {
      "application/vnd.jupyter.widget-view+json": {
       "model_id": "37242d48a6ae42e9981404cd85f677b6",
       "version_major": 2,
       "version_minor": 0
      },
      "text/plain": [
       "config.json:   0%|          | 0.00/612 [00:00<?, ?B/s]"
      ]
     },
     "metadata": {},
     "output_type": "display_data"
    },
    {
     "data": {
      "application/vnd.jupyter.widget-view+json": {
       "model_id": "d08f8b6528364b97b72018007f032aed",
       "version_major": 2,
       "version_minor": 0
      },
      "text/plain": [
       "model.safetensors:   0%|          | 0.00/90.9M [00:00<?, ?B/s]"
      ]
     },
     "metadata": {},
     "output_type": "display_data"
    },
    {
     "data": {
      "application/vnd.jupyter.widget-view+json": {
       "model_id": "73d4e55316694c11a7203f3f98421170",
       "version_major": 2,
       "version_minor": 0
      },
      "text/plain": [
       "tokenizer_config.json:   0%|          | 0.00/350 [00:00<?, ?B/s]"
      ]
     },
     "metadata": {},
     "output_type": "display_data"
    },
    {
     "data": {
      "application/vnd.jupyter.widget-view+json": {
       "model_id": "b1625f3a9bf74c0f9b0c77a3007a3edb",
       "version_major": 2,
       "version_minor": 0
      },
      "text/plain": [
       "vocab.txt: 0.00B [00:00, ?B/s]"
      ]
     },
     "metadata": {},
     "output_type": "display_data"
    },
    {
     "data": {
      "application/vnd.jupyter.widget-view+json": {
       "model_id": "0b7768de87d94efc9d65ca9d3549c865",
       "version_major": 2,
       "version_minor": 0
      },
      "text/plain": [
       "tokenizer.json: 0.00B [00:00, ?B/s]"
      ]
     },
     "metadata": {},
     "output_type": "display_data"
    },
    {
     "data": {
      "application/vnd.jupyter.widget-view+json": {
       "model_id": "82561f739e344cac8362bcc6816339f7",
       "version_major": 2,
       "version_minor": 0
      },
      "text/plain": [
       "special_tokens_map.json:   0%|          | 0.00/112 [00:00<?, ?B/s]"
      ]
     },
     "metadata": {},
     "output_type": "display_data"
    },
    {
     "data": {
      "application/vnd.jupyter.widget-view+json": {
       "model_id": "5ef6e2913fa7490f9e350cedbd33a8a0",
       "version_major": 2,
       "version_minor": 0
      },
      "text/plain": [
       "config.json:   0%|          | 0.00/190 [00:00<?, ?B/s]"
      ]
     },
     "metadata": {},
     "output_type": "display_data"
    },
    {
     "name": "stdout",
     "output_type": "stream",
     "text": [
      "No existing vector store found. Indexing documents...\n"
     ]
    },
    {
     "name": "stderr",
     "output_type": "stream",
     "text": [
      "Fetching pages: 100%|##########| 197/197 [00:22<00:00,  8.61it/s]\n"
     ]
    },
    {
     "name": "stdout",
     "output_type": "stream",
     "text": [
      "Created 1159 document splits. Creating vector store...\n"
     ]
    }
   ],
   "source": [
    "from app import langsmith_rag\n",
    "\n",
    "question = \"How do I set up tracing to LangSmith with @traceable?\"\n",
    "langsmith_rag(question)"
   ]
  }
 ],
 "metadata": {
  "colab": {
   "provenance": []
  },
  "kernelspec": {
   "display_name": "ls-academy",
   "language": "python",
   "name": "python3"
  },
  "language_info": {
   "codemirror_mode": {
    "name": "ipython",
    "version": 3
   },
   "file_extension": ".py",
   "mimetype": "text/x-python",
   "name": "python",
   "nbconvert_exporter": "python",
   "pygments_lexer": "ipython3",
   "version": "3.9.6"
  }
 },
 "nbformat": 4,
 "nbformat_minor": 0
}
