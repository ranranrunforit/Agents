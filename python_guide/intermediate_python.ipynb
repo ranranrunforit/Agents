{
  "cells": [
    {
      "cell_type": "markdown",
      "id": "5c291475-8c7c-461c-9b12-545a887b2432",
      "metadata": {
        "id": "5c291475-8c7c-461c-9b12-545a887b2432"
      },
      "source": [
        "# Intermediate Level Python\n",
        "\n",
        "## A briefing on more advanced features of Python\n",
        "\n",
        "This section assumes you're up to speed on the foundations - and now we cover some important features of python that we use on the course.\n",
        "\n",
        "1. Comprehensions  \n",
        "2. Generators  \n",
        "3. Sub-classes, Type Hints, Pydantic  \n",
        "4. Decorators\n",
        "5. Docker (not really python, but we use it to run python code!)\n"
      ]
    },
    {
      "cell_type": "code",
      "execution_count": null,
      "id": "5802e2f0-0ea0-4237-bbb7-f375a34260f0",
      "metadata": {
        "id": "5802e2f0-0ea0-4237-bbb7-f375a34260f0"
      },
      "outputs": [],
      "source": [
        "# First let's create some things:\n",
        "\n",
        "fruits = [\"Apples\", \"Bananas\", \"Pears\"]\n",
        "\n",
        "book1 = {\"title\": \"Great Expectations\", \"author\": \"Charles Dickens\"}\n",
        "book2 = {\"title\": \"Bleak House\", \"author\": \"Charles Dickens\"}\n",
        "book3 = {\"title\": \"An Book By No Author\"}\n",
        "book4 = {\"title\": \"Moby Dick\", \"author\": \"Herman Melville\"}\n",
        "\n",
        "books = [book1, book2, book3, book4]"
      ]
    },
    {
      "cell_type": "markdown",
      "id": "9b941e6a-3658-4144-a8d4-72f5e72f3707",
      "metadata": {
        "id": "9b941e6a-3658-4144-a8d4-72f5e72f3707"
      },
      "source": [
        "# Part 1: List and dict comprehensions"
      ]
    },
    {
      "cell_type": "code",
      "execution_count": null,
      "id": "61992bb8-735d-4dad-8747-8c10b63aec82",
      "metadata": {
        "colab": {
          "base_uri": "https://localhost:8080/"
        },
        "id": "61992bb8-735d-4dad-8747-8c10b63aec82",
        "outputId": "dff10372-8430-4ba3-9275-0473bac62d22"
      },
      "outputs": [
        {
          "output_type": "stream",
          "name": "stdout",
          "text": [
            "Apples\n",
            "Bananas\n",
            "Pears\n"
          ]
        }
      ],
      "source": [
        "# Simple enough to start\n",
        "\n",
        "for fruit in fruits:\n",
        "    print(fruit)"
      ]
    },
    {
      "cell_type": "code",
      "execution_count": null,
      "id": "c89c3842-9b74-47fa-8424-0fcb08e4177c",
      "metadata": {
        "colab": {
          "base_uri": "https://localhost:8080/"
        },
        "id": "c89c3842-9b74-47fa-8424-0fcb08e4177c",
        "outputId": "78bc83d3-f4d2-47b2-b602-70ce75157ff9"
      },
      "outputs": [
        {
          "output_type": "execute_result",
          "data": {
            "text/plain": [
              "['APPLES', 'BANANAS', 'PEARS']"
            ]
          },
          "metadata": {},
          "execution_count": 3
        }
      ],
      "source": [
        "# Let's make a new version of fruits\n",
        "\n",
        "fruits_shouted = []\n",
        "for fruit in fruits:\n",
        "    fruits_shouted.append(fruit.upper())\n",
        "\n",
        "fruits_shouted"
      ]
    },
    {
      "cell_type": "code",
      "execution_count": null,
      "id": "4ec13b3a-9545-44f1-874a-2910a0663560",
      "metadata": {
        "colab": {
          "base_uri": "https://localhost:8080/"
        },
        "id": "4ec13b3a-9545-44f1-874a-2910a0663560",
        "outputId": "e64e9d66-348d-4338-f104-26348fca7a74"
      },
      "outputs": [
        {
          "output_type": "execute_result",
          "data": {
            "text/plain": [
              "['APPLES', 'BANANAS', 'PEARS']"
            ]
          },
          "metadata": {},
          "execution_count": 4
        }
      ],
      "source": [
        "# You probably already know this\n",
        "# There's a nice Python construct called \"list comprehension\" that does this:\n",
        "\n",
        "fruits_shouted2 = [fruit.upper() for fruit in fruits]\n",
        "fruits_shouted2"
      ]
    },
    {
      "cell_type": "code",
      "execution_count": null,
      "id": "ecc08c3c-181d-4b64-a3e1-b0ccffc6c0cd",
      "metadata": {
        "colab": {
          "base_uri": "https://localhost:8080/"
        },
        "id": "ecc08c3c-181d-4b64-a3e1-b0ccffc6c0cd",
        "outputId": "55c832df-e436-4734-cd3c-a3d3284eee81"
      },
      "outputs": [
        {
          "output_type": "execute_result",
          "data": {
            "text/plain": [
              "{'Apples': 'APPLES', 'Bananas': 'BANANAS', 'Pears': 'PEARS'}"
            ]
          },
          "metadata": {},
          "execution_count": 5
        }
      ],
      "source": [
        "# But you may not know that you can do this to create dictionaries, too:\n",
        "\n",
        "fruit_mapping = {fruit: fruit.upper() for fruit in fruits}\n",
        "fruit_mapping"
      ]
    },
    {
      "cell_type": "code",
      "execution_count": null,
      "id": "500c2406-00d2-4793-b57b-f49b612760c8",
      "metadata": {
        "colab": {
          "base_uri": "https://localhost:8080/"
        },
        "id": "500c2406-00d2-4793-b57b-f49b612760c8",
        "outputId": "07e89944-edc1-4921-ff42-7f2f967eb2f1"
      },
      "outputs": [
        {
          "output_type": "execute_result",
          "data": {
            "text/plain": [
              "['APPLES', 'BANANAS']"
            ]
          },
          "metadata": {},
          "execution_count": 6
        }
      ],
      "source": [
        "# you can also use the if statement to filter the results\n",
        "\n",
        "fruits_with_longer_names_shouted = [fruit.upper() for fruit in fruits if len(fruit)>5]\n",
        "fruits_with_longer_names_shouted"
      ]
    },
    {
      "cell_type": "code",
      "execution_count": null,
      "id": "38c11c34-d71e-45ba-945b-a3d37dc29793",
      "metadata": {
        "colab": {
          "base_uri": "https://localhost:8080/"
        },
        "id": "38c11c34-d71e-45ba-945b-a3d37dc29793",
        "outputId": "6b858505-d57c-49f5-8e7e-fa1cab713dae"
      },
      "outputs": [
        {
          "output_type": "execute_result",
          "data": {
            "text/plain": [
              "{'Bananas': 'BANANAS', 'Pears': 'PEARS'}"
            ]
          },
          "metadata": {},
          "execution_count": 7
        }
      ],
      "source": [
        "fruit_mapping_unless_starts_with_a = {fruit: fruit.upper() for fruit in fruits if not fruit.startswith('A')}\n",
        "fruit_mapping_unless_starts_with_a"
      ]
    },
    {
      "cell_type": "code",
      "execution_count": null,
      "id": "5c97d8e8-31de-4afa-973e-28d8e5cab749",
      "metadata": {
        "colab": {
          "base_uri": "https://localhost:8080/"
        },
        "id": "5c97d8e8-31de-4afa-973e-28d8e5cab749",
        "outputId": "ee54d45a-6bfe-455b-bef6-44cc77ecb1d9"
      },
      "outputs": [
        {
          "output_type": "execute_result",
          "data": {
            "text/plain": [
              "['Great Expectations', 'Bleak House', 'An Book By No Author', 'Moby Dick']"
            ]
          },
          "metadata": {},
          "execution_count": 8
        }
      ],
      "source": [
        "# Another comprehension\n",
        "\n",
        "[book['title'] for book in books]"
      ]
    },
    {
      "cell_type": "code",
      "execution_count": null,
      "id": "50be0edc-a4cd-493f-a680-06080bb497b4",
      "metadata": {
        "colab": {
          "base_uri": "https://localhost:8080/",
          "height": 297
        },
        "id": "50be0edc-a4cd-493f-a680-06080bb497b4",
        "outputId": "fb390bbc-110d-45e7-ec5e-9f8f015f34ed"
      },
      "outputs": [
        {
          "output_type": "error",
          "ename": "KeyError",
          "evalue": "'author'",
          "traceback": [
            "\u001b[0;31m---------------------------------------------------------------------------\u001b[0m",
            "\u001b[0;31mKeyError\u001b[0m                                  Traceback (most recent call last)",
            "\u001b[0;32m<ipython-input-9-e4f3672f4f62>\u001b[0m in \u001b[0;36m<cell line: 0>\u001b[0;34m()\u001b[0m\n\u001b[1;32m      1\u001b[0m \u001b[0;31m# This code will fail with an error because one of our books doesn't have an author\u001b[0m\u001b[0;34m\u001b[0m\u001b[0;34m\u001b[0m\u001b[0m\n\u001b[1;32m      2\u001b[0m \u001b[0;34m\u001b[0m\u001b[0m\n\u001b[0;32m----> 3\u001b[0;31m \u001b[0;34m[\u001b[0m\u001b[0mbook\u001b[0m\u001b[0;34m[\u001b[0m\u001b[0;34m'author'\u001b[0m\u001b[0;34m]\u001b[0m \u001b[0;32mfor\u001b[0m \u001b[0mbook\u001b[0m \u001b[0;32min\u001b[0m \u001b[0mbooks\u001b[0m\u001b[0;34m]\u001b[0m\u001b[0;34m\u001b[0m\u001b[0;34m\u001b[0m\u001b[0m\n\u001b[0m",
            "\u001b[0;32m<ipython-input-9-e4f3672f4f62>\u001b[0m in \u001b[0;36m<listcomp>\u001b[0;34m(.0)\u001b[0m\n\u001b[1;32m      1\u001b[0m \u001b[0;31m# This code will fail with an error because one of our books doesn't have an author\u001b[0m\u001b[0;34m\u001b[0m\u001b[0;34m\u001b[0m\u001b[0m\n\u001b[1;32m      2\u001b[0m \u001b[0;34m\u001b[0m\u001b[0m\n\u001b[0;32m----> 3\u001b[0;31m \u001b[0;34m[\u001b[0m\u001b[0mbook\u001b[0m\u001b[0;34m[\u001b[0m\u001b[0;34m'author'\u001b[0m\u001b[0;34m]\u001b[0m \u001b[0;32mfor\u001b[0m \u001b[0mbook\u001b[0m \u001b[0;32min\u001b[0m \u001b[0mbooks\u001b[0m\u001b[0;34m]\u001b[0m\u001b[0;34m\u001b[0m\u001b[0;34m\u001b[0m\u001b[0m\n\u001b[0m",
            "\u001b[0;31mKeyError\u001b[0m: 'author'"
          ]
        }
      ],
      "source": [
        "# This code will fail with an error because one of our books doesn't have an author\n",
        "\n",
        "[book['author'] for book in books]"
      ]
    },
    {
      "cell_type": "code",
      "execution_count": null,
      "id": "53794083-cc09-4edb-b448-2ffb7e8495c2",
      "metadata": {
        "colab": {
          "base_uri": "https://localhost:8080/"
        },
        "id": "53794083-cc09-4edb-b448-2ffb7e8495c2",
        "outputId": "55e41401-2077-4cbd-9067-8321b96ea69e"
      },
      "outputs": [
        {
          "output_type": "execute_result",
          "data": {
            "text/plain": [
              "['Charles Dickens', 'Charles Dickens', None, 'Herman Melville']"
            ]
          },
          "metadata": {},
          "execution_count": 10
        }
      ],
      "source": [
        "# But this will work, because get() returns None\n",
        "\n",
        "[book.get('author') for book in books]"
      ]
    },
    {
      "cell_type": "code",
      "execution_count": null,
      "id": "b8e4b859-24f8-4016-8d74-c2cef226d049",
      "metadata": {
        "colab": {
          "base_uri": "https://localhost:8080/"
        },
        "id": "b8e4b859-24f8-4016-8d74-c2cef226d049",
        "outputId": "f5f5a27d-f3c1-411b-f0f0-7a8c3624b6cd"
      },
      "outputs": [
        {
          "output_type": "execute_result",
          "data": {
            "text/plain": [
              "['Charles Dickens', 'Charles Dickens', 'Herman Melville']"
            ]
          },
          "metadata": {},
          "execution_count": 11
        }
      ],
      "source": [
        "# And this variation will filter out the None\n",
        "\n",
        "[book.get('author') for book in books if book.get('author')]"
      ]
    },
    {
      "cell_type": "code",
      "execution_count": null,
      "id": "c44bb999-52b4-4dee-810b-8a400db8f25f",
      "metadata": {
        "colab": {
          "base_uri": "https://localhost:8080/"
        },
        "id": "c44bb999-52b4-4dee-810b-8a400db8f25f",
        "outputId": "11aef446-0eaf-405c-818a-26accf61c9f0"
      },
      "outputs": [
        {
          "output_type": "execute_result",
          "data": {
            "text/plain": [
              "{'Charles Dickens', 'Herman Melville'}"
            ]
          },
          "metadata": {},
          "execution_count": 12
        }
      ],
      "source": [
        "# And this version will convert it into a set, removing duplicates\n",
        "\n",
        "set([book.get('author') for book in books if book.get('author')])"
      ]
    },
    {
      "cell_type": "code",
      "execution_count": null,
      "id": "80a65156-6192-4bb4-b4e6-df3fdc933891",
      "metadata": {
        "colab": {
          "base_uri": "https://localhost:8080/"
        },
        "id": "80a65156-6192-4bb4-b4e6-df3fdc933891",
        "outputId": "01de059b-1f7a-4da5-8e87-810032ffb512"
      },
      "outputs": [
        {
          "output_type": "execute_result",
          "data": {
            "text/plain": [
              "{'Charles Dickens', 'Herman Melville'}"
            ]
          },
          "metadata": {},
          "execution_count": 13
        }
      ],
      "source": [
        "# And finally, this version is even nicer\n",
        "# curly braces creates a set, so this is a set comprehension\n",
        "\n",
        "{book.get('author') for book in books if book.get('author')}"
      ]
    },
    {
      "cell_type": "markdown",
      "id": "c100e5db-5438-4715-921c-3f7152f83f4a",
      "metadata": {
        "id": "c100e5db-5438-4715-921c-3f7152f83f4a"
      },
      "source": [
        "# Part 2: Generators\n",
        "\n",
        "We use Generators in the course because AI models can stream back results.\n",
        "\n",
        "If you've not used Generators before, please start with this excellent intro from ChatGPT:\n",
        "\n",
        "https://chatgpt.com/share/672faa6e-7dd0-8012-aae5-44fc0d0ec218\n",
        "\n",
        "In Python, generators are a special way to create iterators, which are objects you can loop through one element at a time. Generators make it easy to work with data one piece at a time, especially when you don’t want to load everything into memory at once.\n",
        "\n",
        "## Key Concepts\n",
        "\n",
        "**Generators** allow you to iterate over data without creating a complete list in memory. Instead, they produce values one at a time as you need them.\n",
        "\n",
        "**The `yield` keyword** is the core of a generator. When a function has `yield` instead of `return`, it becomes a generator function. Each time `yield` is called, it pauses the function, saving its state, and returns a value to the caller.\n",
        "\n",
        "**Lazy Evaluation**: Generators don’t calculate values until you actually need them, which saves memory.\n",
        "\n",
        "## Writing a Generator Function\n",
        "\n",
        "Here’s an example to illustrate how a generator function works.\n",
        "\n",
        "### Example 1: Simple Generator Function\n",
        "\n",
        "Let’s create a generator function that produces numbers from 1 to 5, one at a time.\n",
        "\n"
      ]
    },
    {
      "cell_type": "code",
      "source": [
        "def number_generator():\n",
        "    for i in range(1, 6):\n",
        "        yield i"
      ],
      "metadata": {
        "id": "0QqfOS6vu99q"
      },
      "id": "0QqfOS6vu99q",
      "execution_count": null,
      "outputs": []
    },
    {
      "cell_type": "markdown",
      "source": [
        "Notice the `yield i` line – this is what makes `number_generator()` a generator. When you call `yield`, Python pauses the function and saves the current state, and i is returned to the caller.\n",
        "\n",
        "### Using the Generator\n",
        "\n",
        "To use the generator, you can loop over it or call `next()` on it directly.\n",
        "\n"
      ],
      "metadata": {
        "id": "xLEZ8U9YvD4G"
      },
      "id": "xLEZ8U9YvD4G"
    },
    {
      "cell_type": "code",
      "source": [
        "# Create a generator\n",
        "gen = number_generator()\n",
        "\n",
        "# Use a loop to get values from the generator\n",
        "for number in gen:\n",
        "    print(number)"
      ],
      "metadata": {
        "colab": {
          "base_uri": "https://localhost:8080/"
        },
        "id": "eIT6RuZyvC_1",
        "outputId": "fa9cbd72-648c-4406-a19d-ac39050282c5"
      },
      "id": "eIT6RuZyvC_1",
      "execution_count": null,
      "outputs": [
        {
          "output_type": "stream",
          "name": "stdout",
          "text": [
            "1\n",
            "2\n",
            "3\n",
            "4\n",
            "5\n"
          ]
        }
      ]
    },
    {
      "cell_type": "markdown",
      "source": [
        "### Explanation of the Output\n",
        "\n",
        "When the `for` loop starts, `gen` begins at the first value (1).\n",
        "\n",
        "It calls `yield` and outputs `1`, then pauses.\n",
        "\n",
        "Each time the loop continues, the generator resumes from where it left off, producing `2`, `3`, `4`, and finally `5`.\n",
        "\n",
        "After yielding `5`, the generator ends.\n",
        "\n",
        "### Using `next()` Directly\n",
        "\n",
        "Alternatively, you can call `next()` on the generator to get values one by one.\n"
      ],
      "metadata": {
        "id": "D5W9eu6mvTWa"
      },
      "id": "D5W9eu6mvTWa"
    },
    {
      "cell_type": "code",
      "source": [
        "gen = number_generator()\n",
        "print(next(gen))  # Output: 1\n",
        "print(next(gen))  # Output: 2\n",
        "# Keep calling next until you get a StopIteration error\n"
      ],
      "metadata": {
        "colab": {
          "base_uri": "https://localhost:8080/"
        },
        "id": "kEYdE4uRvSWT",
        "outputId": "84b89c19-7e5e-47ee-daec-79f3e8175cb6"
      },
      "id": "kEYdE4uRvSWT",
      "execution_count": null,
      "outputs": [
        {
          "output_type": "stream",
          "name": "stdout",
          "text": [
            "1\n",
            "2\n"
          ]
        }
      ]
    },
    {
      "cell_type": "markdown",
      "source": [
        "When the generator is exhausted, calling `next()` again raises a `StopIteration` exception.\n",
        "\n",
        "### Example 2: Infinite Generator\n",
        "\n",
        "Let’s say you want a generator that keeps producing numbers indefinitely."
      ],
      "metadata": {
        "id": "F7JZcIlhv4F9"
      },
      "id": "F7JZcIlhv4F9"
    },
    {
      "cell_type": "code",
      "source": [
        "def infinite_generator():\n",
        "    i = 1\n",
        "    while True:\n",
        "        yield i\n",
        "        i += 1\n",
        "\n",
        "# Using the generator\n",
        "gen = infinite_generator()\n",
        "print(next(gen))  # Output: 1\n",
        "print(next(gen))  # Output: 2\n",
        "# Keep calling `next(gen)` to get the next number in the sequence.\n"
      ],
      "metadata": {
        "colab": {
          "base_uri": "https://localhost:8080/"
        },
        "id": "gpz06XGev_Du",
        "outputId": "2c867ba5-f2b7-4314-8611-6fec855fcc03"
      },
      "id": "gpz06XGev_Du",
      "execution_count": null,
      "outputs": [
        {
          "output_type": "stream",
          "name": "stdout",
          "text": [
            "1\n",
            "2\n"
          ]
        }
      ]
    },
    {
      "cell_type": "markdown",
      "source": [
        "Since this generator doesn’t stop on its own, it’s called an **infinite generator**. You can use it for cases where you only want a part of the sequence, like generating data on-demand.\n",
        "\n",
        "### Benefits of Generators\n",
        "\n",
        "- **Memory Efficiency**: They don’t store all values in memory; they generate each value only when needed.\n",
        "\n",
        "- **Lazy Evaluation**: Ideal for large datasets, as they compute values only as required.\n",
        "\n",
        "- **Simplifies Code**: They’re a great way to handle sequences that are calculated on-the-fly without needing complex data structures.\n",
        "\n",
        "Generators are powerful for handling large or potentially infinite datasets efficiently and elegantly in Python."
      ],
      "metadata": {
        "id": "DFsfH0AHwGP4"
      },
      "id": "DFsfH0AHwGP4"
    },
    {
      "cell_type": "markdown",
      "source": [
        "Try pasting some of its examples into a cell."
      ],
      "metadata": {
        "id": "4Ycuxi3qv-Ew"
      },
      "id": "4Ycuxi3qv-Ew"
    },
    {
      "cell_type": "code",
      "execution_count": null,
      "id": "1efc26fa-9144-4352-9a17-dfec1d246aad",
      "metadata": {
        "id": "1efc26fa-9144-4352-9a17-dfec1d246aad"
      },
      "outputs": [],
      "source": [
        "# First define a generator; it looks like a function, but it has yield instead of return\n",
        "\n",
        "import time\n",
        "\n",
        "def come_up_with_fruit_names():\n",
        "    for fruit in fruits:\n",
        "        time.sleep(1) # thinking of a fruit\n",
        "        yield fruit"
      ]
    },
    {
      "cell_type": "code",
      "execution_count": null,
      "id": "eac338bb-285c-45c8-8a3e-dbfc41409ca3",
      "metadata": {
        "colab": {
          "base_uri": "https://localhost:8080/"
        },
        "id": "eac338bb-285c-45c8-8a3e-dbfc41409ca3",
        "outputId": "218926be-fec1-4e18-e757-7632e62695c6"
      },
      "outputs": [
        {
          "output_type": "stream",
          "name": "stdout",
          "text": [
            "Apples\n",
            "Bananas\n",
            "Pears\n"
          ]
        }
      ],
      "source": [
        "# Then use it\n",
        "\n",
        "for fruit in come_up_with_fruit_names():\n",
        "    print(fruit)"
      ]
    },
    {
      "cell_type": "code",
      "execution_count": null,
      "id": "f6880578-a3de-4502-952a-4572b95eb9ff",
      "metadata": {
        "id": "f6880578-a3de-4502-952a-4572b95eb9ff"
      },
      "outputs": [],
      "source": [
        "# Here's another one\n",
        "\n",
        "def authors_generator():\n",
        "    for book in books:\n",
        "        if book.get(\"author\"):\n",
        "            yield book.get(\"author\")"
      ]
    },
    {
      "cell_type": "code",
      "execution_count": null,
      "id": "9e316f02-f87f-441d-a01f-024ade949607",
      "metadata": {
        "colab": {
          "base_uri": "https://localhost:8080/"
        },
        "id": "9e316f02-f87f-441d-a01f-024ade949607",
        "outputId": "1576aff9-c70e-4458-a3ee-0ede69af0dfd"
      },
      "outputs": [
        {
          "output_type": "stream",
          "name": "stdout",
          "text": [
            "Charles Dickens\n",
            "Charles Dickens\n",
            "Herman Melville\n"
          ]
        }
      ],
      "source": [
        "# Use it\n",
        "\n",
        "for author in authors_generator():\n",
        "    print(author)"
      ]
    },
    {
      "cell_type": "code",
      "execution_count": null,
      "id": "7535c9d0-410e-4e56-a86c-ae6c0e16053f",
      "metadata": {
        "id": "7535c9d0-410e-4e56-a86c-ae6c0e16053f"
      },
      "outputs": [],
      "source": [
        "# Here's the same thing written with list comprehension\n",
        "\n",
        "def authors_generator():\n",
        "    for author in [book.get(\"author\") for book in books if book.get(\"author\")]:\n",
        "        yield author"
      ]
    },
    {
      "cell_type": "code",
      "execution_count": null,
      "id": "dad34494-0f6c-4edb-b03f-b8d49ee186f2",
      "metadata": {
        "colab": {
          "base_uri": "https://localhost:8080/"
        },
        "id": "dad34494-0f6c-4edb-b03f-b8d49ee186f2",
        "outputId": "cba7e2af-c6d5-4843-d94d-04a359245bee"
      },
      "outputs": [
        {
          "output_type": "stream",
          "name": "stdout",
          "text": [
            "Charles Dickens\n",
            "Charles Dickens\n",
            "Herman Melville\n"
          ]
        }
      ],
      "source": [
        "# Use it\n",
        "\n",
        "for author in authors_generator():\n",
        "    print(author)"
      ]
    },
    {
      "cell_type": "code",
      "execution_count": null,
      "id": "abeb7e61-d8aa-4af0-b05a-ae17323e678c",
      "metadata": {
        "id": "abeb7e61-d8aa-4af0-b05a-ae17323e678c"
      },
      "outputs": [],
      "source": [
        "# Here's a nice shortcut\n",
        "# You can use \"yield from\" to yield each item of an iterable\n",
        "\n",
        "def authors_generator():\n",
        "    yield from [book.get(\"author\") for book in books if book.get(\"author\")]"
      ]
    },
    {
      "cell_type": "code",
      "execution_count": null,
      "id": "05b0cb43-aa83-4762-a797-d3beb0f22c44",
      "metadata": {
        "colab": {
          "base_uri": "https://localhost:8080/"
        },
        "id": "05b0cb43-aa83-4762-a797-d3beb0f22c44",
        "outputId": "015d62e7-0621-4f4a-bd98-dbc267492266"
      },
      "outputs": [
        {
          "output_type": "stream",
          "name": "stdout",
          "text": [
            "Charles Dickens\n",
            "Charles Dickens\n",
            "Herman Melville\n"
          ]
        }
      ],
      "source": [
        "# Use it\n",
        "\n",
        "for author in authors_generator():\n",
        "    print(author)"
      ]
    },
    {
      "cell_type": "code",
      "execution_count": null,
      "id": "fdfea58e-d809-4dd4-b7b0-c26427f8be55",
      "metadata": {
        "id": "fdfea58e-d809-4dd4-b7b0-c26427f8be55"
      },
      "outputs": [],
      "source": [
        "# And finally - we can replace the list comprehension with a set comprehension\n",
        "\n",
        "def unique_authors_generator():\n",
        "    yield from {book.get(\"author\") for book in books if book.get(\"author\")}"
      ]
    },
    {
      "cell_type": "code",
      "execution_count": null,
      "id": "3e821d08-97be-4db9-9a5b-ce5dced3eff8",
      "metadata": {
        "colab": {
          "base_uri": "https://localhost:8080/"
        },
        "id": "3e821d08-97be-4db9-9a5b-ce5dced3eff8",
        "outputId": "ca33592a-e774-47de-df42-a277d56282f7"
      },
      "outputs": [
        {
          "output_type": "stream",
          "name": "stdout",
          "text": [
            "Charles Dickens\n",
            "Herman Melville\n"
          ]
        }
      ],
      "source": [
        "# Use it\n",
        "\n",
        "for author in unique_authors_generator():\n",
        "    print(author)"
      ]
    },
    {
      "cell_type": "code",
      "execution_count": null,
      "id": "905ba603-15d8-4d01-9a79-60ec293d7ca1",
      "metadata": {
        "colab": {
          "base_uri": "https://localhost:8080/",
          "height": 213
        },
        "id": "905ba603-15d8-4d01-9a79-60ec293d7ca1",
        "outputId": "f2528edc-4a4c-4aca-adbd-71ed6aded5fe"
      },
      "outputs": [
        {
          "output_type": "stream",
          "name": "stdout",
          "text": [
            "You eat melodramatic bagpipes. You deny the existence of bewildered thermostats. I philosophize about pleasing thermostats. You juggle suspicious mustaches. They deny the existence of turqoise thermostats. I eat fluorescent wombats. I resent pretentious calculators. I misplace pretentious accordions. You misplace overripe wombats. You pontificate about festering walruses. We dramatically renounce fluorescent wombats. They misplace wobbly walruses. We conspire with overripe walruses. I detest suspicious wombats. I worship disheveled accordions. They philosophize about whimsical kumquats. I philosophize about whimsical calculators. They detest overripe calculators. You philosophize about turqoise turnips. I juggle bewildered turnips. We juggle whimsical calculators. We secretly collect turqoise turnips. You dramatically renounce bewildered mustaches. They resent festering monocles. I resent fluorescent thermostats. You tap dance on pretentious spreadsheets. I secretly co"
          ]
        },
        {
          "output_type": "error",
          "ename": "KeyboardInterrupt",
          "evalue": "",
          "traceback": [
            "\u001b[0;31m---------------------------------------------------------------------------\u001b[0m",
            "\u001b[0;31mKeyboardInterrupt\u001b[0m                         Traceback (most recent call last)",
            "\u001b[0;32m<ipython-input-29-ef942af5768b>\u001b[0m in \u001b[0;36m<cell line: 0>\u001b[0;34m()\u001b[0m\n\u001b[1;32m     24\u001b[0m \u001b[0;32mfor\u001b[0m \u001b[0mletter\u001b[0m \u001b[0;32min\u001b[0m \u001b[0minfinite_random_sentences\u001b[0m\u001b[0;34m(\u001b[0m\u001b[0;34m)\u001b[0m\u001b[0;34m:\u001b[0m\u001b[0;34m\u001b[0m\u001b[0;34m\u001b[0m\u001b[0m\n\u001b[1;32m     25\u001b[0m     \u001b[0mprint\u001b[0m\u001b[0;34m(\u001b[0m\u001b[0mletter\u001b[0m\u001b[0;34m,\u001b[0m \u001b[0mend\u001b[0m\u001b[0;34m=\u001b[0m\u001b[0;34m\"\"\u001b[0m\u001b[0;34m,\u001b[0m \u001b[0mflush\u001b[0m\u001b[0;34m=\u001b[0m\u001b[0;32mTrue\u001b[0m\u001b[0;34m)\u001b[0m\u001b[0;34m\u001b[0m\u001b[0;34m\u001b[0m\u001b[0m\n\u001b[0;32m---> 26\u001b[0;31m     \u001b[0mtime\u001b[0m\u001b[0;34m.\u001b[0m\u001b[0msleep\u001b[0m\u001b[0;34m(\u001b[0m\u001b[0;36m0.02\u001b[0m\u001b[0;34m)\u001b[0m\u001b[0;34m\u001b[0m\u001b[0;34m\u001b[0m\u001b[0m\n\u001b[0m",
            "\u001b[0;31mKeyboardInterrupt\u001b[0m: "
          ]
        }
      ],
      "source": [
        "# And for some fun - press the stop button in the toolbar when bored!\n",
        "# It's like we've made our own Large Language Model... although not particularly large..\n",
        "# See if you understand why it prints a letter at a time, instead of a word at a time. If you're unsure, try removing the keyword \"from\" everywhere in the code.\n",
        "\n",
        "import random\n",
        "import time\n",
        "\n",
        "pronouns = [\"I\", \"You\", \"We\", \"They\"]\n",
        "verbs = [\"eat\", \"detest\", \"bathe in\", \"deny the existence of\", \"resent\", \"pontificate about\", \"juggle\", \"impersonate\", \"worship\", \"misplace\", \"conspire with\", \"philosophize about\", \"tap dance on\", \"dramatically renounce\", \"secretly collect\"]\n",
        "adjectives = [\"turqoise\", \"smelly\", \"arrogant\", \"festering\", \"pleasing\", \"whimsical\", \"disheveled\", \"pretentious\", \"wobbly\", \"melodramatic\", \"pompous\", \"fluorescent\", \"bewildered\", \"suspicious\", \"overripe\"]\n",
        "nouns = [\"turnips\", \"rodents\", \"eels\", \"walruses\", \"kumquats\", \"monocles\", \"spreadsheets\", \"bagpipes\", \"wombats\", \"accordions\", \"mustaches\", \"calculators\", \"jellyfish\", \"thermostats\"]\n",
        "\n",
        "def infinite_random_sentences():\n",
        "    while True:\n",
        "        yield from random.choice(pronouns)\n",
        "        yield \" \"\n",
        "        yield from random.choice(verbs)\n",
        "        yield \" \"\n",
        "        yield from random.choice(adjectives)\n",
        "        yield \" \"\n",
        "        yield from random.choice(nouns)\n",
        "        yield \". \"\n",
        "\n",
        "for letter in infinite_random_sentences():\n",
        "    print(letter, end=\"\", flush=True)\n",
        "    time.sleep(0.02)"
      ]
    },
    {
      "cell_type": "markdown",
      "id": "04832ea2-2447-4473-a449-104f80e24d85",
      "metadata": {
        "id": "04832ea2-2447-4473-a449-104f80e24d85"
      },
      "source": [
        "# Exercise\n",
        "\n",
        "Write some python classes for the books example.\n",
        "\n",
        "Write a Book class with a title and author. Include a method has_author()\n",
        "\n",
        "Write a BookShelf class with a list of books. Include a generator method unique_authors()"
      ]
    },
    {
      "cell_type": "code",
      "source": [
        "# Book class with title, author, and has_author() method\n",
        "class Book:\n",
        "    def __init__(self, title: str, author: str = None):\n",
        "        self.title = title\n",
        "        self.author = author\n",
        "\n",
        "    def has_author(self) -> bool:\n",
        "        return self.author is not None\n",
        "\n",
        "# BookShelf class with a list of books and a generator for unique authors\n",
        "class BookShelf:\n",
        "    def __init__(self, books: list):\n",
        "        self.books = books\n",
        "\n",
        "    def unique_authors(self):\n",
        "        yield from {book.author for book in self.books if book.has_author()}\n",
        "\n",
        "# Example usage:\n",
        "books = [\n",
        "    Book(\"Great Expectations\", \"Charles Dickens\"),\n",
        "    Book(\"Bleak House\", \"Charles Dickens\"),\n",
        "    Book(\"An Book By No Author\"),\n",
        "    Book(\"Moby Dick\", \"Herman Melville\")\n",
        "]\n",
        "\n",
        "shelf = BookShelf(books)\n",
        "for author in shelf.unique_authors():\n",
        "    print(author)"
      ],
      "metadata": {
        "colab": {
          "base_uri": "https://localhost:8080/"
        },
        "id": "5Qi0mucDGFpF",
        "outputId": "570018e5-294e-4eaa-dcf5-e7493310d215"
      },
      "id": "5Qi0mucDGFpF",
      "execution_count": null,
      "outputs": [
        {
          "output_type": "stream",
          "name": "stdout",
          "text": [
            "Charles Dickens\n",
            "Herman Melville\n"
          ]
        }
      ]
    },
    {
      "cell_type": "markdown",
      "id": "35760406-fe6c-41f9-b0c0-3e8cf73aafd0",
      "metadata": {
        "id": "35760406-fe6c-41f9-b0c0-3e8cf73aafd0"
      },
      "source": [
        "# Part 3: Sub-classes, Type Hints, Pydantic\n",
        "\n",
        "Here are some intermediate level details of Classes from our AI friend, including use of type hints, inheritance and class methods. This includes a Book example.\n",
        "\n",
        "https://chatgpt.com/share/67348aca-65fc-8012-a4a9-fd1b8f04ba59\n",
        "\n",
        "For someone already familiar with the basics of Python classes, let's dive into some advanced concepts: type hints in class definitions, creating and using subclasses, and implementing class methods.\n",
        "\n",
        "## 1. Type Hints in Class Variables\n",
        "\n",
        "In Python, type hints help specify the expected type of a variable, which makes code more readable and assists IDEs and linters in catching type-related issues. They’re especially useful in larger codebases where it’s helpful to know the types of variables that a class should hold.\n",
        "\n",
        "For example:\n",
        "\n"
      ]
    },
    {
      "cell_type": "code",
      "source": [
        "class Book:\n",
        "    title: str\n",
        "    author: str"
      ],
      "metadata": {
        "id": "iai6n3PrQr-w"
      },
      "id": "iai6n3PrQr-w",
      "execution_count": null,
      "outputs": []
    },
    {
      "cell_type": "markdown",
      "source": [
        "Here, `title` and `author` are annotated with `str`, indicating that these attributes are expected to be strings. However, type hints don’t enforce the types at runtime. They are mainly a guideline for developers and tools. You’d still need to assign the values, typically in `__init__`, like so:\n"
      ],
      "metadata": {
        "id": "BZuzgUziQtAA"
      },
      "id": "BZuzgUziQtAA"
    },
    {
      "cell_type": "code",
      "source": [
        "class Book:\n",
        "    title: str\n",
        "    author: str\n",
        "\n",
        "    def __init__(self, title: str, author: str):\n",
        "        self.title = title\n",
        "        self.author = author\n"
      ],
      "metadata": {
        "id": "B2l3EHYuTROj"
      },
      "id": "B2l3EHYuTROj",
      "execution_count": null,
      "outputs": []
    },
    {
      "cell_type": "markdown",
      "source": [
        "Adding type hints helps you keep track of expected types and can help IDEs provide more intelligent code completion and debugging assistance.\n",
        "\n",
        "### Advanced Usage: Optional and Union Type Hints\n",
        "\n",
        "Type hints can get more sophisticated with `Optional` and `Union`. For example, if an attribute might be `None`, you can hint that with `Optional`:\n",
        "\n"
      ],
      "metadata": {
        "id": "DjOgPJZVTbTG"
      },
      "id": "DjOgPJZVTbTG"
    },
    {
      "cell_type": "code",
      "source": [
        "from typing import Optional\n",
        "\n",
        "class Book:\n",
        "    title: str\n",
        "    author: Optional[str] = None  # Author might not be known at first"
      ],
      "metadata": {
        "id": "c4vTqYDBTjtf"
      },
      "id": "c4vTqYDBTjtf",
      "execution_count": null,
      "outputs": []
    },
    {
      "cell_type": "markdown",
      "source": [
        "Or, if it could be multiple types, you use `Union`:\n"
      ],
      "metadata": {
        "id": "Xlx_J7ART63P"
      },
      "id": "Xlx_J7ART63P"
    },
    {
      "cell_type": "code",
      "source": [
        "from typing import Union\n",
        "\n",
        "class Book:\n",
        "    title: str\n",
        "    year_published: Union[int, str]  # year_published could be 'Unknown' or an int"
      ],
      "metadata": {
        "id": "Rmh548d2T6fP"
      },
      "id": "Rmh548d2T6fP",
      "execution_count": null,
      "outputs": []
    },
    {
      "cell_type": "markdown",
      "source": [
        "## 2. Subclasses\n",
        "\n",
        "Subclasses allow you to create a class that inherits attributes and methods from another class. This is a form of polymorphism, where the subclass can either inherit or override behavior from the parent (or \"superclass\"). It’s useful when you want to build on existing functionality.\n",
        "\n",
        "Here's an example using `Book` as the base class:\n"
      ],
      "metadata": {
        "id": "yoKX_hyyUJtn"
      },
      "id": "yoKX_hyyUJtn"
    },
    {
      "cell_type": "code",
      "source": [
        "class Book:\n",
        "    def __init__(self, title: str, author: str):\n",
        "        self.title = title\n",
        "        self.author = author\n",
        "\n",
        "    def get_description(self) -> str:\n",
        "        return f\"'{self.title}' by {self.author}\"\n",
        "\n",
        "# Subclass for eBooks\n",
        "class EBook(Book):\n",
        "    def __init__(self, title: str, author: str, file_format: str):\n",
        "        super().__init__(title, author)  # Initialize attributes from Book\n",
        "        self.file_format = file_format\n",
        "\n",
        "    def get_description(self) -> str:\n",
        "        # Overriding the parent class method\n",
        "        return f\"'{self.title}' by {self.author} (format: {self.file_format})\""
      ],
      "metadata": {
        "id": "U7tBRy24Uaan"
      },
      "id": "U7tBRy24Uaan",
      "execution_count": null,
      "outputs": []
    },
    {
      "cell_type": "markdown",
      "source": [
        "In this example:\n",
        "\n",
        "`EBook` is a subclass of `Book`.\n",
        "\n",
        "We call `super().__init__(title, author)` to initialize the title and author properties from the `Book` class.\n",
        "\n",
        "`EBook` also adds a new attribute, `file_format`, and overrides `get_description()` to include information about the file format.\n",
        "\n",
        "Subclasses can override methods in the superclass to provide specific functionality, as shown with `get_description()`.\n",
        "\n",
        "## 3. Class Methods\n",
        "\n",
        "Class methods are methods that belong to the class itself, rather than any instance of the class. They are defined using the `@classmethod` decorator and take `cls` (representing the class) as their first parameter instead of `self` (representing the instance). Class methods are commonly used for factory methods—alternative constructors that return a new instance of the class with specific attributes set.\n",
        "\n",
        "Here’s how class methods work:\n"
      ],
      "metadata": {
        "id": "fezH7phpUiZH"
      },
      "id": "fezH7phpUiZH"
    },
    {
      "cell_type": "code",
      "source": [
        "from typing import List\n",
        "\n",
        "class Book:\n",
        "    title: str\n",
        "    author: str\n",
        "\n",
        "    def __init__(self, title: str, author: str):\n",
        "        self.title = title\n",
        "        self.author = author\n",
        "\n",
        "    def get_description(self) -> str:\n",
        "        return f\"'{self.title}' by {self.author}\"\n",
        "\n",
        "    @classmethod\n",
        "    def create_multiple(cls, titles_and_authors: List[tuple]) -> List['Book']:\n",
        "        \"\"\"Class method that returns a list of Book instances from a list of title-author pairs.\"\"\"\n",
        "        return [cls(title, author) for title, author in titles_and_authors]\n"
      ],
      "metadata": {
        "id": "DkHCM6XLU8HU"
      },
      "id": "DkHCM6XLU8HU",
      "execution_count": null,
      "outputs": []
    },
    {
      "cell_type": "markdown",
      "source": [
        "In this example:\n",
        "\n",
        "`create_multiple` is a class method, indicated by the `@classmethod` decorator.\n",
        "\n",
        "It takes a list of title-author pairs and creates a list of `Book` instances.\n",
        "\n",
        "We use `cls` instead of `self`, meaning `cls` will refer to `Book` when this method is called on `Book`.\n",
        "\n",
        "To use the `create_multiple` class method:\n"
      ],
      "metadata": {
        "id": "86zO9LmsVDpB"
      },
      "id": "86zO9LmsVDpB"
    },
    {
      "cell_type": "code",
      "source": [
        "books = Book.create_multiple([(\"1984\", \"George Orwell\"), (\"Brave New World\", \"Aldous Huxley\")])\n",
        "for book in books:\n",
        "    print(book.get_description())"
      ],
      "metadata": {
        "id": "rKVWDqwhVCx8",
        "colab": {
          "base_uri": "https://localhost:8080/"
        },
        "outputId": "4ddebd90-2dbd-4eaa-ce55-a96c4fcee4e0"
      },
      "id": "rKVWDqwhVCx8",
      "execution_count": null,
      "outputs": [
        {
          "output_type": "stream",
          "name": "stdout",
          "text": [
            "'1984' by George Orwell\n",
            "'Brave New World' by Aldous Huxley\n"
          ]
        }
      ]
    },
    {
      "cell_type": "markdown",
      "source": [
        "### Putting It All Together\n",
        "\n",
        "Here’s a combined example that includes type hints, subclasses, and a class method:\n",
        "\n"
      ],
      "metadata": {
        "id": "mWXljP_1Voe3"
      },
      "id": "mWXljP_1Voe3"
    },
    {
      "cell_type": "code",
      "source": [
        "class LibraryItem:\n",
        "    title: str\n",
        "    year: int\n",
        "\n",
        "    def __init__(self, title: str, year: int):\n",
        "        self.title = title\n",
        "        self.year = year\n",
        "\n",
        "    def get_info(self) -> str:\n",
        "        return f\"{self.title} ({self.year})\"\n",
        "\n",
        "class Book(LibraryItem):\n",
        "    author: str\n",
        "\n",
        "    def __init__(self, title: str, year: int, author: str):\n",
        "        super().__init__(title, year)\n",
        "        self.author = author\n",
        "\n",
        "    def get_info(self) -> str:\n",
        "        return f\"'{self.title}' by {self.author} ({self.year})\"\n",
        "\n",
        "    @classmethod\n",
        "    def from_string(cls, info: str) -> 'Book':\n",
        "        title, author, year = info.split(', ')\n",
        "        return cls(title, int(year), author)\n",
        "\n",
        "# Using the class method and the subclass\n",
        "book = Book.from_string(\"The Catcher in the Rye, J.D. Salinger, 1951\")\n",
        "print(book.get_info())\n"
      ],
      "metadata": {
        "id": "chXObrZvVv6r",
        "colab": {
          "base_uri": "https://localhost:8080/"
        },
        "outputId": "ca1b65ea-2e4a-40c3-aabc-ff04d0010a04"
      },
      "id": "chXObrZvVv6r",
      "execution_count": null,
      "outputs": [
        {
          "output_type": "stream",
          "name": "stdout",
          "text": [
            "'The Catcher in the Rye' by J.D. Salinger (1951)\n"
          ]
        }
      ]
    },
    {
      "cell_type": "markdown",
      "source": [
        "This example demonstrates:\n",
        "\n",
        "- **Type hints** for class attributes.\n",
        "\n",
        "- **Inheritance** through the `LibraryItem` base class and `Book` subclass.\n",
        "\n",
        "- A **class method** `from_string` that creates a `Book` instance by parsing a string with title, author, and year information.\n",
        "\n",
        "### Summary\n",
        "\n",
        "- **Type Hints**: Annotate class variables for clarity and IDE support.\n",
        "\n",
        "- **Subclasses**: Extend and customize class behavior by creating child classes.\n",
        "\n",
        "- **Class Methods**: Provide alternative constructors or perform actions related to the class itself, rather than any specific instance."
      ],
      "metadata": {
        "id": "figlECc4V2si"
      },
      "id": "figlECc4V2si"
    },
    {
      "cell_type": "markdown",
      "id": "27e8eff5",
      "metadata": {
        "id": "27e8eff5"
      },
      "source": [
        "And here is a comprehensive tutorial on Pydantic classes covering everything you need to know about Pydantic.\n",
        "\n",
        "https://chatgpt.com/share/68064537-6cfc-8012-93e1-f7dd0932f321\n",
        "\n",
        "# 📘 Pydantic for Python Projects — A Self-Study Guide\n",
        "\n",
        "## ✅ Learning Goals\n",
        "\n",
        "By the end of this guide, you’ll be able to:\n",
        "\n",
        "- Understand what `pydantic` is and when to use it\n",
        "\n",
        "- Define custom data models with `BaseModel`\n",
        "\n",
        "- Use models to **parse**, **validate**, and **serialize** data\n",
        "\n",
        "- Work fluently with `json.loads()` and `json.dumps()` in combination with `Pydantic`\n",
        "\n",
        "- Practice working with structured data like JSON (used for LLM outputs!)\n",
        "\n",
        "##💡 What is Pydantic?\n",
        "\n",
        "Pydantic is a **data validation and settings management** library using Python type annotations.\n",
        "\n",
        "It’s built around the concept of defining **schemas** as Python classes. These schemas ensure the data **matches the expected types**, and optionally transforms or validates the data automatically.\n",
        "\n",
        "Think of it as:\n",
        "\n",
        "🔎 \"**I define what a piece of data should look like — Pydantic makes sure it does.**\"\n",
        "\n",
        "## 🧱 BaseModel: Your Schema Blueprint\n",
        "\n",
        "All Pydantic models inherit from `pydantic.BaseModel`. When you create a subclass of `BaseModel`, you define a data **schema**.\n",
        "\n"
      ]
    },
    {
      "cell_type": "code",
      "source": [
        "#uv pip install pydantic\n",
        "!pip install pydantic"
      ],
      "metadata": {
        "colab": {
          "base_uri": "https://localhost:8080/"
        },
        "id": "N2wx5QS3bxSV",
        "outputId": "07aa13f8-2f04-4c3a-fa0c-28458161e68a"
      },
      "id": "N2wx5QS3bxSV",
      "execution_count": null,
      "outputs": [
        {
          "output_type": "stream",
          "name": "stdout",
          "text": [
            "Requirement already satisfied: pydantic in /usr/local/lib/python3.11/dist-packages (2.11.4)\n",
            "Requirement already satisfied: annotated-types>=0.6.0 in /usr/local/lib/python3.11/dist-packages (from pydantic) (0.7.0)\n",
            "Requirement already satisfied: pydantic-core==2.33.2 in /usr/local/lib/python3.11/dist-packages (from pydantic) (2.33.2)\n",
            "Requirement already satisfied: typing-extensions>=4.12.2 in /usr/local/lib/python3.11/dist-packages (from pydantic) (4.13.2)\n",
            "Requirement already satisfied: typing-inspection>=0.4.0 in /usr/local/lib/python3.11/dist-packages (from pydantic) (0.4.1)\n"
          ]
        }
      ]
    },
    {
      "cell_type": "markdown",
      "source": [
        "### ✏️ Basic Example\n",
        "\n"
      ],
      "metadata": {
        "id": "IVGKTF3wbx6P"
      },
      "id": "IVGKTF3wbx6P"
    },
    {
      "cell_type": "code",
      "source": [
        "from pydantic import BaseModel\n",
        "\n",
        "class Book(BaseModel):\n",
        "    title: str\n",
        "    author: str\n",
        "    pages: int\n",
        "    published: bool = True  # Default value\n",
        "\n",
        "book = Book(title=\"1984\", author=\"George Orwell\", pages=328)\n",
        "print(book)"
      ],
      "metadata": {
        "colab": {
          "base_uri": "https://localhost:8080/"
        },
        "id": "R0gdqXggcNFE",
        "outputId": "751de355-a962-4b82-e806-b8d01bec7a02"
      },
      "id": "R0gdqXggcNFE",
      "execution_count": null,
      "outputs": [
        {
          "output_type": "stream",
          "name": "stdout",
          "text": [
            "title='1984' author='George Orwell' pages=328 published=True\n"
          ]
        }
      ]
    },
    {
      "cell_type": "markdown",
      "source": [
        "## 🧪 Validation and Type Coercion\n",
        "\n",
        "Pydantic validates types and even tries to **coerce** values when possible.\n",
        "\n"
      ],
      "metadata": {
        "id": "_FLYwRi1cMlU"
      },
      "id": "_FLYwRi1cMlU"
    },
    {
      "cell_type": "code",
      "source": [
        "book = Book(title=\"Dune\", author=\"Frank Herbert\", pages=\"412\")\n",
        "print(book.pages)  # int: 412, even though input was a string"
      ],
      "metadata": {
        "colab": {
          "base_uri": "https://localhost:8080/"
        },
        "id": "xnA9CUiHdheV",
        "outputId": "e67716fb-8f6c-409d-9aa0-604fce306e21"
      },
      "id": "xnA9CUiHdheV",
      "execution_count": null,
      "outputs": [
        {
          "output_type": "stream",
          "name": "stdout",
          "text": [
            "412\n"
          ]
        }
      ]
    },
    {
      "cell_type": "markdown",
      "source": [
        "If something *really* doesn’t match:\n"
      ],
      "metadata": {
        "id": "UK02iGFEdpfj"
      },
      "id": "UK02iGFEdpfj"
    },
    {
      "cell_type": "code",
      "source": [
        "Book(title=\"Dune\", author=\"Frank Herbert\", pages=\"not_a_number\")\n",
        "# raises ValidationError!"
      ],
      "metadata": {
        "colab": {
          "base_uri": "https://localhost:8080/",
          "height": 332
        },
        "id": "oU2J1wsyd5fL",
        "outputId": "1bb17d3e-8afb-456b-b710-53a23d04688a"
      },
      "id": "oU2J1wsyd5fL",
      "execution_count": null,
      "outputs": [
        {
          "output_type": "error",
          "ename": "ValidationError",
          "evalue": "1 validation error for Book\npages\n  Input should be a valid integer, unable to parse string as an integer [type=int_parsing, input_value='not_a_number', input_type=str]\n    For further information visit https://errors.pydantic.dev/2.11/v/int_parsing",
          "traceback": [
            "\u001b[0;31m---------------------------------------------------------------------------\u001b[0m",
            "\u001b[0;31mValidationError\u001b[0m                           Traceback (most recent call last)",
            "\u001b[0;32m<ipython-input-51-8a6a22797ef5>\u001b[0m in \u001b[0;36m<cell line: 0>\u001b[0;34m()\u001b[0m\n\u001b[0;32m----> 1\u001b[0;31m \u001b[0mBook\u001b[0m\u001b[0;34m(\u001b[0m\u001b[0mtitle\u001b[0m\u001b[0;34m=\u001b[0m\u001b[0;34m\"Dune\"\u001b[0m\u001b[0;34m,\u001b[0m \u001b[0mauthor\u001b[0m\u001b[0;34m=\u001b[0m\u001b[0;34m\"Frank Herbert\"\u001b[0m\u001b[0;34m,\u001b[0m \u001b[0mpages\u001b[0m\u001b[0;34m=\u001b[0m\u001b[0;34m\"not_a_number\"\u001b[0m\u001b[0;34m)\u001b[0m\u001b[0;34m\u001b[0m\u001b[0;34m\u001b[0m\u001b[0m\n\u001b[0m\u001b[1;32m      2\u001b[0m \u001b[0;31m# raises ValidationError!\u001b[0m\u001b[0;34m\u001b[0m\u001b[0;34m\u001b[0m\u001b[0m\n",
            "\u001b[0;32m/usr/local/lib/python3.11/dist-packages/pydantic/main.py\u001b[0m in \u001b[0;36m__init__\u001b[0;34m(self, **data)\u001b[0m\n\u001b[1;32m    251\u001b[0m         \u001b[0;31m# `__tracebackhide__` tells pytest and some other tools to omit this function from tracebacks\u001b[0m\u001b[0;34m\u001b[0m\u001b[0;34m\u001b[0m\u001b[0m\n\u001b[1;32m    252\u001b[0m         \u001b[0m__tracebackhide__\u001b[0m \u001b[0;34m=\u001b[0m \u001b[0;32mTrue\u001b[0m\u001b[0;34m\u001b[0m\u001b[0;34m\u001b[0m\u001b[0m\n\u001b[0;32m--> 253\u001b[0;31m         \u001b[0mvalidated_self\u001b[0m \u001b[0;34m=\u001b[0m \u001b[0mself\u001b[0m\u001b[0;34m.\u001b[0m\u001b[0m__pydantic_validator__\u001b[0m\u001b[0;34m.\u001b[0m\u001b[0mvalidate_python\u001b[0m\u001b[0;34m(\u001b[0m\u001b[0mdata\u001b[0m\u001b[0;34m,\u001b[0m \u001b[0mself_instance\u001b[0m\u001b[0;34m=\u001b[0m\u001b[0mself\u001b[0m\u001b[0;34m)\u001b[0m\u001b[0;34m\u001b[0m\u001b[0;34m\u001b[0m\u001b[0m\n\u001b[0m\u001b[1;32m    254\u001b[0m         \u001b[0;32mif\u001b[0m \u001b[0mself\u001b[0m \u001b[0;32mis\u001b[0m \u001b[0;32mnot\u001b[0m \u001b[0mvalidated_self\u001b[0m\u001b[0;34m:\u001b[0m\u001b[0;34m\u001b[0m\u001b[0;34m\u001b[0m\u001b[0m\n\u001b[1;32m    255\u001b[0m             warnings.warn(\n",
            "\u001b[0;31mValidationError\u001b[0m: 1 validation error for Book\npages\n  Input should be a valid integer, unable to parse string as an integer [type=int_parsing, input_value='not_a_number', input_type=str]\n    For further information visit https://errors.pydantic.dev/2.11/v/int_parsing"
          ]
        }
      ]
    },
    {
      "cell_type": "markdown",
      "source": [
        "## 🧠 Instantiating with **fields\n",
        "\n",
        "You can also instantiate objects from a dictionary:"
      ],
      "metadata": {
        "id": "IXCHRiSEeRqt"
      },
      "id": "IXCHRiSEeRqt"
    },
    {
      "cell_type": "code",
      "source": [
        "fields = {\n",
        "    \"title\": \"The Hobbit\",\n",
        "    \"author\": \"J.R.R. Tolkien\",\n",
        "    \"pages\": 310\n",
        "}\n",
        "\n",
        "book = Book(**fields)\n",
        "print(book)"
      ],
      "metadata": {
        "colab": {
          "base_uri": "https://localhost:8080/"
        },
        "id": "bnoHwAsWeeBt",
        "outputId": "ee474637-147b-4237-b105-8010bb3f46d2"
      },
      "id": "bnoHwAsWeeBt",
      "execution_count": null,
      "outputs": [
        {
          "output_type": "stream",
          "name": "stdout",
          "text": [
            "title='The Hobbit' author='J.R.R. Tolkien' pages=310 published=True\n"
          ]
        }
      ]
    },
    {
      "cell_type": "markdown",
      "source": [
        "## 🧾 From and To JSON\n",
        "\n",
        "🔄 `model_dump()` for dict representation\n"
      ],
      "metadata": {
        "id": "8UmJkbPhetnR"
      },
      "id": "8UmJkbPhetnR"
    },
    {
      "cell_type": "code",
      "source": [
        "print(book.model_dump())"
      ],
      "metadata": {
        "colab": {
          "base_uri": "https://localhost:8080/"
        },
        "id": "IIzw5VY9e88Y",
        "outputId": "90c410dc-21d9-4fa8-e1fe-477da3d4750a"
      },
      "id": "IIzw5VY9e88Y",
      "execution_count": null,
      "outputs": [
        {
          "output_type": "stream",
          "name": "stdout",
          "text": [
            "{'title': 'Dune', 'author': 'Frank Herbert', 'pages': 412, 'published': True}\n"
          ]
        }
      ]
    },
    {
      "cell_type": "markdown",
      "source": [
        "📤 `model_dump_json()`\n",
        "\n",
        "To convert your model to a JSON string:\n",
        "\n"
      ],
      "metadata": {
        "id": "PrLN6EbsfKnM"
      },
      "id": "PrLN6EbsfKnM"
    },
    {
      "cell_type": "code",
      "source": [
        "print(book.model_dump_json())"
      ],
      "metadata": {
        "colab": {
          "base_uri": "https://localhost:8080/"
        },
        "id": "3Evmun93fdrB",
        "outputId": "1d0482b5-a0da-4c2f-b9d1-12c56036469c"
      },
      "id": "3Evmun93fdrB",
      "execution_count": null,
      "outputs": [
        {
          "output_type": "stream",
          "name": "stdout",
          "text": [
            "{\"title\":\"Dune\",\"author\":\"Frank Herbert\",\"pages\":412,\"published\":true}\n"
          ]
        }
      ]
    },
    {
      "cell_type": "markdown",
      "source": [
        "Or use the standard `json` module:\n"
      ],
      "metadata": {
        "id": "lTuG_n0UfemV"
      },
      "id": "lTuG_n0UfemV"
    },
    {
      "cell_type": "code",
      "source": [
        "import json\n",
        "json_string = json.dumps(book.model_dump())\n",
        "print(json_string)"
      ],
      "metadata": {
        "colab": {
          "base_uri": "https://localhost:8080/"
        },
        "id": "V8nvQlTaf69O",
        "outputId": "4732490f-2df0-44ca-f233-3959ffaa4657"
      },
      "id": "V8nvQlTaf69O",
      "execution_count": null,
      "outputs": [
        {
          "output_type": "stream",
          "name": "stdout",
          "text": [
            "{\"title\": \"Dune\", \"author\": \"Frank Herbert\", \"pages\": 412, \"published\": true}\n"
          ]
        }
      ]
    },
    {
      "cell_type": "markdown",
      "source": [
        "##📥 Loading from JSON\n"
      ],
      "metadata": {
        "id": "LgIUv8tHgLo9"
      },
      "id": "LgIUv8tHgLo9"
    },
    {
      "cell_type": "code",
      "source": [
        "json_string = '{\"title\": \"Frankenstein\", \"author\": \"Mary Shelley\", \"pages\": 280}'\n",
        "data = json.loads(json_string)\n",
        "book = Book(**data)"
      ],
      "metadata": {
        "id": "rQeUnWz9gNhk"
      },
      "id": "rQeUnWz9gNhk",
      "execution_count": null,
      "outputs": []
    },
    {
      "cell_type": "markdown",
      "source": [
        "## 🧱 Nested Models\n",
        "\n",
        "You can compose models:"
      ],
      "metadata": {
        "id": "mcuJ3VkngVNT"
      },
      "id": "mcuJ3VkngVNT"
    },
    {
      "cell_type": "code",
      "source": [
        "class Author(BaseModel):\n",
        "    name: str\n",
        "    birth_year: int\n",
        "\n",
        "class Book(BaseModel):\n",
        "    title: str\n",
        "    author: Author\n",
        "    pages: int\n",
        "\n",
        "a = Author(name=\"Isaac Asimov\", birth_year=1920)\n",
        "b = Book(title=\"Foundation\", author=a, pages=255)\n",
        "print(b)"
      ],
      "metadata": {
        "colab": {
          "base_uri": "https://localhost:8080/"
        },
        "id": "bcBqLNz1gXEd",
        "outputId": "1c5c628e-284b-41ed-e5e6-71da69d08abc"
      },
      "id": "bcBqLNz1gXEd",
      "execution_count": null,
      "outputs": [
        {
          "output_type": "stream",
          "name": "stdout",
          "text": [
            "title='Foundation' author=Author(name='Isaac Asimov', birth_year=1920) pages=255\n"
          ]
        }
      ]
    },
    {
      "cell_type": "markdown",
      "source": [
        "You can also build from nested dicts:"
      ],
      "metadata": {
        "id": "3l175PBGghmP"
      },
      "id": "3l175PBGghmP"
    },
    {
      "cell_type": "code",
      "source": [
        "data = {\n",
        "    \"title\": \"Neuromancer\",\n",
        "    \"author\": {\n",
        "        \"name\": \"William Gibson\",\n",
        "        \"birth_year\": 1948\n",
        "    },\n",
        "    \"pages\": 271\n",
        "}\n",
        "\n",
        "b = Book(**data)\n",
        "print(b)"
      ],
      "metadata": {
        "colab": {
          "base_uri": "https://localhost:8080/"
        },
        "id": "7AaUd0_igjHP",
        "outputId": "0e1fdb0a-2ebb-4660-f7fc-b65ab8fa6116"
      },
      "id": "7AaUd0_igjHP",
      "execution_count": null,
      "outputs": [
        {
          "output_type": "stream",
          "name": "stdout",
          "text": [
            "title='Neuromancer' author=Author(name='William Gibson', birth_year=1948) pages=271\n"
          ]
        }
      ]
    },
    {
      "cell_type": "markdown",
      "source": [
        "## 🛠 Common Use Cases (in your course)\n",
        "\n",
        "1. **Structured Outputs with LLMs**\n",
        "\n",
        "  When you parse text responses from LLMs into structured objects.\n",
        "\n",
        "2. **Schemas for API responses / requests**\n",
        "\n",
        "  Model the shape of JSON input/output.\n",
        "\n",
        "3. **Validation of user input**\n",
        "\n",
        "  Before storing or using it in an application.\n",
        "\n"
      ],
      "metadata": {
        "id": "K9JStZ6bf6cI"
      },
      "id": "K9JStZ6bf6cI"
    },
    {
      "cell_type": "markdown",
      "source": [
        "## 🏋️‍♀️ Practice Exercises\n",
        "\n",
        "1. Create a `Movie` model\n",
        "\n",
        "  Define a model with fields:\n",
        "\n",
        "  - `title` (str)\n",
        "\n",
        "  - `year` (int)\n",
        "\n",
        "  - `genres` (list of str)\n",
        "\n",
        "  - `duration_minutes` (int)\n",
        "\n",
        "  - `rating` (float, default to 5.0)\n",
        "\n",
        "  Instantiate it using a dictionary.\n",
        "\n",
        "2. Parse from JSON\n",
        "\n",
        "  Write a JSON string for a `Movie`, load it with `json.loads()`, and parse it into a Pydantic model.\n",
        "\n",
        "3. Use nested models\n",
        "\n",
        "  Create models `Director(name: str, born: int)` and `Movie(title: str, director: Director)`.\n",
        "\n",
        "  Parse a nested dictionary into a `Movie`.\n",
        "\n",
        "4. Write a function\n",
        "\n",
        "  Write a function `def summarize(book: Book) -> str:` that returns a string summary of a book object.\n",
        "\n",
        "5. Bonus: Validation\n",
        "\n",
        "  Use `conint`, `constr`, or `Field` to enforce rules like:\n",
        "\n",
        "  - Minimum rating: 0.0\n",
        "\n",
        "  - Maximum rating: 10.0\n",
        "\n",
        "  - Max length for title: 100 characters\n",
        "\n",
        "  ```python\n",
        "  from pydantic import Field\n",
        "\n",
        "  class Movie(BaseModel):\n",
        "      title: str = Field(..., max_length=100)\n",
        "      rating: float = Field(..., ge=0.0, le=10.0)\n",
        "  ```\n",
        "\n"
      ],
      "metadata": {
        "id": "X_J54W8dg6Rg"
      },
      "id": "X_J54W8dg6Rg"
    },
    {
      "cell_type": "code",
      "source": [
        "from pydantic import BaseModel, Field, conint, constr\n",
        "from typing import List\n",
        "import json\n",
        "\n",
        "# 1. Movie model with validation\n",
        "class Movie(BaseModel):\n",
        "    title: str = constr(max_length=100)\n",
        "    year: int = conint(ge=1800, le=2100)\n",
        "    genres: List[str]\n",
        "    duration_minutes: int\n",
        "    rating: float = Field(default=5.0, ge=0.0, le=10.0)\n",
        "\n",
        "# Instantiate using a dictionary\n",
        "movie_dict = {\n",
        "    \"title\": \"Inception\",\n",
        "    \"year\": 2010,\n",
        "    \"genres\": [\"Action\", \"Sci-Fi\"],\n",
        "    \"duration_minutes\": 148,\n",
        "    \"rating\": 8.8\n",
        "}\n",
        "movie = Movie(**movie_dict)\n",
        "print(movie)\n",
        "\n",
        "# 2. Parse from JSON\n",
        "movie_json = '{\"title\": \"The Matrix\", \"year\": 1999, \"genres\": [\"Action\", \"Sci-Fi\"], \"duration_minutes\": 136, \"rating\": 8.7}'\n",
        "# data = json.loads(movie_json)\n",
        "# movie2 = Movie(**data)\n",
        "movie2 = Movie(**json.loads(movie_json))\n",
        "print(movie2)\n",
        "\n",
        "# 3. Nested models: Director and Movie\n",
        "class Director(BaseModel):\n",
        "    name: str\n",
        "    born: int\n",
        "\n",
        "class MovieWithDirector(BaseModel):\n",
        "    title: str\n",
        "    director: Director\n",
        "\n",
        "nested_dict = {\n",
        "    \"title\": \"Jurassic Park\",\n",
        "    \"director\": {\n",
        "        \"name\": \"Steven Spielberg\",\n",
        "        \"born\": 1946\n",
        "    }\n",
        "}\n",
        "movie3 = MovieWithDirector(**nested_dict)\n",
        "print(movie3)\n",
        "\n",
        "# 4. Summarize function\n",
        "def summarize(book) -> str:\n",
        "    return f\"'{book.title}' by {book.author}\"\n",
        "\n",
        "# Example Book model for summarize\n",
        "class Book(BaseModel):\n",
        "    title: str\n",
        "    author: Optional[str] = \"Unknown\"\n",
        "\n",
        "book = Book(title=\"1984\", author=\"George Orwell\")\n",
        "print(summarize(book))\n",
        "\n",
        "# 5. Bonus: Validation already shown above with Field and constr\n",
        "try:\n",
        "    bad_movie = Movie(title=\"A\"*101, year=2020, genres=[\"Drama\"], duration_minutes=120, rating=11.0)\n",
        "except Exception as e:\n",
        "    print(\"Validation error:\", e)"
      ],
      "metadata": {
        "colab": {
          "base_uri": "https://localhost:8080/"
        },
        "id": "1uYXhrMKjOKd",
        "outputId": "5c1258a3-e7c4-4686-cb66-8e986320cf2d"
      },
      "id": "1uYXhrMKjOKd",
      "execution_count": null,
      "outputs": [
        {
          "output_type": "stream",
          "name": "stdout",
          "text": [
            "title='Inception' year=2010 genres=['Action', 'Sci-Fi'] duration_minutes=148 rating=8.8\n",
            "title='The Matrix' year=1999 genres=['Action', 'Sci-Fi'] duration_minutes=136 rating=8.7\n",
            "title='Jurassic Park' director=Director(name='Steven Spielberg', born=1946)\n",
            "'1984' by Unknown\n",
            "Validation error: 1 validation error for Movie\n",
            "rating\n",
            "  Input should be less than or equal to 10 [type=less_than_equal, input_value=11.0, input_type=float]\n",
            "    For further information visit https://errors.pydantic.dev/2.11/v/less_than_equal\n"
          ]
        }
      ]
    },
    {
      "cell_type": "markdown",
      "source": [
        "##🧼 Best Practices\n",
        "\n",
        "- Always use `.model_dump()` rather than accessing `.dict()` (which is deprecated in v2).\n",
        "\n",
        "- Use type hints thoughtfully. Pydantic will **enforce** them.\n",
        "\n",
        "- Use default values or `Optional[...]` to handle missing fields.\n",
        "\n",
        "- Catch `ValidationError` when working with untrusted data (like LLM responses).\n"
      ],
      "metadata": {
        "id": "PWc-e-MHg6ks"
      },
      "id": "PWc-e-MHg6ks"
    },
    {
      "cell_type": "markdown",
      "source": [
        "\n",
        "##📎 Pro Tip for LLMs\n",
        "\n",
        "- Use `.model_dump()` when feeding structured examples back into LLM prompts.\n",
        "\n",
        "- Use `.model_construct()` if you need to skip validation (not recommended unless you know why!)."
      ],
      "metadata": {
        "id": "MBZff7Bxg68Z"
      },
      "id": "MBZff7Bxg68Z"
    },
    {
      "cell_type": "markdown",
      "id": "6bbc9c63",
      "metadata": {
        "id": "6bbc9c63"
      },
      "source": [
        "## Part 4: Decorators\n",
        "\n",
        "Here is a briefing, with an example from OpenAI Agents SDK:\n",
        "\n",
        "https://chatgpt.com/share/6806474d-3880-8012-b2a2-87b3ee4489da\n",
        "\n",
        "# Python Decorators: A Comprehensive Guide for Intermediate Learners\n",
        "\n",
        "This tutorial is designed for students with foundational Python skills aiming to deepen their understanding of decorators. It covers:\n",
        "\n",
        "1. **Defining a Decorator**: Understanding its purpose and usage.\n",
        "\n",
        "2. **Simple Examples**: Exploring `@classmethod` and `@staticmethod`.\n",
        "\n",
        "3. **Advanced Example**: Utilizing `@function_tool` from the OpenAI Agents SDK.\n",
        "\n",
        "4. **Behind the Scenes**: Creating custom decorators and understanding their mechanics.\n",
        "\n",
        "## Part 1: Defining a Decorator\n",
        "\n",
        "### What Is a Decorator?\n",
        "\n",
        "In Python, a decorator is a function that modifies the behavior of another function or method. It allows for the addition of functionality to existing code in a clean and readable manner without altering the original function's structure.\n",
        "\n",
        "### Why Use Decorators?\n",
        "\n",
        "Decorators are useful for:\n",
        "\n",
        "- **Code Reusability**: Encapsulate common functionality (e.g., logging, authentication).\n",
        "\n",
        "- **Separation of Concerns**: Keep core logic separate from auxiliary tasks.\n",
        "\n",
        "- **Enhanced Readability**: Apply functionality declaratively using the `@decorator_name` syntax.\n",
        "\n",
        "## Part 2: Simple Examples\n",
        "\n",
        "### Example 1: `@classmethod`\n",
        "\n",
        "A `@classmethod` is a method bound to the class, not the instance. It receives the class (`cls`) as the first argument and can modify class state.\n"
      ]
    },
    {
      "cell_type": "code",
      "source": [
        "class Employee:\n",
        "    raise_amount = 1.05\n",
        "\n",
        "    def __init__(self, name, salary):\n",
        "        self.name = name\n",
        "        self.salary = salary\n",
        "\n",
        "    @classmethod\n",
        "    def set_raise_amount(cls, amount):\n",
        "        cls.raise_amount = amount\n",
        "\n",
        "# Usage\n",
        "Employee.set_raise_amount(1.10)\n",
        "print(Employee.raise_amount)  # Output: 1.1"
      ],
      "metadata": {
        "colab": {
          "base_uri": "https://localhost:8080/"
        },
        "id": "h73Tvl_x3RR4",
        "outputId": "3583d65d-b4c8-4cce-a6d8-41854e136592"
      },
      "id": "h73Tvl_x3RR4",
      "execution_count": null,
      "outputs": [
        {
          "output_type": "stream",
          "name": "stdout",
          "text": [
            "1.1\n"
          ]
        }
      ]
    },
    {
      "cell_type": "markdown",
      "source": [
        "\n",
        "In this example, `set_raise_amount` modifies the class variable `raise_amount`, affecting all instances of `Employee`.\n",
        "\n",
        "### Example 2: `@staticmethod`\n",
        "\n",
        "A `@staticmethod` does not receive an implicit first argument (neither `self` nor `cls`). It's a method that doesn't access or modify class or instance state."
      ],
      "metadata": {
        "id": "BFf_bGpq3cPq"
      },
      "id": "BFf_bGpq3cPq"
    },
    {
      "cell_type": "code",
      "source": [
        "class MathOperations:\n",
        "    @staticmethod\n",
        "    def add(x, y):\n",
        "        return x + y\n",
        "\n",
        "# Usage\n",
        "result = MathOperations.add(5, 3)\n",
        "print(result)  # Output: 8"
      ],
      "metadata": {
        "colab": {
          "base_uri": "https://localhost:8080/"
        },
        "id": "7oc8sTLM3gmO",
        "outputId": "30c07735-3221-445e-a85a-f4a4d7be60cb"
      },
      "id": "7oc8sTLM3gmO",
      "execution_count": null,
      "outputs": [
        {
          "output_type": "stream",
          "name": "stdout",
          "text": [
            "8\n"
          ]
        }
      ]
    },
    {
      "cell_type": "markdown",
      "source": [
        "\n",
        "Here, `add` is a utility function that logically belongs to the class but doesn't interact with class or instance data.\n",
        "\n",
        "## Part 3: Advanced Example — `@function_tool` in OpenAI Agents SDK\n",
        "\n",
        "In the OpenAI Agents SDK, the `@function_tool` decorator converts a regular Python function into a tool that an AI agent can use.\n",
        "\n",
        "### Example: Creating a News Fetching Tool\n",
        "\n"
      ],
      "metadata": {
        "id": "aNNhTb6J3lnE"
      },
      "id": "aNNhTb6J3lnE"
    },
    {
      "cell_type": "code",
      "source": [
        "from agents import function_tool\n",
        "\n",
        "@function_tool\n",
        "def get_news_articles(topic: str) -> str:\n",
        "    \"\"\"Fetches news articles related to the given topic.\"\"\"\n",
        "    # Simulated implementation\n",
        "    return f\"News articles about {topic}\"\n"
      ],
      "metadata": {
        "id": "cikRZ7Te3pha"
      },
      "id": "cikRZ7Te3pha",
      "execution_count": null,
      "outputs": []
    },
    {
      "cell_type": "markdown",
      "source": [
        "\n",
        "By decorating `get_news_articles` with `@function_tool`, it becomes a callable tool for agents within the SDK. The decorator handles:\n",
        "\n",
        "- Parsing the function signature to create a JSON schema for parameters.\n",
        "\n",
        "- Using the docstring to describe the tool's purpose.\n",
        "\n",
        "This integration allows agents to understand and utilize the function effectively.\n",
        "\n",
        "## Part 4: Behind the Scenes — Creating Custom Decorators\n",
        "\n",
        "### Understanding Decorators\n",
        "\n",
        "A decorator is essentially a function that takes another function as an argument, adds some functionality, and returns another function.\n",
        "\n",
        "### Example: Creating a Simple Logging Decorator\n",
        "\n"
      ],
      "metadata": {
        "id": "c4gxu8h93pFM"
      },
      "id": "c4gxu8h93pFM"
    },
    {
      "cell_type": "code",
      "source": [
        "import functools\n",
        "\n",
        "def log_decorator(func):\n",
        "    @functools.wraps(func)\n",
        "    def wrapper(*args, **kwargs):\n",
        "        print(f\"Calling function: {func.__name__}\")\n",
        "        result = func(*args, **kwargs)\n",
        "        print(f\"Function {func.__name__} completed\")\n",
        "        return result\n",
        "    return wrapper\n",
        "\n",
        "@log_decorator\n",
        "def greet(name):\n",
        "    print(f\"Hello, {name}!\")\n",
        "\n",
        "# Usage\n",
        "greet(\"Alice\")"
      ],
      "metadata": {
        "colab": {
          "base_uri": "https://localhost:8080/"
        },
        "id": "RmtY9tCb3yKh",
        "outputId": "e00c91ff-cbc4-407d-de93-044d684eace2"
      },
      "id": "RmtY9tCb3yKh",
      "execution_count": null,
      "outputs": [
        {
          "output_type": "stream",
          "name": "stdout",
          "text": [
            "Calling function: greet\n",
            "Hello, Alice!\n",
            "Function greet completed\n"
          ]
        }
      ]
    },
    {
      "cell_type": "markdown",
      "source": [
        "\n",
        "## How It Works\n",
        "\n",
        "1. `log_decorator`: Accepts the original function `func` as an argument.\n",
        "\n",
        "2. `wrapper`: Defines a new function that adds logging before and after calling `func`.\n",
        "\n",
        "3. `@functools.wraps(func)`: Preserves the original function's metadata (e.g., name, docstring).\n",
        "\n",
        "4. `@log_decorator`: Applies the decorator to `greet`, replacing it with `wrapper`.\n",
        "\n"
      ],
      "metadata": {
        "id": "qMd43Awb208j"
      },
      "id": "qMd43Awb208j"
    },
    {
      "cell_type": "markdown",
      "source": [
        "## Summary\n",
        "\n",
        "- **Decorators**: Functions that modify the behavior of other functions or methods.\n",
        "\n",
        "- `@classmethod`: Methods that receive the class as the first argument, used to access or modify class state.\n",
        "\n",
        "- `@staticmethod`: Methods that do not receive an implicit first argument, used for utility functions.\n",
        "\n",
        "- `@function_tool`: Decorator from OpenAI Agents SDK that registers a function as a tool for AI agents.\n",
        "\n",
        "- **Custom Decorators**: Created by defining a function that returns a wrapper function, allowing for added functionality like logging.\n",
        "\n",
        "By understanding and utilizing decorators, you can write more modular, readable, and maintainable Python code."
      ],
      "metadata": {
        "id": "V-U5jJqi2225"
      },
      "id": "V-U5jJqi2225"
    },
    {
      "cell_type": "markdown",
      "id": "0beef7e9",
      "metadata": {
        "id": "0beef7e9"
      },
      "source": [
        "## Part 5: Docker\n",
        "\n",
        "Here is a convenient tutorial to introduce Docker.\n",
        "\n",
        "In the last section, this also covers an answer to a question in Week 6 - what does it mean to run an MCP server in Docker? But you can ignore this question if you're not on week 6 yet.\n",
        "\n",
        "https://chatgpt.com/share/6814bc1d-2f3c-8012-9b18-dddc82ea421b\n",
        "\n",
        "\n",
        "# 🧱 Part 1: Introductory Foundations\n",
        "\n",
        "## What Is Docker?\n",
        "\n",
        "Docker is a platform that enables developers to package applications and their dependencies into containers. This ensures consistent performance across different environments.\n",
        "\n",
        "### Key Concepts\n",
        "\n",
        "- **Container**: A lightweight, standalone executable package that includes everything needed to run a piece of software.\n",
        "\n",
        "- **Image**: A read-only template used to create containers.\n",
        "\n",
        "- **Docker Engine**: The core software that runs and manages containers.\n",
        "\n",
        "### Docker vs. Virtual Machines (VMs)\n",
        "\n",
        "| Feature           | Docker Containers         | Virtual Machines (VMs)    |\n",
        "|-------------------|--------------------------|---------------------------|\n",
        "| OS Layer          | Share host OS kernel      | Include full guest OS     |\n",
        "| Resource Usage    | Lightweight              | Resource-intensive        |\n",
        "| Startup Time      | Seconds                  | Minutes                   |\n",
        "| Portability       | High                     | Moderate                  |\n",
        "| Isolation Level   | Process-level            | Full OS-level             |\n",
        "\n",
        "Containers share the host system's kernel, making them more lightweight compared to VMs, which require a full guest OS.\n",
        "\n",
        "## 🧪 Part 2: Experimenting with Docker\n",
        "\n",
        "### Installing Docker\n",
        "\n",
        "**On macOS**:\n",
        "\n",
        "1. Download Docker Desktop from the official site.\n",
        "Docker Documentation\n",
        "\n",
        "2. Open the downloaded `.dmg` file and drag Docker to the Applications folder.\n",
        "\n",
        "3. Launch Docker Desktop and follow the setup instructions.\n",
        "\n",
        "**On Windows**:\n",
        "\n",
        "1. Download Docker Desktop from the official site.\n",
        "\n",
        "2. Run the installer and follow the setup instructions.\n",
        "\n",
        "3. After installation, launch Docker Desktop.\n",
        "\n",
        "### Running a Simple Python Command\n",
        "\n",
        "To execute a simple Python command (`2 + 2`) inside a Docker container:\n",
        "\n",
        "```bash\n",
        "docker run --rm python:3.9 python -c \"print(2 + 2)\"\n",
        "```\n",
        "- `docker run`: Runs a command in a new container.\n",
        "\n",
        "- `--rm`: Automatically removes the container after it exits.\n",
        "\n",
        "- `python:3.9`: Specifies the Docker image to use.\n",
        "\n",
        "- `python -c \"print(2 + 2)\"`: The command executed inside the container.\n",
        "\n",
        "### Understanding the Execution Environment\n",
        "\n",
        "When you run the above command, Docker:\n",
        "\n",
        "- Downloads the `python:3.9` image (if not already available).\n",
        "\n",
        "- Creates a new container from this image.\n",
        "\n",
        "- Executes the Python command inside the container.\n",
        "\n",
        "- Removes the container after execution due to the `--rm` flag.\n",
        "\n",
        "This process ensures that the Python environment is isolated from your host system.\n",
        "\n",
        "## ✅ Part 3: Pros & Cons of Docker\n",
        "\n",
        "### Advantages\n",
        "\n",
        "**Portability**: Docker containers can run on any system with Docker installed, ensuring consistent environments across development, testing, and production.\n",
        "\n",
        "**Resource Efficiency**: Containers are lightweight and share the host OS kernel, leading to efficient resource utilization.\n",
        "\n",
        "**Scalability**: Docker makes it easy to scale applications horizontally by running multiple container instances.\n",
        "\n",
        "**Isolation**: Containers provide process-level isolation, enhancing security and stability.\n",
        "\n",
        "### Drawbacks\n",
        "\n",
        "**Security Concerns**: Since containers share the host OS kernel, a vulnerability in the kernel can affect all containers.\n",
        "\n",
        "**Persistent Storage**: Managing data persistence requires additional configurations, such as mounting volumes.\n",
        "\n",
        "**Complex Networking**: Networking between containers and the host or external systems can be complex to configure.\n",
        "\n",
        "## 🛠️ Part 4: Essential Docker Commands\n",
        "\n",
        "| Command                           | Description                                 |\n",
        "|------------------------------------|---------------------------------------------|\n",
        "| docker run                        | Runs a command in a new container           |\n",
        "| docker ps                         | Lists running containers                    |\n",
        "| docker ps -a                      | Lists all containers (running and stopped)  |\n",
        "| docker images                     | Lists all Docker images on the system       |\n",
        "| docker pull <image>               | Downloads an image from Docker Hub          |\n",
        "| docker build -t <name> .          | Builds an image from a Dockerfile           |\n",
        "| docker exec -it <container> bash  | Starts a bash session in a running container|\n",
        "| docker stop <container>           | Stops a running container                   |\n",
        "| docker rm <container>             | Removes a stopped container                 |\n",
        "| docker rmi <image>                | Removes a Docker image                      |\n",
        "\n",
        "## 🧩 Part 5: Applying Docker to MCP\n",
        "\n",
        "Anthropic's Model Context Protocol (MCP) allows AI models to interact with tools and data sources securely. Docker plays a crucial role in this ecosystem by providing isolated environments for MCP servers. This isolation ensures that AI models can execute code or access data without affecting the host system.\n",
        "\n",
        "For instance, developers can run MCP servers in Docker containers, ensuring consistent environments and simplifying deployment."
      ]
    },
    {
      "cell_type": "code",
      "execution_count": null,
      "id": "73e215b2",
      "metadata": {
        "id": "73e215b2"
      },
      "outputs": [],
      "source": [
        "# You need to install docker to run this example\n",
        "# This will download the Docker image for python 3.12, create a container,\n",
        "# Run some python code and print the result\n",
        "\n",
        "!docker run --rm python:3.12 python -c \"print(2 + 2)\""
      ]
    }
  ],
  "metadata": {
    "kernelspec": {
      "display_name": ".venv",
      "language": "python",
      "name": "python3"
    },
    "language_info": {
      "codemirror_mode": {
        "name": "ipython",
        "version": 3
      },
      "file_extension": ".py",
      "mimetype": "text/x-python",
      "name": "python",
      "nbconvert_exporter": "python",
      "pygments_lexer": "ipython3",
      "version": "3.12.9"
    },
    "colab": {
      "provenance": []
    }
  },
  "nbformat": 4,
  "nbformat_minor": 5
}