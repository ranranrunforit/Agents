{
  "cells": [
    {
      "cell_type": "markdown",
      "id": "5c291475-8c7c-461c-9b12-545a887b2432",
      "metadata": {
        "id": "5c291475-8c7c-461c-9b12-545a887b2432"
      },
      "source": [
        "# Async Python\n",
        "\n",
        "## A briefing on asynchronous python coding, essential in Agent engineering"
      ]
    },
    {
      "cell_type": "markdown",
      "id": "538fa044",
      "metadata": {
        "id": "538fa044"
      },
      "source": [
        "Here is a masterful tutorial by you-know-who with exercises and comparisons.\n",
        "\n",
        "https://chatgpt.com/share/680648b1-b0a0-8012-8449-4f90b540886c\n",
        "\n",
        "This includes how to run async code from a python module.\n"
      ]
    },
    {
      "cell_type": "markdown",
      "source": [
        "# 📘 Async Python Tutorial\n",
        "\n",
        "## Part 1: Introduction to Async – What, Why, and How?\n",
        "\n",
        "### 🔄 What Is Async Python?\n",
        "\n",
        "Async Python is a way to write code that doesn’t block. Instead of stopping everything while waiting for an operation to finish (like a web request, file read, or sleep), async Python lets other things run during the wait.\n",
        "\n",
        "This is especially useful for **I/O-bound** operations — things that are slow because of external resources (like the internet or disk), not your CPU.\n",
        "\n",
        "### 🤹 Async vs Threads vs Multiprocessing\n",
        "\n",
        "| Feature      | `asyncio` (Async)      | Threads                | Multiprocessing      |\n",
        "|--------------|----------------------|------------------------|---------------------|\n",
        "| Use Case     | I/O-bound tasks      | I/O-bound (sometimes)  | CPU-bound tasks     |\n",
        "| Concurrency  | Cooperative          | Pre-emptive            | True parallelism    |\n",
        "| Overhead     | Low                  | Medium                 | High                |\n",
        "| Complexity   | Medium               | Medium                 | High                |\n",
        "| GIL Aware    | Yes                  | Yes                    | No                  |\n",
        "\n",
        "- **Async** is single-threaded but can handle thousands of concurrent I/O tasks.\n",
        "\n",
        "- **Threads** allow simultaneous operations but can have race conditions and are limited by the GIL (Global Interpreter Lock).\n",
        "\n",
        "- **Multiprocessing** bypasses the GIL and runs in multiple processes, good for CPU-heavy tasks.\n",
        "\n",
        "## Part 2: 🧠 The Event Loop\n",
        "\n",
        "Think of the event loop as a conductor managing multiple instruments — tasks. It checks when a task is ready and then runs it, pausing it when it has to wait, and switching to another task."
      ],
      "metadata": {
        "id": "-foH9qF7s1xe"
      },
      "id": "-foH9qF7s1xe"
    },
    {
      "cell_type": "code",
      "source": [
        "import asyncio\n",
        "\n",
        "async def say_hello():\n",
        "    print(\"Hello\")\n",
        "    await asyncio.sleep(1)  # Pause here, switch to other tasks\n",
        "    print(\"World\")\n",
        "\n",
        "asyncio.run(say_hello())"
      ],
      "metadata": {
        "id": "mAEqEqhdtROQ"
      },
      "id": "mAEqEqhdtROQ",
      "execution_count": null,
      "outputs": []
    },
    {
      "cell_type": "markdown",
      "source": [
        "Behind the scenes:\n",
        "\n",
        "`say_hello()` is a coroutine.\n",
        "\n",
        "`asyncio.run()` starts an event loop.\n",
        "\n",
        "When `await asyncio.sleep(1)` is hit, the event loop pauses `say_hello` and can run other coroutines.\n",
        "\n",
        "## Part 3: ✅ `async def` and `await`\n",
        "\n",
        "### Basic Usage\n",
        "\n"
      ],
      "metadata": {
        "id": "2LWEgUa8so5k"
      },
      "id": "2LWEgUa8so5k"
    },
    {
      "cell_type": "code",
      "source": [
        "import asyncio\n",
        "\n",
        "async def greet(name):\n",
        "    print(f\"Hello, {name}\")\n",
        "    await asyncio.sleep(1)\n",
        "    print(f\"Goodbye, {name}\")\n",
        "\n",
        "async def main():\n",
        "    await greet(\"Alice\")\n",
        "\n",
        "asyncio.run(main())"
      ],
      "metadata": {
        "id": "YXRbF5qxthvq"
      },
      "id": "YXRbF5qxthvq",
      "execution_count": null,
      "outputs": []
    },
    {
      "cell_type": "markdown",
      "source": [
        "### You must:\n",
        "\n",
        "✅ Use `async def` to define coroutines\n",
        "\n",
        "✅ Use `` only inside `async def`\n",
        "\n",
        "❌ Cannot use `await` at top-level (in scripts or modules) unless inside `asyncio.run()`\n",
        "\n",
        "✅ Return values from async functions with `return`\n",
        "\n",
        "## Part 4: Running Async Code from Cursor\n",
        "\n",
        "✅ From a Python Module (e.g. `main.py`)\n",
        "\n",
        "\n"
      ],
      "metadata": {
        "id": "lSC16GH7tigv"
      },
      "id": "lSC16GH7tigv"
    },
    {
      "cell_type": "code",
      "source": [
        "# main.py\n",
        "import asyncio\n",
        "\n",
        "async def work():\n",
        "    await asyncio.sleep(1)\n",
        "    print(\"Async done!\")\n",
        "\n",
        "if __name__ == \"__main__\":\n",
        "    asyncio.run(work())\n"
      ],
      "metadata": {
        "id": "Dkiyxj-oTRNZ"
      },
      "id": "Dkiyxj-oTRNZ",
      "execution_count": null,
      "outputs": []
    },
    {
      "cell_type": "markdown",
      "source": [
        "✅ Just run `python main.py` in the terminal.\n",
        "\n",
        "✅ From a Notebook (in Cursor or Jupyter)\n",
        "\n",
        "Notebooks support top-level `await`!\n"
      ],
      "metadata": {
        "id": "BgDU-JtjTVEI"
      },
      "id": "BgDU-JtjTVEI"
    },
    {
      "cell_type": "code",
      "source": [
        "import asyncio\n",
        "\n",
        "async def hello():\n",
        "    await asyncio.sleep(1)\n",
        "    print(\"Hello from notebook!\")\n",
        "\n",
        "await hello()  # works fine!"
      ],
      "metadata": {
        "id": "VsgQYUPZTc6t"
      },
      "id": "VsgQYUPZTc6t",
      "execution_count": null,
      "outputs": []
    },
    {
      "cell_type": "markdown",
      "source": [
        "💡 You can also use `nest_asyncio` if you're embedding event loops (e.g., in some servers or LLM apps).\n",
        "\n",
        "## Part 5: Async Code in Gradio Callbacks\n",
        "\n",
        "Gradio lets you use `async def` directly for event handlers like button clicks.\n",
        "\n"
      ],
      "metadata": {
        "id": "bBGNvKf0TiFR"
      },
      "id": "bBGNvKf0TiFR"
    },
    {
      "cell_type": "code",
      "source": [
        "import gradio as gr\n",
        "import asyncio\n",
        "\n",
        "async def slow_response(name):\n",
        "    await asyncio.sleep(2)\n",
        "    return f\"Hello, {name}! (after waiting)\"\n",
        "\n",
        "gr.Interface(fn=slow_response, inputs=\"text\", outputs=\"text\").launch()"
      ],
      "metadata": {
        "id": "FIqzC9JmTlaM"
      },
      "id": "FIqzC9JmTlaM",
      "execution_count": null,
      "outputs": []
    },
    {
      "cell_type": "markdown",
      "source": [
        "🎉 It just works! Gradio uses `asyncio` under the hood.\n",
        "\n",
        "## Part 6: Advanced Async – `asyncio.gather`\n",
        "\n",
        "### Run multiple coroutines concurrently\n",
        "\n"
      ],
      "metadata": {
        "id": "kT8yHPDmTrTT"
      },
      "id": "kT8yHPDmTrTT"
    },
    {
      "cell_type": "code",
      "source": [
        "import asyncio\n",
        "\n",
        "async def task(name, delay):\n",
        "    await asyncio.sleep(delay)\n",
        "    print(f\"{name} done after {delay}s\")\n",
        "    return name\n",
        "\n",
        "async def main():\n",
        "    results = await asyncio.gather(\n",
        "        task(\"A\", 1),\n",
        "        task(\"B\", 2),\n",
        "        task(\"C\", 3)\n",
        "    )\n",
        "    print(results)\n",
        "\n",
        "asyncio.run(main())\n"
      ],
      "metadata": {
        "id": "IqlPj2dCTuSs"
      },
      "id": "IqlPj2dCTuSs",
      "execution_count": null,
      "outputs": []
    },
    {
      "cell_type": "markdown",
      "source": [
        "🧠 This runs all tasks *in parallel* (as far as I/O waits are concerned).\n",
        "\n",
        "## Part 7: Tips, Traps, and Techniques\n",
        "\n",
        "### ✅ Tips\n",
        "\n",
        "- Use `asyncio.gather` to parallelize I/O-bound calls\n",
        "\n",
        "- Use `async for` and `async with` for async iterators and context managers\n",
        "\n",
        "- Use `anyio` or `trio` for higher-level async if needed\n",
        "\n",
        "### ⚠️ Common Traps\n",
        "\n",
        "| Trap                                 | Fix                              |\n",
        "|---------------------------------------|----------------------------------|\n",
        "| Trying to `await` at top-level in a script | Use `asyncio.run()`               |\n",
        "| Mixing `threading` and `asyncio`          | Avoid or use with care           |\n",
        "| Forgetting `await`                     | You’ll get a coroutine object and nothing runs |\n",
        "| Blocking call (e.g., `time.sleep`)      | Use `await asyncio.sleep()` instead|\n",
        "\n",
        "### 🔧 Debugging\n",
        "\n",
        "Use:\n"
      ],
      "metadata": {
        "id": "kF2poB2jTxI7"
      },
      "id": "kF2poB2jTxI7"
    },
    {
      "cell_type": "code",
      "source": [
        "import asyncio\n",
        "asyncio.get_running_loop().is_running()"
      ],
      "metadata": {
        "id": "HfaP1dKdUEnH"
      },
      "id": "HfaP1dKdUEnH",
      "execution_count": null,
      "outputs": []
    },
    {
      "cell_type": "markdown",
      "source": [
        "\n",
        "…to verify if you're inside a running event loop.\n",
        "\n",
        "## Part 8: Exercises to Try in a Notebook in Cursor\n",
        "\n",
        "### Exercise 1 – Basic Coroutine\n",
        "\n",
        "Write a coroutine that:\n",
        "\n",
        "- Takes a name\n",
        "\n",
        "- Waits 2 seconds\n",
        "\n",
        "- Prints “Hello, [name]!”\n",
        "\n",
        "### Exercise 2 – Parallel Coroutines\n",
        "\n",
        "Write three async functions:\n",
        "\n",
        "- `fetch_data()`\n",
        "\n",
        "- `process_data()`\n",
        "\n",
        "- `save_data()`\n",
        "\n",
        "Each should wait 1 second and return a string. Use `asyncio.gather()` to run all three.\n",
        "\n",
        "### Exercise 3 – Async Countdown\n",
        "\n",
        "Write a coroutine that counts down from 5 to 1 with a 1-second wait in between each number.\n",
        "\n",
        "### Exercise 4 – Compare Blocking vs Async\n",
        "\n",
        "Run this and compare how long each takes:\n",
        "\n",
        "```python\n",
        "import time\n",
        "\n",
        "def blocking():\n",
        "    time.sleep(1)\n",
        "    print(\"Blocking done\")\n",
        "\n",
        "async def non_blocking():\n",
        "    await asyncio.sleep(1)\n",
        "    print(\"Async done\")\n",
        "```\n",
        "\n",
        "Create a version of both in a loop of 3 iterations. Time them using `time.time()` and compare.\n",
        "\n",
        "### Exercise 5 – Build a Gradio async app\n",
        "\n",
        "Create a Gradio app that:\n",
        "\n",
        "- Takes a name\n",
        "\n",
        "- Waits 2 seconds\n",
        "\n",
        "- Returns a greeting\n",
        "\n",
        "Try switching the handler between sync and async and measure the difference in responsiveness."
      ],
      "metadata": {
        "id": "REH1Wav8UKId"
      },
      "id": "REH1Wav8UKId"
    },
    {
      "cell_type": "code",
      "source": [
        "# Exercise 1 – Basic Coroutine\n",
        "import asyncio\n",
        "\n",
        "async def greet(name):\n",
        "    await asyncio.sleep(2)\n",
        "    print(f\"Hello, {name}!\")\n",
        "\n",
        "await greet(\"Alice\")\n",
        "\n",
        "# Exercise 2 – Parallel Coroutines\n",
        "async def fetch_data():\n",
        "    await asyncio.sleep(1)\n",
        "    return \"Data fetched\"\n",
        "\n",
        "async def process_data():\n",
        "    await asyncio.sleep(1)\n",
        "    return \"Data processed\"\n",
        "\n",
        "async def save_data():\n",
        "    await asyncio.sleep(1)\n",
        "    return \"Data saved\"\n",
        "\n",
        "results = await asyncio.gather(fetch_data(), process_data(), save_data())\n",
        "print(results)\n",
        "\n",
        "# Exercise 3 – Async Countdown\n",
        "async def async_countdown():\n",
        "    for i in range(5, 0, -1):\n",
        "        print(i)\n",
        "        await asyncio.sleep(1)\n",
        "    print(\"Countdown complete!\")\n",
        "\n",
        "await async_countdown()\n",
        "\n",
        "# Exercise 4 – Compare Blocking vs Async\n",
        "import time\n",
        "\n",
        "def blocking():\n",
        "    time.sleep(1)\n",
        "    print(\"Blocking done\")\n",
        "\n",
        "async def non_blocking():\n",
        "    await asyncio.sleep(1)\n",
        "    print(\"Async done\")\n",
        "\n",
        "# Blocking version\n",
        "start = time.time()\n",
        "for _ in range(3):\n",
        "    blocking()\n",
        "print(\"Blocking total:\", round(time.time() - start, 2), \"seconds\")\n",
        "\n",
        "# Async version\n",
        "start = time.time()\n",
        "await asyncio.gather(non_blocking(), non_blocking(), non_blocking())\n",
        "print(\"Async total:\", round(time.time() - start, 2), \"seconds\")\n",
        "\n",
        "# Exercise 5 – Build a Gradio async app\n",
        "import gradio as gr\n",
        "\n",
        "async def async_greet(name):\n",
        "    await asyncio.sleep(2)\n",
        "    return f\"Hello, {name}!\"\n",
        "\n",
        "def sync_greet(name):\n",
        "    time.sleep(2)\n",
        "    return f\"Hello, {name}!\"\n",
        "\n",
        "# To use async handler:\n",
        "gr.Interface(fn=async_greet, inputs=\"text\", outputs=\"text\", title=\"Async Greeting\").launch()\n",
        "\n",
        "# To use sync handler:\n",
        "gr.Interface(fn=sync_greet, inputs=\"text\", outputs=\"text\", title=\"Sync Greeting\").launch()"
      ],
      "metadata": {
        "id": "txRaiSBYRRvb"
      },
      "id": "txRaiSBYRRvb",
      "execution_count": null,
      "outputs": []
    },
    {
      "cell_type": "markdown",
      "source": [
        "### And now some examples:"
      ],
      "metadata": {
        "id": "oCN3LXRPsxv5"
      },
      "id": "oCN3LXRPsxv5"
    },
    {
      "cell_type": "code",
      "execution_count": null,
      "id": "09f5662a",
      "metadata": {
        "id": "09f5662a"
      },
      "outputs": [],
      "source": [
        "# Let's define an async function\n",
        "\n",
        "import asyncio\n",
        "\n",
        "async def do_some_work():\n",
        "    print(\"Starting work\")\n",
        "    await asyncio.sleep(1)\n",
        "    print(\"Work complete\")\n"
      ]
    },
    {
      "cell_type": "code",
      "execution_count": null,
      "id": "07ab3abf",
      "metadata": {
        "id": "07ab3abf"
      },
      "outputs": [],
      "source": [
        "# What will this do?\n",
        "\n",
        "do_some_work()"
      ]
    },
    {
      "cell_type": "code",
      "execution_count": null,
      "id": "6d681b6d",
      "metadata": {
        "id": "6d681b6d"
      },
      "outputs": [],
      "source": [
        "# OK let's try that again!\n",
        "\n",
        "await do_some_work()"
      ]
    },
    {
      "cell_type": "code",
      "execution_count": null,
      "id": "ea867090",
      "metadata": {
        "id": "ea867090"
      },
      "outputs": [],
      "source": [
        "# What's wrong with this?\n",
        "\n",
        "async def do_a_lot_of_work():\n",
        "    do_some_work()\n",
        "    do_some_work()\n",
        "    do_some_work()\n",
        "\n",
        "await do_a_lot_of_work()"
      ]
    },
    {
      "cell_type": "code",
      "execution_count": null,
      "id": "e9c75c3f",
      "metadata": {
        "id": "e9c75c3f"
      },
      "outputs": [],
      "source": [
        "# Interesting warning! Let's fix it\n",
        "\n",
        "async def do_a_lot_of_work():\n",
        "    await do_some_work()\n",
        "    await do_some_work()\n",
        "    await do_some_work()\n",
        "\n",
        "await do_a_lot_of_work()"
      ]
    },
    {
      "cell_type": "code",
      "execution_count": null,
      "id": "720cf3f5",
      "metadata": {
        "id": "720cf3f5"
      },
      "outputs": [],
      "source": [
        "# And now let's do it in parallel\n",
        "# It's important to recognize that this is not \"multi-threading\" in the way that you may be used to\n",
        "# The asyncio library is running on a single thread, but it's using a loop to switch between tasks while one is waiting\n",
        "\n",
        "async def do_a_lot_of_work_in_parallel():\n",
        "    await asyncio.gather(do_some_work(), do_some_work(), do_some_work())\n",
        "\n",
        "await do_a_lot_of_work_in_parallel()"
      ]
    },
    {
      "cell_type": "markdown",
      "id": "230f85de",
      "metadata": {
        "id": "230f85de"
      },
      "source": [
        "### Finally - try writing a python module that calls do_a_lot_of_work_in_parallel\n",
        "\n",
        "See the link at the top; you'll need something like this in your module:\n",
        "\n",
        "```python\n",
        "if __name__ == \"__main__\":\n",
        "    asyncio.run(do_a_lot_of_work_in_parallel())\n",
        "```"
      ]
    },
    {
      "cell_type": "code",
      "source": [
        "import asyncio\n",
        "\n",
        "async def do_some_work():\n",
        "    print(\"Starting work\")\n",
        "    await asyncio.sleep(1)\n",
        "    print(\"Work complete\")\n",
        "\n",
        "async def do_a_lot_of_work_in_parallel():\n",
        "    await asyncio.gather(\n",
        "        do_some_work(),\n",
        "        do_some_work(),\n",
        "        do_some_work()\n",
        "    )\n",
        "\n",
        "if __name__ == \"__main__\":\n",
        "    asyncio.run(do_a_lot_of_work_in_parallel())"
      ],
      "metadata": {
        "id": "sZroU4QDRSne"
      },
      "id": "sZroU4QDRSne",
      "execution_count": null,
      "outputs": []
    }
  ],
  "metadata": {
    "kernelspec": {
      "display_name": "Python 3",
      "name": "python3"
    },
    "language_info": {
      "codemirror_mode": {
        "name": "ipython",
        "version": 3
      },
      "file_extension": ".py",
      "mimetype": "text/x-python",
      "name": "python",
      "nbconvert_exporter": "python",
      "pygments_lexer": "ipython3",
      "version": "3.12.9"
    },
    "colab": {
      "provenance": []
    }
  },
  "nbformat": 4,
  "nbformat_minor": 5
}